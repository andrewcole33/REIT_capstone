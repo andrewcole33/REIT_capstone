{
 "cells": [
  {
   "cell_type": "code",
   "execution_count": 62,
   "metadata": {},
   "outputs": [],
   "source": [
    "import pandas_datareader as pdr\n",
    "import datetime\n",
    "import matplotlib.pyplot as plt\n",
    "import pandas as pd\n",
    "import warnings"
   ]
  },
  {
   "cell_type": "code",
   "execution_count": 63,
   "metadata": {},
   "outputs": [],
   "source": [
    "start = datetime.datetime(1998,1,1)\n",
    "end = datetime.datetime.now()\n",
    "df = pdr.get_data_yahoo(\"AAPL\", start, end)"
   ]
  },
  {
   "cell_type": "code",
   "execution_count": 79,
   "metadata": {},
   "outputs": [],
   "source": [
    "reit_list = ['AMT', 'CUBE', 'DEI', 'PLD', 'FR', 'MAA', 'MGP', 'MPW', 'WY']\n",
    "reit_dict = {}\n",
    "for name in reit_list:\n",
    "    reit_dict[name] = pdr.get_data_yahoo(name, start, end)['Adj Close']\n",
    "    "
   ]
  },
  {
   "cell_type": "code",
   "execution_count": 105,
   "metadata": {},
   "outputs": [],
   "source": [
    "mortgage_df = pd.read_csv('data/30mortgage_rates.csv', skiprows = 14)\n",
    "mortgage_df.columns = ['date', 'mortgage_rate']\n",
    "mortgage_df.set_index('date', inplace = True)\n",
    "mortgage_df = mortgage_df[::-1]\n",
    "mortgage_df = mortgage_df.loc[mortgage_df.index >= '1998']"
   ]
  }
 ],
 "metadata": {
  "kernelspec": {
   "display_name": "Python 3",
   "language": "python",
   "name": "python3"
  },
  "language_info": {
   "codemirror_mode": {
    "name": "ipython",
    "version": 3
   },
   "file_extension": ".py",
   "mimetype": "text/x-python",
   "name": "python",
   "nbconvert_exporter": "python",
   "pygments_lexer": "ipython3",
   "version": "3.6.9"
  }
 },
 "nbformat": 4,
 "nbformat_minor": 4
}
