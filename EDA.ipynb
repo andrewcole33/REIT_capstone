{
 "cells": [
  {
   "cell_type": "code",
   "execution_count": 2,
   "metadata": {},
   "outputs": [],
   "source": [
    "import pandas_datareader as pdr\n",
    "import datetime\n",
    "import matplotlib.pyplot as plt\n",
    "import pandas as pd\n",
    "import numpy as np\n",
    "import warnings\n",
    "warnings.filterwarnings('ignore')\n",
    "\n",
    "import itertools\n",
    "import statsmodels.api as sm\n",
    "from statsmodels.tsa.stattools import adfuller\n",
    "from statsmodels.tsa.seasonal import seasonal_decompose\n",
    "from statsmodels.graphics.tsaplots import plot_pacf\n",
    "from statsmodels.graphics.tsaplots import plot_acf\n",
    "\n",
    "%matplotlib inline"
   ]
  },
  {
   "cell_type": "code",
   "execution_count": 3,
   "metadata": {},
   "outputs": [],
   "source": [
    "start = datetime.datetime(1998,1,1)\n",
    "end = datetime.datetime.now()"
   ]
  },
  {
   "cell_type": "code",
   "execution_count": 4,
   "metadata": {},
   "outputs": [],
   "source": [
    "AMT = pdr.get_data_yahoo('AMT', start, end)\n",
    "AMT['Name'] = pd.Series()\n",
    "AMT['Name'] = 'AMT'\n",
    "\n",
    "CUBE = pdr.get_data_yahoo('CUBE', start, end)\n",
    "CUBE['Name'] = pd.Series()\n",
    "CUBE['Name'] = 'CUBE'\n",
    "\n",
    "ELS = pdr.get_data_yahoo('ELS', start, end)\n",
    "ELS['Name'] = pd.Series()\n",
    "ELS['Name'] = 'ELS'\n",
    "\n",
    "PLD = pdr.get_data_yahoo('PLD', start, end)\n",
    "PLD['Name'] = pd.Series()\n",
    "PLD['Name'] = 'PLD'\n",
    "\n",
    "FR = pdr.get_data_yahoo('FR', start, end)\n",
    "FR['Name'] = pd.Series()\n",
    "FR['Name'] = 'FR'\n",
    "\n",
    "MAA = pdr.get_data_yahoo('MAA', start, end)\n",
    "MAA['Name'] = pd.Series()\n",
    "MAA['Name'] = 'MAA'\n",
    "\n",
    "SUI = pdr.get_data_yahoo('SUI', start, end)\n",
    "SUI['Name'] = pd.Series()\n",
    "SUI['Name'] = 'SUI'\n",
    "\n",
    "BXMT = pdr.get_data_yahoo('BXMT', start, end)\n",
    "BXMT['Name'] = pd.Series()\n",
    "BXMT['Name'] = 'BXMT'\n",
    "\n",
    "RHP = pdr.get_data_yahoo('RHP', start, end)\n",
    "RHP['Name'] = pd.Series()\n",
    "RHP['Name'] = 'RHP'"
   ]
  },
  {
   "cell_type": "code",
   "execution_count": 6,
   "metadata": {},
   "outputs": [],
   "source": [
    "reit_df_list = [AMT, CUBE, ELS, PLD, FR, MAA, SUI, BXMT, RHP]\n",
    "for reit in reit_df_list:\n",
    "    reit.index = pd.to_datetime(reit.index)"
   ]
  },
  {
   "cell_type": "code",
   "execution_count": 7,
   "metadata": {},
   "outputs": [],
   "source": [
    "daily_reit_dfs = AMT.append([CUBE, ELS, PLD, FR, MAA, SUI, BXMT, RHP])"
   ]
  },
  {
   "cell_type": "code",
   "execution_count": 8,
   "metadata": {},
   "outputs": [],
   "source": [
    "daily_columns = daily_reit_dfs.columns.tolist()\n",
    "daily_columns = daily_columns[-1:] + daily_columns[:-1]\n",
    "daily_reit_dfs = daily_reit_dfs[daily_columns]"
   ]
  },
  {
   "cell_type": "code",
   "execution_count": 9,
   "metadata": {},
   "outputs": [
    {
     "data": {
      "text/html": [
       "<div>\n",
       "<style scoped>\n",
       "    .dataframe tbody tr th:only-of-type {\n",
       "        vertical-align: middle;\n",
       "    }\n",
       "\n",
       "    .dataframe tbody tr th {\n",
       "        vertical-align: top;\n",
       "    }\n",
       "\n",
       "    .dataframe thead th {\n",
       "        text-align: right;\n",
       "    }\n",
       "</style>\n",
       "<table border=\"1\" class=\"dataframe\">\n",
       "  <thead>\n",
       "    <tr style=\"text-align: right;\">\n",
       "      <th></th>\n",
       "      <th>Name</th>\n",
       "      <th>High</th>\n",
       "      <th>Low</th>\n",
       "      <th>Open</th>\n",
       "      <th>Close</th>\n",
       "      <th>Volume</th>\n",
       "      <th>Adj Close</th>\n",
       "    </tr>\n",
       "    <tr>\n",
       "      <th>Date</th>\n",
       "      <th></th>\n",
       "      <th></th>\n",
       "      <th></th>\n",
       "      <th></th>\n",
       "      <th></th>\n",
       "      <th></th>\n",
       "      <th></th>\n",
       "    </tr>\n",
       "  </thead>\n",
       "  <tbody>\n",
       "    <tr>\n",
       "      <td>1998-02-27</td>\n",
       "      <td>AMT</td>\n",
       "      <td>18.000000</td>\n",
       "      <td>17.375000</td>\n",
       "      <td>17.375000</td>\n",
       "      <td>17.375000</td>\n",
       "      <td>50000.0</td>\n",
       "      <td>14.991437</td>\n",
       "    </tr>\n",
       "    <tr>\n",
       "      <td>1998-03-02</td>\n",
       "      <td>AMT</td>\n",
       "      <td>17.250000</td>\n",
       "      <td>17.000000</td>\n",
       "      <td>17.250000</td>\n",
       "      <td>17.250000</td>\n",
       "      <td>75000.0</td>\n",
       "      <td>14.883590</td>\n",
       "    </tr>\n",
       "    <tr>\n",
       "      <td>1998-03-03</td>\n",
       "      <td>AMT</td>\n",
       "      <td>17.125000</td>\n",
       "      <td>16.750000</td>\n",
       "      <td>17.125000</td>\n",
       "      <td>17.125000</td>\n",
       "      <td>35000.0</td>\n",
       "      <td>14.775733</td>\n",
       "    </tr>\n",
       "    <tr>\n",
       "      <td>1998-03-04</td>\n",
       "      <td>AMT</td>\n",
       "      <td>15.750000</td>\n",
       "      <td>15.500000</td>\n",
       "      <td>15.750000</td>\n",
       "      <td>15.750000</td>\n",
       "      <td>60000.0</td>\n",
       "      <td>13.589359</td>\n",
       "    </tr>\n",
       "    <tr>\n",
       "      <td>1998-03-05</td>\n",
       "      <td>AMT</td>\n",
       "      <td>16.125000</td>\n",
       "      <td>16.125000</td>\n",
       "      <td>16.125000</td>\n",
       "      <td>16.125000</td>\n",
       "      <td>400.0</td>\n",
       "      <td>13.912916</td>\n",
       "    </tr>\n",
       "    <tr>\n",
       "      <td>...</td>\n",
       "      <td>...</td>\n",
       "      <td>...</td>\n",
       "      <td>...</td>\n",
       "      <td>...</td>\n",
       "      <td>...</td>\n",
       "      <td>...</td>\n",
       "      <td>...</td>\n",
       "    </tr>\n",
       "    <tr>\n",
       "      <td>2020-01-28</td>\n",
       "      <td>RHP</td>\n",
       "      <td>87.650002</td>\n",
       "      <td>86.239998</td>\n",
       "      <td>86.239998</td>\n",
       "      <td>87.330002</td>\n",
       "      <td>326800.0</td>\n",
       "      <td>87.330002</td>\n",
       "    </tr>\n",
       "    <tr>\n",
       "      <td>2020-01-29</td>\n",
       "      <td>RHP</td>\n",
       "      <td>87.769997</td>\n",
       "      <td>86.269997</td>\n",
       "      <td>87.410004</td>\n",
       "      <td>87.019997</td>\n",
       "      <td>201500.0</td>\n",
       "      <td>87.019997</td>\n",
       "    </tr>\n",
       "    <tr>\n",
       "      <td>2020-01-30</td>\n",
       "      <td>RHP</td>\n",
       "      <td>86.830002</td>\n",
       "      <td>86.070000</td>\n",
       "      <td>86.370003</td>\n",
       "      <td>86.699997</td>\n",
       "      <td>289700.0</td>\n",
       "      <td>86.699997</td>\n",
       "    </tr>\n",
       "    <tr>\n",
       "      <td>2020-01-31</td>\n",
       "      <td>RHP</td>\n",
       "      <td>86.650002</td>\n",
       "      <td>84.239998</td>\n",
       "      <td>86.440002</td>\n",
       "      <td>85.029999</td>\n",
       "      <td>362800.0</td>\n",
       "      <td>85.029999</td>\n",
       "    </tr>\n",
       "    <tr>\n",
       "      <td>2020-02-03</td>\n",
       "      <td>RHP</td>\n",
       "      <td>86.639999</td>\n",
       "      <td>85.050003</td>\n",
       "      <td>85.239998</td>\n",
       "      <td>86.639999</td>\n",
       "      <td>40215.0</td>\n",
       "      <td>86.639999</td>\n",
       "    </tr>\n",
       "  </tbody>\n",
       "</table>\n",
       "<p>48264 rows × 7 columns</p>\n",
       "</div>"
      ],
      "text/plain": [
       "           Name       High        Low       Open      Close    Volume  \\\n",
       "Date                                                                    \n",
       "1998-02-27  AMT  18.000000  17.375000  17.375000  17.375000   50000.0   \n",
       "1998-03-02  AMT  17.250000  17.000000  17.250000  17.250000   75000.0   \n",
       "1998-03-03  AMT  17.125000  16.750000  17.125000  17.125000   35000.0   \n",
       "1998-03-04  AMT  15.750000  15.500000  15.750000  15.750000   60000.0   \n",
       "1998-03-05  AMT  16.125000  16.125000  16.125000  16.125000     400.0   \n",
       "...         ...        ...        ...        ...        ...       ...   \n",
       "2020-01-28  RHP  87.650002  86.239998  86.239998  87.330002  326800.0   \n",
       "2020-01-29  RHP  87.769997  86.269997  87.410004  87.019997  201500.0   \n",
       "2020-01-30  RHP  86.830002  86.070000  86.370003  86.699997  289700.0   \n",
       "2020-01-31  RHP  86.650002  84.239998  86.440002  85.029999  362800.0   \n",
       "2020-02-03  RHP  86.639999  85.050003  85.239998  86.639999   40215.0   \n",
       "\n",
       "            Adj Close  \n",
       "Date                   \n",
       "1998-02-27  14.991437  \n",
       "1998-03-02  14.883590  \n",
       "1998-03-03  14.775733  \n",
       "1998-03-04  13.589359  \n",
       "1998-03-05  13.912916  \n",
       "...               ...  \n",
       "2020-01-28  87.330002  \n",
       "2020-01-29  87.019997  \n",
       "2020-01-30  86.699997  \n",
       "2020-01-31  85.029999  \n",
       "2020-02-03  86.639999  \n",
       "\n",
       "[48264 rows x 7 columns]"
      ]
     },
     "execution_count": 9,
     "metadata": {},
     "output_type": "execute_result"
    }
   ],
   "source": [
    "daily_reit_dfs"
   ]
  },
  {
   "cell_type": "code",
   "execution_count": 10,
   "metadata": {},
   "outputs": [],
   "source": [
    "#Create a daily lag to represent the price one day back. This will all for 'daily returns'\n",
    "daily_reit_dfs['Daily Lag'] = daily_reit_dfs['Close'].shift(1)"
   ]
  },
  {
   "cell_type": "code",
   "execution_count": 11,
   "metadata": {},
   "outputs": [],
   "source": [
    "daily_reit_dfs['Daily Returns'] = (daily_reit_dfs['Daily Lag']/daily_reit_dfs['Close']) - 1"
   ]
  },
  {
   "cell_type": "code",
   "execution_count": 12,
   "metadata": {},
   "outputs": [
    {
     "data": {
      "text/html": [
       "<div>\n",
       "<style scoped>\n",
       "    .dataframe tbody tr th:only-of-type {\n",
       "        vertical-align: middle;\n",
       "    }\n",
       "\n",
       "    .dataframe tbody tr th {\n",
       "        vertical-align: top;\n",
       "    }\n",
       "\n",
       "    .dataframe thead th {\n",
       "        text-align: right;\n",
       "    }\n",
       "</style>\n",
       "<table border=\"1\" class=\"dataframe\">\n",
       "  <thead>\n",
       "    <tr style=\"text-align: right;\">\n",
       "      <th></th>\n",
       "      <th>Name</th>\n",
       "      <th>High</th>\n",
       "      <th>Low</th>\n",
       "      <th>Open</th>\n",
       "      <th>Close</th>\n",
       "      <th>Volume</th>\n",
       "      <th>Adj Close</th>\n",
       "      <th>Daily Lag</th>\n",
       "      <th>Daily Returns</th>\n",
       "    </tr>\n",
       "    <tr>\n",
       "      <th>Date</th>\n",
       "      <th></th>\n",
       "      <th></th>\n",
       "      <th></th>\n",
       "      <th></th>\n",
       "      <th></th>\n",
       "      <th></th>\n",
       "      <th></th>\n",
       "      <th></th>\n",
       "      <th></th>\n",
       "    </tr>\n",
       "  </thead>\n",
       "  <tbody>\n",
       "    <tr>\n",
       "      <td>1998-02-27</td>\n",
       "      <td>AMT</td>\n",
       "      <td>18.000000</td>\n",
       "      <td>17.375000</td>\n",
       "      <td>17.375000</td>\n",
       "      <td>17.375000</td>\n",
       "      <td>50000.0</td>\n",
       "      <td>14.991437</td>\n",
       "      <td>NaN</td>\n",
       "      <td>NaN</td>\n",
       "    </tr>\n",
       "    <tr>\n",
       "      <td>1998-03-02</td>\n",
       "      <td>AMT</td>\n",
       "      <td>17.250000</td>\n",
       "      <td>17.000000</td>\n",
       "      <td>17.250000</td>\n",
       "      <td>17.250000</td>\n",
       "      <td>75000.0</td>\n",
       "      <td>14.883590</td>\n",
       "      <td>17.375000</td>\n",
       "      <td>0.007246</td>\n",
       "    </tr>\n",
       "    <tr>\n",
       "      <td>1998-03-03</td>\n",
       "      <td>AMT</td>\n",
       "      <td>17.125000</td>\n",
       "      <td>16.750000</td>\n",
       "      <td>17.125000</td>\n",
       "      <td>17.125000</td>\n",
       "      <td>35000.0</td>\n",
       "      <td>14.775733</td>\n",
       "      <td>17.250000</td>\n",
       "      <td>0.007299</td>\n",
       "    </tr>\n",
       "    <tr>\n",
       "      <td>1998-03-04</td>\n",
       "      <td>AMT</td>\n",
       "      <td>15.750000</td>\n",
       "      <td>15.500000</td>\n",
       "      <td>15.750000</td>\n",
       "      <td>15.750000</td>\n",
       "      <td>60000.0</td>\n",
       "      <td>13.589359</td>\n",
       "      <td>17.125000</td>\n",
       "      <td>0.087302</td>\n",
       "    </tr>\n",
       "    <tr>\n",
       "      <td>1998-03-05</td>\n",
       "      <td>AMT</td>\n",
       "      <td>16.125000</td>\n",
       "      <td>16.125000</td>\n",
       "      <td>16.125000</td>\n",
       "      <td>16.125000</td>\n",
       "      <td>400.0</td>\n",
       "      <td>13.912916</td>\n",
       "      <td>15.750000</td>\n",
       "      <td>-0.023256</td>\n",
       "    </tr>\n",
       "    <tr>\n",
       "      <td>...</td>\n",
       "      <td>...</td>\n",
       "      <td>...</td>\n",
       "      <td>...</td>\n",
       "      <td>...</td>\n",
       "      <td>...</td>\n",
       "      <td>...</td>\n",
       "      <td>...</td>\n",
       "      <td>...</td>\n",
       "      <td>...</td>\n",
       "    </tr>\n",
       "    <tr>\n",
       "      <td>2020-01-28</td>\n",
       "      <td>RHP</td>\n",
       "      <td>87.650002</td>\n",
       "      <td>86.239998</td>\n",
       "      <td>86.239998</td>\n",
       "      <td>87.330002</td>\n",
       "      <td>326800.0</td>\n",
       "      <td>87.330002</td>\n",
       "      <td>86.000000</td>\n",
       "      <td>-0.015230</td>\n",
       "    </tr>\n",
       "    <tr>\n",
       "      <td>2020-01-29</td>\n",
       "      <td>RHP</td>\n",
       "      <td>87.769997</td>\n",
       "      <td>86.269997</td>\n",
       "      <td>87.410004</td>\n",
       "      <td>87.019997</td>\n",
       "      <td>201500.0</td>\n",
       "      <td>87.019997</td>\n",
       "      <td>87.330002</td>\n",
       "      <td>0.003562</td>\n",
       "    </tr>\n",
       "    <tr>\n",
       "      <td>2020-01-30</td>\n",
       "      <td>RHP</td>\n",
       "      <td>86.830002</td>\n",
       "      <td>86.070000</td>\n",
       "      <td>86.370003</td>\n",
       "      <td>86.699997</td>\n",
       "      <td>289700.0</td>\n",
       "      <td>86.699997</td>\n",
       "      <td>87.019997</td>\n",
       "      <td>0.003691</td>\n",
       "    </tr>\n",
       "    <tr>\n",
       "      <td>2020-01-31</td>\n",
       "      <td>RHP</td>\n",
       "      <td>86.650002</td>\n",
       "      <td>84.239998</td>\n",
       "      <td>86.440002</td>\n",
       "      <td>85.029999</td>\n",
       "      <td>362800.0</td>\n",
       "      <td>85.029999</td>\n",
       "      <td>86.699997</td>\n",
       "      <td>0.019640</td>\n",
       "    </tr>\n",
       "    <tr>\n",
       "      <td>2020-02-03</td>\n",
       "      <td>RHP</td>\n",
       "      <td>86.639999</td>\n",
       "      <td>85.050003</td>\n",
       "      <td>85.239998</td>\n",
       "      <td>86.639999</td>\n",
       "      <td>40215.0</td>\n",
       "      <td>86.639999</td>\n",
       "      <td>85.029999</td>\n",
       "      <td>-0.018583</td>\n",
       "    </tr>\n",
       "  </tbody>\n",
       "</table>\n",
       "<p>48264 rows × 9 columns</p>\n",
       "</div>"
      ],
      "text/plain": [
       "           Name       High        Low       Open      Close    Volume  \\\n",
       "Date                                                                    \n",
       "1998-02-27  AMT  18.000000  17.375000  17.375000  17.375000   50000.0   \n",
       "1998-03-02  AMT  17.250000  17.000000  17.250000  17.250000   75000.0   \n",
       "1998-03-03  AMT  17.125000  16.750000  17.125000  17.125000   35000.0   \n",
       "1998-03-04  AMT  15.750000  15.500000  15.750000  15.750000   60000.0   \n",
       "1998-03-05  AMT  16.125000  16.125000  16.125000  16.125000     400.0   \n",
       "...         ...        ...        ...        ...        ...       ...   \n",
       "2020-01-28  RHP  87.650002  86.239998  86.239998  87.330002  326800.0   \n",
       "2020-01-29  RHP  87.769997  86.269997  87.410004  87.019997  201500.0   \n",
       "2020-01-30  RHP  86.830002  86.070000  86.370003  86.699997  289700.0   \n",
       "2020-01-31  RHP  86.650002  84.239998  86.440002  85.029999  362800.0   \n",
       "2020-02-03  RHP  86.639999  85.050003  85.239998  86.639999   40215.0   \n",
       "\n",
       "            Adj Close  Daily Lag  Daily Returns  \n",
       "Date                                             \n",
       "1998-02-27  14.991437        NaN            NaN  \n",
       "1998-03-02  14.883590  17.375000       0.007246  \n",
       "1998-03-03  14.775733  17.250000       0.007299  \n",
       "1998-03-04  13.589359  17.125000       0.087302  \n",
       "1998-03-05  13.912916  15.750000      -0.023256  \n",
       "...               ...        ...            ...  \n",
       "2020-01-28  87.330002  86.000000      -0.015230  \n",
       "2020-01-29  87.019997  87.330002       0.003562  \n",
       "2020-01-30  86.699997  87.019997       0.003691  \n",
       "2020-01-31  85.029999  86.699997       0.019640  \n",
       "2020-02-03  86.639999  85.029999      -0.018583  \n",
       "\n",
       "[48264 rows x 9 columns]"
      ]
     },
     "execution_count": 12,
     "metadata": {},
     "output_type": "execute_result"
    }
   ],
   "source": [
    "daily_reit_dfs"
   ]
  },
  {
   "cell_type": "code",
   "execution_count": null,
   "metadata": {},
   "outputs": [],
   "source": []
  },
  {
   "cell_type": "code",
   "execution_count": 13,
   "metadata": {},
   "outputs": [],
   "source": [
    "reit_df_name_list = ['AMT', 'CUBE', 'ELS', 'PLD', 'FR', 'MAA', 'SUI', 'BXMT', 'RHP']\n",
    "reit_df_dict = {}\n",
    "for name in reit_df_name_list:\n",
    "    df = daily_reit_dfs.loc[daily_reit_dfs.Name == name]\n",
    "    reit_df_dict[name] = df"
   ]
  },
  {
   "cell_type": "code",
   "execution_count": 14,
   "metadata": {},
   "outputs": [
    {
     "data": {
      "text/plain": [
       "dict_keys(['AMT', 'CUBE', 'ELS', 'PLD', 'FR', 'MAA', 'SUI', 'BXMT', 'RHP'])"
      ]
     },
     "execution_count": 14,
     "metadata": {},
     "output_type": "execute_result"
    }
   ],
   "source": [
    "reit_df_dict.keys()"
   ]
  },
  {
   "cell_type": "code",
   "execution_count": 15,
   "metadata": {},
   "outputs": [],
   "source": [
    "def plot_return_distributions(df_dict):\n",
    "    for key in df_dict.keys():\n",
    "        plt.style.use('ggplot')\n",
    "        df_dict[key]['Daily Returns'].hist(bins = 25)\n",
    "        plt.title(f'{key} Daily Return Histogram')\n",
    "        plt.xlim(left = df_dict[key]['Daily Returns'].min() - 0.5, right = df_dict[key]['Daily Returns'].max() + 0.5)\n",
    "        plt.tight_layout()\n",
    "        plt.show();"
   ]
  },
  {
   "cell_type": "code",
   "execution_count": 16,
   "metadata": {},
   "outputs": [
    {
     "data": {
      "image/png": "[encoded data removed]",
      "text/plain": [
       "<Figure size 432x288 with 1 Axes>"
      ]
     },
     "metadata": {},
     "output_type": "display_data"
    },
    {
     "data": {
      "image/png": "[encoded data removed]",
      "text/plain": [
       "<Figure size 432x288 with 1 Axes>"
      ]
     },
     "metadata": {},
     "output_type": "display_data"
    },
    {
     "data": {
      "image/png": "[encoded data removed]",
      "text/plain": [
       "<Figure size 432x288 with 1 Axes>"
      ]
     },
     "metadata": {},
     "output_type": "display_data"
    },
    {
     "data": {
      "image/png": "[encoded data removed]",
      "text/plain": [
       "<Figure size 432x288 with 1 Axes>"
      ]
     },
     "metadata": {},
     "output_type": "display_data"
    },
    {
     "data": {
      "image/png": "[encoded data removed]",
      "text/plain": [
       "<Figure size 432x288 with 1 Axes>"
      ]
     },
     "metadata": {},
     "output_type": "display_data"
    },
    {
     "data": {
      "image/png": "[encoded data removed]",
      "text/plain": [
       "<Figure size 432x288 with 1 Axes>"
      ]
     },
     "metadata": {},
     "output_type": "display_data"
    },
    {
     "data": {
      "image/png": "[encoded data removed]",
      "text/plain": [
       "<Figure size 432x288 with 1 Axes>"
      ]
     },
     "metadata": {},
     "output_type": "display_data"
    },
    {
     "data": {
      "image/png": "[encoded data removed]",
      "text/plain": [
       "<Figure size 432x288 with 1 Axes>"
      ]
     },
     "metadata": {},
     "output_type": "display_data"
    },
    {
     "data": {
      "image/png": "[encoded data removed]",
      "text/plain": [
       "<Figure size 432x288 with 1 Axes>"
      ]
     },
     "metadata": {},
     "output_type": "display_data"
    }
   ],
   "source": [
    "plot_return_distributions(reit_df_dict)"
   ]
  },
  {
   "cell_type": "code",
   "execution_count": null,
   "metadata": {},
   "outputs": [],
   "source": []
  },
  {
   "cell_type": "code",
   "execution_count": null,
   "metadata": {},
   "outputs": [],
   "source": []
  },
  {
   "cell_type": "code",
   "execution_count": null,
   "metadata": {},
   "outputs": [],
   "source": []
  },
  {
   "cell_type": "code",
   "execution_count": null,
   "metadata": {},
   "outputs": [],
   "source": []
  },
  {
   "cell_type": "code",
   "execution_count": null,
   "metadata": {},
   "outputs": [],
   "source": []
  },
  {
   "cell_type": "code",
   "execution_count": null,
   "metadata": {},
   "outputs": [],
   "source": []
  },
  {
   "cell_type": "code",
   "execution_count": null,
   "metadata": {},
   "outputs": [],
   "source": []
  },
  {
   "cell_type": "code",
   "execution_count": null,
   "metadata": {},
   "outputs": [],
   "source": []
  },
  {
   "cell_type": "code",
   "execution_count": null,
   "metadata": {},
   "outputs": [],
   "source": []
  },
  {
   "cell_type": "code",
   "execution_count": null,
   "metadata": {},
   "outputs": [],
   "source": []
  },
  {
   "cell_type": "code",
   "execution_count": null,
   "metadata": {},
   "outputs": [],
   "source": []
  },
  {
   "cell_type": "code",
   "execution_count": null,
   "metadata": {},
   "outputs": [],
   "source": []
  },
  {
   "cell_type": "code",
   "execution_count": null,
   "metadata": {},
   "outputs": [],
   "source": []
  },
  {
   "cell_type": "code",
   "execution_count": null,
   "metadata": {},
   "outputs": [],
   "source": []
  },
  {
   "cell_type": "code",
   "execution_count": null,
   "metadata": {},
   "outputs": [],
   "source": []
  },
  {
   "cell_type": "code",
   "execution_count": null,
   "metadata": {},
   "outputs": [],
   "source": []
  },
  {
   "cell_type": "code",
   "execution_count": null,
   "metadata": {},
   "outputs": [],
   "source": []
  },
  {
   "cell_type": "code",
   "execution_count": null,
   "metadata": {},
   "outputs": [],
   "source": []
  }
 ],
 "metadata": {
  "kernelspec": {
   "display_name": "Python 3",
   "language": "python",
   "name": "python3"
  },
  "language_info": {
   "codemirror_mode": {
    "name": "ipython",
    "version": 3
   },
   "file_extension": ".py",
   "mimetype": "text/x-python",
   "name": "python",
   "nbconvert_exporter": "python",
   "pygments_lexer": "ipython3",
   "version": "3.6.9"
  }
 },
 "nbformat": 4,
 "nbformat_minor": 4
}
