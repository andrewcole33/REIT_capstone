{
 "cells": [
  {
   "cell_type": "code",
   "execution_count": 1,
   "metadata": {},
   "outputs": [
    {
     "name": "stderr",
     "output_type": "stream",
     "text": [
      "Using TensorFlow backend.\n"
     ]
    }
   ],
   "source": [
    "import pandas_datareader.data as web\n",
    "from fredapi import Fred\n",
    "\n",
    "import matplotlib.pyplot as plt\n",
    "import pandas as pd\n",
    "import numpy as np\n",
    "from numpy import hstack\n",
    "from scipy import stats\n",
    "from datetime import datetime\n",
    "from sklearn.preprocessing import StandardScaler\n",
    "\n",
    "import warnings\n",
    "import os\n",
    "\n",
    "warnings.filterwarnings('ignore')\n",
    "\n",
    "import itertools\n",
    "import statsmodels.api as sm\n",
    "from statsmodels.tsa.stattools import adfuller\n",
    "from statsmodels.tsa.seasonal import seasonal_decompose\n",
    "from statsmodels.graphics.tsaplots import plot_pacf\n",
    "from statsmodels.graphics.tsaplots import plot_acf\n",
    "import pmdarima as pm\n",
    "from pmdarima import model_selection\n",
    "\n",
    "from keras.models import Sequential\n",
    "from keras.layers import LSTM\n",
    "from keras.layers import Dense\n",
    "from keras.layers import Flatten\n",
    "from keras.layers import TimeDistributed\n",
    "from keras.layers.convolutional import Conv1D\n",
    "from keras.layers.convolutional import MaxPooling1D\n",
    "\n",
    "%matplotlib inline"
   ]
  },
  {
   "cell_type": "code",
   "execution_count": 140,
   "metadata": {},
   "outputs": [],
   "source": [
    "start = datetime(2000,2,1)\n",
    "end = datetime(2020,1,31)"
   ]
  },
  {
   "cell_type": "markdown",
   "metadata": {},
   "source": [
    "## Exogenous Data Gathering"
   ]
  },
  {
   "cell_type": "code",
   "execution_count": 141,
   "metadata": {},
   "outputs": [],
   "source": [
    "fred = Fred(api_key = 'aec5f13aa40d1af4edd587ffccceeb1a')"
   ]
  },
  {
   "cell_type": "code",
   "execution_count": null,
   "metadata": {},
   "outputs": [],
   "source": []
  },
  {
   "cell_type": "code",
   "execution_count": 142,
   "metadata": {},
   "outputs": [],
   "source": [
    "# LIBOR rate (USD1MTD156N)\n",
    "usd1mtd156n = fred.get_series('usd1mtd156n', start, end)\n",
    "usd1mtd156n = round(usd1mtd156n.resample('MS').mean(),2)\n",
    "usd1mtd156n = pd.DataFrame(usd1mtd156n, index = usd1mtd156n.index, columns = ['usd1mtd156n'])"
   ]
  },
  {
   "cell_type": "code",
   "execution_count": 143,
   "metadata": {},
   "outputs": [],
   "source": [
    "# 30 Year Fixed Rate Mortgage (MORTGAGE30US)\n",
    "mortgage30us = fred.get_series('mortgage30us', start, end)\n",
    "mortgage30us = round(mortgage30us.resample('MS').mean(),2)\n",
    "mortgage30us = pd.DataFrame(mortgage30us, index = mortgage30.index, columns = ['mortgage30us'])"
   ]
  },
  {
   "cell_type": "code",
   "execution_count": 144,
   "metadata": {},
   "outputs": [],
   "source": [
    "# 15 Year Fixed rate Mortgage (MORTGAGE15US)\n",
    "mortgage15us = fred.get_series('MORTGAGE15US', start, end)\n",
    "mortgage15us = round(mortgage15us.resample('MS').mean(),2)\n",
    "mortgage15us = pd.DataFrame(mortgage15us, index = mortgage15.index, columns = ['mortgage15us'])"
   ]
  },
  {
   "cell_type": "code",
   "execution_count": 145,
   "metadata": {},
   "outputs": [],
   "source": [
    "# 3-Month AA Financial Commercial Paper Rate (DCPF3M)\n",
    "dcpf3m = fred.get_series('DCPF3M', start, end)\n",
    "dcpf3m = round(dcpf3m.resample('MS').mean(),2)\n",
    "dcpf3m = pd.DataFrame(dcpf3m, index = dcpf3m.index, columns = ['dcpf3m'])"
   ]
  },
  {
   "cell_type": "code",
   "execution_count": 146,
   "metadata": {},
   "outputs": [],
   "source": [
    "# 3-Month AA Nonfinancial Commercial Paper Rate (CPN3M)\n",
    "cpn3m = fred.get_series('cpn3m', start, end)\n",
    "cpn3m = round(cpn3m.resample('MS').mean(),2)\n",
    "cpn3m = pd.DataFrame(cpn3m, index = dcpf3m.index, columns = ['cpn3m'])"
   ]
  },
  {
   "cell_type": "code",
   "execution_count": 147,
   "metadata": {},
   "outputs": [],
   "source": [
    "# 1-Month AA Financial Commercial Paper Rate (DCPF1M)\n",
    "dcpf1m = fred.get_series('dcpf1m', start, end)\n",
    "dcpf1m = round(dcpf1m.resample('MS').mean(),2)\n",
    "dcpf1m = pd.DataFrame(dcpf1m, index = dcpf3m.index, columns = ['dcpf1m'])"
   ]
  },
  {
   "cell_type": "code",
   "execution_count": 148,
   "metadata": {},
   "outputs": [],
   "source": [
    "# Moody's Seasoned Aaa Corporate Bond Yield (AAA)\n",
    "aaa = fred.get_series('AAA', start, end)\n",
    "aaa = round(aaa.resample('MS').mean(),2)\n",
    "aaa = pd.DataFrame(aaa, index = dcpf3m.index, columns = ['aaa'])"
   ]
  },
  {
   "cell_type": "code",
   "execution_count": 149,
   "metadata": {},
   "outputs": [],
   "source": [
    "# Moody's Seasoned Baa Corporate Bond Yield (BAA)\n",
    "baa = fred.get_series('BAA', start, end)\n",
    "baa = round(baa.resample('MS').mean(),2)\n",
    "baa = pd.DataFrame(baa, index = baa.index, columns = ['baa'])"
   ]
  },
  {
   "cell_type": "code",
   "execution_count": 150,
   "metadata": {},
   "outputs": [],
   "source": [
    "# Effective Federal Funds Rate (DFF)\n",
    "dff = fred.get_series('DFF', start, end)\n",
    "dff = round(dff.resample('MS').mean(),2)\n",
    "dff = pd.DataFrame(dff, index = dff.index, columns = ['dff'])"
   ]
  },
  {
   "cell_type": "code",
   "execution_count": 151,
   "metadata": {},
   "outputs": [],
   "source": [
    "# Eighth District Flexible Rate on Seasonal Credit (FLEXSC)\n",
    "flexsc = fred.get_series('flexsc', start, end)\n",
    "flexsc = round(flexsc.resample('MS').mean(),2)\n",
    "flexsc = pd.DataFrame(flexsc, index = flexsc.index, columns = ['flexsc'])"
   ]
  },
  {
   "cell_type": "code",
   "execution_count": 152,
   "metadata": {},
   "outputs": [],
   "source": [
    "# 10-Year Treasury Constant Maturity Minus 2-Year Treasury Constant Maturity (T10Y2Y)\n",
    "t10y2y = fred.get_series('t10y2y', start, end)\n",
    "t10y2y = round(t10y2y.resample('MS').mean(),2)\n",
    "t10y2y = pd.DataFrame(t10y2y, index = t10y2y.index, columns = ['t10y2y'])"
   ]
  },
  {
   "cell_type": "code",
   "execution_count": 153,
   "metadata": {},
   "outputs": [],
   "source": [
    "# 10-Year Treasury Constant Maturity Minus 3-Month Treasury Constant Maturity (T10Y3M)\n",
    "t10y3m = fred.get_series('t10y3m', start, end)\n",
    "t10y3m = round(t10y3m.resample('MS').mean(),2)\n",
    "t10y3m = pd.DataFrame(t10y3m, index = t10y3m.index, columns = ['t10y3m'])"
   ]
  },
  {
   "cell_type": "code",
   "execution_count": 154,
   "metadata": {},
   "outputs": [],
   "source": [
    "# TED Spread (TEDRATE)\n",
    "tedrate = fred.get_series('tedrate', start, end)\n",
    "tedrate = round(tedrate.resample('MS').mean(),2)\n",
    "tedrate = pd.DataFrame(tedrate, index = tedrate.index, columns = ['tedrate'])"
   ]
  },
  {
   "cell_type": "code",
   "execution_count": 160,
   "metadata": {},
   "outputs": [],
   "source": [
    "# 10-Year Treasury Constant Maturity Minus Federal Funds Rate (T10YFF)\n",
    "t10yff = fred.get_series('T10YFF', start, end)\n",
    "t10yff = round(t10yff.resample('MS').mean(),2)\n",
    "t10yff = pd.DataFrame(t10yff, index = t10yff.index, columns = ['t10yff'])"
   ]
  },
  {
   "cell_type": "code",
   "execution_count": 162,
   "metadata": {},
   "outputs": [],
   "source": [
    "# 5-Year Treasury Constant Maturity Minus Federal Funds Rate (T5YFF)\n",
    "t5yff = fred.get_series('t5yff', start, end)\n",
    "t5yff = round(t5yff.resample('MS').mean(),2)\n",
    "t5yff = pd.DataFrame(t5yff, index = t5yff.index, columns = ['t5yff'])"
   ]
  },
  {
   "cell_type": "code",
   "execution_count": 166,
   "metadata": {},
   "outputs": [],
   "source": [
    "# 6-Month Treasury Bill Minus Federal Funds Rate (TB6SMFFM)\n",
    "tb6smffm = fred.get_series('tb6smffm', start, end)\n",
    "tb6smffm = round(tb6smffm.resample('MS').mean(),2)\n",
    "tb6smffm = pd.DataFrame(tb6smffm, index = tb6smffm.index, columns = ['tb6smffm'])"
   ]
  },
  {
   "cell_type": "code",
   "execution_count": 176,
   "metadata": {},
   "outputs": [],
   "source": [
    "# 3-Month London Interbank Offered Rate (LIBOR), based on U.S. Dollar (USD3MTD156N)\n",
    "usd3mtd156n = fred.get_series('usd3mtd156n', start, end)\n",
    "usd3mtd156n = round(usd3mtd156n.resample('MS').mean(),2)\n",
    "usd3mtd156n = pd.DataFrame(usd3mtd156n, index = usd3mtd156n.index, columns = ['usd3mtd156n'])"
   ]
  },
  {
   "cell_type": "code",
   "execution_count": 178,
   "metadata": {},
   "outputs": [],
   "source": [
    "# 12-Month London Interbank Offered Rate (LIBOR), based on U.S. Dollar (USD12MD156N)\n",
    "usd12md156n = fred.get_series('usd12md156n', start, end)\n",
    "usd12md156n = round(usd12md156n.resample('MS').mean(),2)\n",
    "usd12md156n = pd.DataFrame(usd12md156n, index = usd12md156n.index, columns = ['usd12md156n'])"
   ]
  },
  {
   "cell_type": "code",
   "execution_count": 182,
   "metadata": {},
   "outputs": [],
   "source": [
    "# 1-Week London Interbank Offered Rate (LIBOR), based on Euro (EUR1WKD156N)\n",
    "eur1wkd156n = fred.get_series('eur1wkd156n', start, end)\n",
    "eur1wkd156n = round(eur1wkd156n.resample('MS').mean(),2)\n",
    "eur1wkd156n = pd.DataFrame(eur1wkd156n, index = eur1wkd156n.index, columns = ['eur1wkd156n'])"
   ]
  },
  {
   "cell_type": "code",
   "execution_count": 183,
   "metadata": {},
   "outputs": [],
   "source": [
    "# Bank Prime Loan Rate (MPRIME)\n",
    "mprime = fred.get_series('mprime', start, end)\n",
    "mprime = round(mprime.resample('MS').mean(),2)\n",
    "mprime = pd.DataFrame(mprime, index = mprime.index, columns = ['mprime'])"
   ]
  },
  {
   "cell_type": "code",
   "execution_count": 185,
   "metadata": {},
   "outputs": [],
   "source": [
    "# 3-Month Treasury Bill: Secondary Market Rate (TB3MS)\n",
    "tb3ms = fred.get_series('tb3ms', start, end)\n",
    "tb3ms = round(tb3ms.resample('MS').mean(),2)\n",
    "tb3ms = pd.DataFrame(tb3ms, index = tb3ms.index, columns = ['tb3ms'])"
   ]
  },
  {
   "cell_type": "code",
   "execution_count": 187,
   "metadata": {},
   "outputs": [],
   "source": [
    "# 1-Year Treasury Bill: Secondary Market Rate (TB1YR)\n",
    "tb1yr = fred.get_series('tb1yr', start, end)\n",
    "tb1yr = round(tb1yr.resample('MS').mean(),2)\n",
    "tb1yr = pd.DataFrame(tb1yr, index = tb1yr.index, columns = ['tb1yr'])"
   ]
  },
  {
   "cell_type": "code",
   "execution_count": 191,
   "metadata": {},
   "outputs": [],
   "source": [
    "# 6-Month Treasury Bill: Secondary Market Rate (DTB6)\n",
    "dtb6 = fred.get_series('dtb6', start, end)\n",
    "dtb6 = round(dtb6.resample('MS').mean(),2)\n",
    "dtb6= pd.DataFrame(dtb6, index = dtb6.index, columns = ['dtb6'])"
   ]
  },
  {
   "cell_type": "code",
   "execution_count": 196,
   "metadata": {},
   "outputs": [],
   "source": [
    "# 10-Year Treasury Constant Maturity Rate (DGS10)\n",
    "dgs10 = fred.get_series('dgs10', start, end)\n",
    "dgs10 = round(dgs10.resample('MS').mean(),2)\n",
    "dgs10 = pd.DataFrame(dgs10, index = dgs10.index, columns = ['dgs10'])"
   ]
  },
  {
   "cell_type": "code",
   "execution_count": 198,
   "metadata": {},
   "outputs": [],
   "source": [
    "# 1-Year Treasury Constant Maturity Rate (DGS1)\n",
    "dgs1 = fred.get_series('dgs1', start, end)\n",
    "dgs1 = round(dgs1.resample('MS').mean(),2)\n",
    "dgs1 = pd.DataFrame(dgs1, index = dgs1.index, columns = ['dgs1'])"
   ]
  },
  {
   "cell_type": "code",
   "execution_count": 200,
   "metadata": {},
   "outputs": [],
   "source": [
    "# 10-Year Treasury Inflation-Indexed Security, Constant Maturity (DFII10)\n",
    "dfii10 = fred.get_series('dfii10', start, end)\n",
    "dfii10 = round(dfii10.resample('MS').mean(),2)\n",
    "dfii10 = pd.DataFrame(dfii10, index = dfii10.index, columns = ['dfii10'])"
   ]
  },
  {
   "cell_type": "code",
   "execution_count": 204,
   "metadata": {},
   "outputs": [],
   "source": [
    "# 3-Month Treasury Constant Maturity Rate (DGS3MO)\n",
    "dgs3mo = fred.get_series('dgs3mo', start, end)\n",
    "dgs3mo = round(dgs3mo.resample('MS').mean(),2)\n",
    "dgs3mo = pd.DataFrame(dgs3mo, index = dgs3mo.index, columns = ['dgs3mo'])"
   ]
  },
  {
   "cell_type": "code",
   "execution_count": 208,
   "metadata": {},
   "outputs": [],
   "source": [
    "# 30-Year Treasury Constant Maturity Rate (DGS30)\n",
    "dgs30 = fred.get_series('dgs30', start, end)\n",
    "dgs30 = round(dgs30.resample('MS').mean(),2)\n",
    "dgs30 = pd.DataFrame(dgs30, index = dgs30.index, columns = ['dgs30'])"
   ]
  },
  {
   "cell_type": "code",
   "execution_count": 211,
   "metadata": {},
   "outputs": [],
   "source": [
    "# U.S. / Euro Foreign Exchange Rate (DEXUSEU)\n",
    "dexuseu = fred.get_series('dexuseu', start, end)\n",
    "dexuseu = round(dexuseu.resample('MS').mean(),2)\n",
    "dexuseu = pd.DataFrame(dexuseu, index = dexuseu.index, columns = ['dexuseu'])"
   ]
  },
  {
   "cell_type": "code",
   "execution_count": 213,
   "metadata": {},
   "outputs": [],
   "source": [
    "# China / U.S. Foreign Exchange Rate (DEXCHUS)\n",
    "dexchus = fred.get_series('dexchus', start, end)\n",
    "dexchus = round(dexchus.resample('MS').mean(),2)\n",
    "dexchus = pd.DataFrame(dexchus, index = dexchus.index, columns = ['dexchus'])"
   ]
  },
  {
   "cell_type": "code",
   "execution_count": 219,
   "metadata": {},
   "outputs": [],
   "source": [
    "# U.S. / U.K. Foreign Exchange Rate (DEXUSUK)\n",
    "dexusuk = fred.get_series('dexusuk', start, end)\n",
    "dexusuk = round(dexusuk.resample('MS').mean(),2)\n",
    "dexusuk = pd.DataFrame(dexusuk, index = dexusuk.index, columns = ['dexusuk'])"
   ]
  },
  {
   "cell_type": "code",
   "execution_count": 221,
   "metadata": {},
   "outputs": [],
   "source": [
    "# Singapore / U.S. Foreign Exchange Rate (DEXSIUS)\n",
    "dexsius = fred.get_series('dexsius', start, end)\n",
    "dexsius = round(dexsius.resample('MS').mean(),2)\n",
    "dexsius = pd.DataFrame(dexsius, index = dexsius.index, columns = ['dexsius'])"
   ]
  },
  {
   "cell_type": "code",
   "execution_count": 223,
   "metadata": {},
   "outputs": [],
   "source": [
    "# NASDAQ Composite Index (NASDAQCOM)\n",
    "nasdaqcom = fred.get_series('nasdaqcom', start, end)\n",
    "nasdaqcom = round(nasdaqcom.resample('MS').mean(),2)\n",
    "nasdaqcom = pd.DataFrame(nasdaqcom, index = nasdaqcom.index, columns = ['nasdaqcom'])"
   ]
  },
  {
   "cell_type": "code",
   "execution_count": 226,
   "metadata": {},
   "outputs": [],
   "source": [
    "# Wilshire US Real Estate Investment Trust Total Market Index (Wilshire US REIT)(WILLREITIND)\n",
    "willreitind = fred.get_series('willreitind', start, end)\n",
    "willreitind = round(willreitind.resample('MS').mean(),2)\n",
    "willreitind = pd.DataFrame(willreitind, index = willreitind.index, columns = ['willreitind'])"
   ]
  },
  {
   "cell_type": "code",
   "execution_count": 228,
   "metadata": {},
   "outputs": [],
   "source": [
    "# Wilshire US Real Estate Securities Price Index (Wilshire US RESI) (WILLRESIPR)\n",
    "willresipr = fred.get_series('willresipr', start, end)\n",
    "willresipr = round(willresipr.resample('MS').mean(),2)\n",
    "willresipr = pd.DataFrame(willresipr, index = willresipr.index, columns = ['willresipr'])"
   ]
  },
  {
   "cell_type": "code",
   "execution_count": 232,
   "metadata": {},
   "outputs": [],
   "source": [
    "# Wilshire US Large-Cap Total Market Index (WILLLRGCAP)\n",
    "willlrgcap = fred.get_series('willlrgcap', start, end)\n",
    "willlrgcap = round(willlrgcap.resample('MS').mean(),2)\n",
    "willlrgcap = pd.DataFrame(willlrgcap, index = willlrgcap.index, columns = ['willlrgcap'])"
   ]
  },
  {
   "cell_type": "code",
   "execution_count": 235,
   "metadata": {},
   "outputs": [],
   "source": [
    "# Wilshire US Small-Cap Total Market Index (WILLSMLCAP)\n",
    "willsmlcap = fred.get_series('willsmlcap', start, end)\n",
    "willsmlcap = round(willsmlcap.resample('MS').mean(),2)\n",
    "willsmlcap = pd.DataFrame(willsmlcap, index = willsmlcap.index, columns = ['willsmlcap'])"
   ]
  },
  {
   "cell_type": "code",
   "execution_count": 237,
   "metadata": {},
   "outputs": [],
   "source": [
    "# CBOE Volatility Index: VIX (VIXCLS)\n",
    "vixcls = fred.get_series('vixcls', start, end)\n",
    "vixcls = round(vixcls.resample('MS').mean(),2)\n",
    "vixcls = pd.DataFrame(vixcls, index = vixcls.index, columns = ['vixcls'])"
   ]
  },
  {
   "cell_type": "code",
   "execution_count": 242,
   "metadata": {},
   "outputs": [],
   "source": [
    "# CBOE DJIA Volatility Index (VXDCLS)\n",
    "vxdcls = fred.get_series('vxdcls', start, end)\n",
    "vxdcls = round(vxdcls.resample('MS').mean(),2)\n",
    "vxdcls = pd.DataFrame(vxdcls, index = vxdcls.index, columns = ['vxdcls'])"
   ]
  },
  {
   "cell_type": "code",
   "execution_count": 244,
   "metadata": {},
   "outputs": [],
   "source": [
    "# St. Louis Fed Financial Stress Index (STLFSI)\n",
    "stlfsi = fred.get_series('stlfsi', start, end)\n",
    "stlfsi = round(stlfsi.resample('MS').mean(),2)\n",
    "stlfsi = pd.DataFrame(stlfsi, index = stlfsi.index, columns = ['stlfsi'])"
   ]
  },
  {
   "cell_type": "code",
   "execution_count": 246,
   "metadata": {},
   "outputs": [],
   "source": [
    "# Chicago Fed National Financial Conditions Index (NFCI)\n",
    "nfci = fred.get_series('nfci', start, end)\n",
    "nfci = round(nfci.resample('MS').mean(),2)\n",
    "nfci = pd.DataFrame(nfci, index = nfci.index, columns = ['nfci'])"
   ]
  },
  {
   "cell_type": "code",
   "execution_count": 248,
   "metadata": {},
   "outputs": [],
   "source": [
    "# Borrowings, All Commercial Banks (H8B3094NCBA)\n",
    "h8b3094ncba = fred.get_series('h8b3094ncba', start, end)\n",
    "h8b3094ncba = round(h8b3094ncba.resample('MS').mean(),2)\n",
    "h8b3094ncba = pd.DataFrame(h8b3094ncba, index = h8b3094ncba.index, columns = ['h8b3094ncba'])"
   ]
  },
  {
   "cell_type": "code",
   "execution_count": 250,
   "metadata": {},
   "outputs": [],
   "source": [
    "# Bank Credit, Domestically Chartered Commercial Banks (BC0DCBW027NBOG)\n",
    "bc0dcbw027nbog = fred.get_series('bc0dcbw027nbog', start, end)\n",
    "bc0dcbw027nbog = round(bc0dcbw027nbog.resample('MS').mean(),2)\n",
    "bc0dcbw027nbog = pd.DataFrame(bc0dcbw027nbog, index = bc0dcbw027nbog.index, columns = ['bc0dcbw027nbog'])"
   ]
  },
  {
   "cell_type": "code",
   "execution_count": 252,
   "metadata": {},
   "outputs": [],
   "source": [
    "# Cash Assets, Domestically Chartered Commercial Banks (CASDCBW027NBOG)\n",
    "casdcbw027nbog = fred.get_series('casdcbw027nbog', start, end)\n",
    "casdcbw027nbog = round(casdcbw027nbog.resample('MS').mean(),2)\n",
    "casdcbw027nbog = pd.DataFrame(casdcbw027nbog, index = casdcbw027nbog.index, columns = ['casdcbw027nbog'])"
   ]
  },
  {
   "cell_type": "code",
   "execution_count": 254,
   "metadata": {},
   "outputs": [],
   "source": [
    "# Commercial and Industrial Loans, Domestically Chartered Commercial Banks (CILDCBW027NBOG)\n",
    "cildcbw027nbog = fred.get_series('cildcbw027nbog', start, end)\n",
    "cildcbw027nbog = round(cildcbw027nbog.resample('MS').mean(),2)\n",
    "cildcbw027nbog = pd.DataFrame(cildcbw027nbog, index = cildcbw027nbog.index, columns = ['cildcbw027nbog'])"
   ]
  },
  {
   "cell_type": "code",
   "execution_count": 256,
   "metadata": {},
   "outputs": [],
   "source": [
    "# Deposits, Domestically Chartered Commercial Banks (DPSDCBW027NBOG)\n",
    "dpsdcbw027nbog = fred.get_series('dpsdcbw027nbog', start, end)\n",
    "dpsdcbw027nbog = round(dpsdcbw027nbog.resample('MS').mean(),2)\n",
    "dpsdcbw027nbog = pd.DataFrame(dpsdcbw027nbog, index = dpsdcbw027nbog.index, columns = ['dpsdcbw027nbog'])"
   ]
  },
  {
   "cell_type": "code",
   "execution_count": 258,
   "metadata": {},
   "outputs": [],
   "source": [
    "# Real Estate Loans: Residential Real Estate Loans: Revolving Home Equity Loans, Domestically Chartered Commercial Banks (RHEDCBW027NBOG)\n",
    "rhedcbw027nbog = fred.get_series('rhedcbw027nbog', start, end)\n",
    "rhedcbw027nbog = round(rhedcbw027nbog.resample('MS').mean(),2)\n",
    "rhedcbw027nbog = pd.DataFrame(rhedcbw027nbog, index = rhedcbw027nbog.index, columns = ['rhedcbw027nbog'])"
   ]
  },
  {
   "cell_type": "code",
   "execution_count": 276,
   "metadata": {},
   "outputs": [],
   "source": [
    "# Consumer Loans, All Commercial Banks (CLSACBW027NBOG)\n",
    "clsacbw027nbog = fred.get_series('clsacbw027nbog', start, end)\n",
    "clsacbw027nbog = round(clsacbw027nbog.resample('MS').mean(),2)\n",
    "clsacbw027nbog = pd.DataFrame(clsacbw027nbog, index = clsacbw027nbog.index, columns = ['clsacbw027nbog'])"
   ]
  },
  {
   "cell_type": "code",
   "execution_count": 267,
   "metadata": {},
   "outputs": [],
   "source": [
    "# Deposits, All Commercial Banks (DPSACBW027NBOG)\n",
    "dpsacbw027nbog = fred.get_series('dpsacbw027nbog', start, end)\n",
    "dpsacbw027nbog = round(dpsacbw027nbog.resample('MS').mean(),2)\n",
    "dpsacbw027nbog = pd.DataFrame(dpsacbw027nbog, index = dpsacbw027nbog.index, columns = ['dpsacbw027nbog'])"
   ]
  },
  {
   "cell_type": "code",
   "execution_count": 269,
   "metadata": {},
   "outputs": [],
   "source": [
    "# Real Estate Loans, All Commercial Banks (RELACBW027NBOG)\n",
    "relacbw027nbog = fred.get_series('relacbw027nbog', start, end)\n",
    "relacbw027nbog = round(relacbw027nbog.resample('MS').mean(),2)\n",
    "relacbw027nbog = pd.DataFrame(relacbw027nbog, index = relacbw027nbog.index, columns = ['relacbw027nbog'])"
   ]
  },
  {
   "cell_type": "code",
   "execution_count": 274,
   "metadata": {},
   "outputs": [],
   "source": [
    "# Real Estate Loans: Residential Real Estate Loans: Revolving Home Equity Loans, All Commercial Banks (RHEACBW027NBOG)\n",
    "rheacbw027nbog = fred.get_series('rheacbw027nbog', start, end)\n",
    "rheacbw027nbog = round(rheacbw027nbog.resample('MS').mean(),2)\n",
    "rheacbw027nbog = pd.DataFrame(rheacbw027nbog, index = rheacbw027nbog.index, columns = ['rheacbw027nbog'])"
   ]
  },
  {
   "cell_type": "code",
   "execution_count": 277,
   "metadata": {},
   "outputs": [],
   "source": [
    "# Total Assets, All Commercial Banks (TLAACBW027NBOG)\n",
    "tlaacbw027nbog = fred.get_series('tlaacbw027nbog', start, end)\n",
    "tlaacbw027nbog = round(tlaacbw027nbog.resample('MS').mean(),2)\n",
    "tlaacbw027nbog = pd.DataFrame(tlaacbw027nbog, index = tlaacbw027nbog.index, columns = ['tlaacbw027nbog'])"
   ]
  },
  {
   "cell_type": "code",
   "execution_count": 278,
   "metadata": {},
   "outputs": [],
   "source": [
    "# Total Liabilities, All Commercial Banks (TLBACBW027NBOG)\n",
    "tlbacbw027nbog = fred.get_series('tlbacbw027nbog', start, end)\n",
    "tlbacbw027nbog = round(tlbacbw027nbog.resample('MS').mean(),2)\n",
    "tlbacbw027nbog = pd.DataFrame(tlbacbw027nbog, index = tlbacbw027nbog.index, columns = ['tlbacbw027nbog'])"
   ]
  },
  {
   "cell_type": "code",
   "execution_count": 281,
   "metadata": {},
   "outputs": [],
   "source": [
    "# Commercial and Industrial Loans, All Commercial Banks (TOTCI)\n",
    "totci = fred.get_series('totci', start, end)\n",
    "totci = round(totci.resample('MS').mean(),2)\n",
    "totci = pd.DataFrame(totci, index = totci.index, columns = ['totci'])"
   ]
  },
  {
   "cell_type": "code",
   "execution_count": 283,
   "metadata": {},
   "outputs": [],
   "source": [
    "# Economic Policy Uncertainty Index for United States (USEPUINDXD)\n",
    "usepuindxd = fred.get_series('usepuindxd', start, end)\n",
    "usepuindxd = round(usepuindxd.resample('MS').mean(),2)\n",
    "usepuindxd = pd.DataFrame(usepuindxd, index = usepuindxd.index, columns = ['usepuindxd'])"
   ]
  },
  {
   "cell_type": "code",
   "execution_count": 285,
   "metadata": {},
   "outputs": [],
   "source": [
    "# Equity Market-related Economic Uncertainty Index (WLEMUINDXD)\n",
    "wlemuindxd = fred.get_series('wlemuindxd', start, end)\n",
    "wlemuindxd = round(wlemuindxd.resample('MS').mean(),2)\n",
    "wlemuindxd = pd.DataFrame(wlemuindxd, index = wlemuindxd.index, columns = ['wlemuindxd'])"
   ]
  },
  {
   "cell_type": "code",
   "execution_count": 288,
   "metadata": {},
   "outputs": [],
   "source": [
    "# Equity Market Volatility Tracker: Financial Crises (EMVFINCRISES)\n",
    "emvfincrises = fred.get_series('emvfincrises', start, end)\n",
    "emvfincrises = round(emvfincrises.resample('MS').mean(),2)\n",
    "emvfincrises = pd.DataFrame(emvfincrises, index = emvfincrises.index, columns = ['emvfincrises'])"
   ]
  },
  {
   "cell_type": "code",
   "execution_count": 290,
   "metadata": {},
   "outputs": [],
   "source": [
    "# Price Pressures Measure (STLPPM)\n",
    "stlppm = fred.get_series('stlppm', start, end)\n",
    "stlppm = round(stlppm.resample('MS').mean(),2)\n",
    "stlppm = pd.DataFrame(stlppm, index = stlppm.index, columns = ['stlppm'])"
   ]
  },
  {
   "cell_type": "code",
   "execution_count": 303,
   "metadata": {},
   "outputs": [
    {
     "data": {
      "text/html": [
       "<div>\n",
       "<style scoped>\n",
       "    .dataframe tbody tr th:only-of-type {\n",
       "        vertical-align: middle;\n",
       "    }\n",
       "\n",
       "    .dataframe tbody tr th {\n",
       "        vertical-align: top;\n",
       "    }\n",
       "\n",
       "    .dataframe thead th {\n",
       "        text-align: right;\n",
       "    }\n",
       "</style>\n",
       "<table border=\"1\" class=\"dataframe\">\n",
       "  <thead>\n",
       "    <tr style=\"text-align: right;\">\n",
       "      <th></th>\n",
       "      <th>usd1mtd156n</th>\n",
       "      <th>mortgage30us</th>\n",
       "      <th>mortgage15us</th>\n",
       "      <th>dcpf3m</th>\n",
       "      <th>cpn3m</th>\n",
       "      <th>dcpf1m</th>\n",
       "      <th>aaa</th>\n",
       "      <th>baa</th>\n",
       "      <th>dff</th>\n",
       "      <th>flexsc</th>\n",
       "      <th>...</th>\n",
       "      <th>dpsacbw027nbog</th>\n",
       "      <th>relacbw027nbog</th>\n",
       "      <th>rheacbw027nbog</th>\n",
       "      <th>tlaacbw027nbog</th>\n",
       "      <th>tlbacbw027nbog</th>\n",
       "      <th>totci</th>\n",
       "      <th>usepuindxd</th>\n",
       "      <th>wlemuindxd</th>\n",
       "      <th>emvfincrises</th>\n",
       "      <th>stlppm</th>\n",
       "    </tr>\n",
       "  </thead>\n",
       "  <tbody>\n",
       "    <tr>\n",
       "      <td>2000-02-01</td>\n",
       "      <td>5.89</td>\n",
       "      <td>8.33</td>\n",
       "      <td>7.93</td>\n",
       "      <td>5.90</td>\n",
       "      <td>5.87</td>\n",
       "      <td>5.78</td>\n",
       "      <td>7.68</td>\n",
       "      <td>8.29</td>\n",
       "      <td>5.73</td>\n",
       "      <td>5.85</td>\n",
       "      <td>...</td>\n",
       "      <td>3490.25</td>\n",
       "      <td>1486.01</td>\n",
       "      <td>105.51</td>\n",
       "      <td>5638.25</td>\n",
       "      <td>5157.79</td>\n",
       "      <td>1016.61</td>\n",
       "      <td>50.60</td>\n",
       "      <td>45.27</td>\n",
       "      <td>0.35</td>\n",
       "      <td>0.30</td>\n",
       "    </tr>\n",
       "    <tr>\n",
       "      <td>2000-03-01</td>\n",
       "      <td>6.05</td>\n",
       "      <td>8.24</td>\n",
       "      <td>7.83</td>\n",
       "      <td>6.03</td>\n",
       "      <td>6.00</td>\n",
       "      <td>5.94</td>\n",
       "      <td>7.68</td>\n",
       "      <td>8.37</td>\n",
       "      <td>5.85</td>\n",
       "      <td>5.93</td>\n",
       "      <td>...</td>\n",
       "      <td>3521.57</td>\n",
       "      <td>1510.16</td>\n",
       "      <td>107.31</td>\n",
       "      <td>5685.93</td>\n",
       "      <td>5198.06</td>\n",
       "      <td>1024.58</td>\n",
       "      <td>64.99</td>\n",
       "      <td>46.42</td>\n",
       "      <td>0.90</td>\n",
       "      <td>0.19</td>\n",
       "    </tr>\n",
       "    <tr>\n",
       "      <td>2000-04-01</td>\n",
       "      <td>6.15</td>\n",
       "      <td>8.15</td>\n",
       "      <td>7.80</td>\n",
       "      <td>6.15</td>\n",
       "      <td>6.11</td>\n",
       "      <td>6.03</td>\n",
       "      <td>7.64</td>\n",
       "      <td>8.40</td>\n",
       "      <td>6.02</td>\n",
       "      <td>6.15</td>\n",
       "      <td>...</td>\n",
       "      <td>3584.93</td>\n",
       "      <td>1531.49</td>\n",
       "      <td>110.75</td>\n",
       "      <td>5747.53</td>\n",
       "      <td>5262.45</td>\n",
       "      <td>1033.44</td>\n",
       "      <td>59.76</td>\n",
       "      <td>88.46</td>\n",
       "      <td>1.04</td>\n",
       "      <td>0.65</td>\n",
       "    </tr>\n",
       "    <tr>\n",
       "      <td>2000-05-01</td>\n",
       "      <td>6.54</td>\n",
       "      <td>8.51</td>\n",
       "      <td>8.18</td>\n",
       "      <td>6.57</td>\n",
       "      <td>6.54</td>\n",
       "      <td>6.41</td>\n",
       "      <td>7.99</td>\n",
       "      <td>8.90</td>\n",
       "      <td>6.27</td>\n",
       "      <td>6.30</td>\n",
       "      <td>...</td>\n",
       "      <td>3563.07</td>\n",
       "      <td>1559.57</td>\n",
       "      <td>113.35</td>\n",
       "      <td>5821.97</td>\n",
       "      <td>5336.37</td>\n",
       "      <td>1051.14</td>\n",
       "      <td>77.52</td>\n",
       "      <td>55.96</td>\n",
       "      <td>0.63</td>\n",
       "      <td>0.30</td>\n",
       "    </tr>\n",
       "    <tr>\n",
       "      <td>2000-06-01</td>\n",
       "      <td>6.65</td>\n",
       "      <td>8.29</td>\n",
       "      <td>7.99</td>\n",
       "      <td>6.59</td>\n",
       "      <td>6.57</td>\n",
       "      <td>6.53</td>\n",
       "      <td>7.67</td>\n",
       "      <td>8.48</td>\n",
       "      <td>6.53</td>\n",
       "      <td>6.62</td>\n",
       "      <td>...</td>\n",
       "      <td>3581.19</td>\n",
       "      <td>1578.90</td>\n",
       "      <td>114.16</td>\n",
       "      <td>5841.58</td>\n",
       "      <td>5345.38</td>\n",
       "      <td>1062.59</td>\n",
       "      <td>67.24</td>\n",
       "      <td>74.91</td>\n",
       "      <td>0.52</td>\n",
       "      <td>0.46</td>\n",
       "    </tr>\n",
       "  </tbody>\n",
       "</table>\n",
       "<p>5 rows × 55 columns</p>\n",
       "</div>"
      ],
      "text/plain": [
       "            usd1mtd156n  mortgage30us  mortgage15us  dcpf3m  cpn3m  dcpf1m  \\\n",
       "2000-02-01         5.89          8.33          7.93    5.90   5.87    5.78   \n",
       "2000-03-01         6.05          8.24          7.83    6.03   6.00    5.94   \n",
       "2000-04-01         6.15          8.15          7.80    6.15   6.11    6.03   \n",
       "2000-05-01         6.54          8.51          8.18    6.57   6.54    6.41   \n",
       "2000-06-01         6.65          8.29          7.99    6.59   6.57    6.53   \n",
       "\n",
       "             aaa   baa   dff  flexsc  ...  dpsacbw027nbog  relacbw027nbog  \\\n",
       "2000-02-01  7.68  8.29  5.73    5.85  ...         3490.25         1486.01   \n",
       "2000-03-01  7.68  8.37  5.85    5.93  ...         3521.57         1510.16   \n",
       "2000-04-01  7.64  8.40  6.02    6.15  ...         3584.93         1531.49   \n",
       "2000-05-01  7.99  8.90  6.27    6.30  ...         3563.07         1559.57   \n",
       "2000-06-01  7.67  8.48  6.53    6.62  ...         3581.19         1578.90   \n",
       "\n",
       "            rheacbw027nbog  tlaacbw027nbog  tlbacbw027nbog    totci  \\\n",
       "2000-02-01          105.51         5638.25         5157.79  1016.61   \n",
       "2000-03-01          107.31         5685.93         5198.06  1024.58   \n",
       "2000-04-01          110.75         5747.53         5262.45  1033.44   \n",
       "2000-05-01          113.35         5821.97         5336.37  1051.14   \n",
       "2000-06-01          114.16         5841.58         5345.38  1062.59   \n",
       "\n",
       "            usepuindxd  wlemuindxd  emvfincrises  stlppm  \n",
       "2000-02-01       50.60       45.27          0.35    0.30  \n",
       "2000-03-01       64.99       46.42          0.90    0.19  \n",
       "2000-04-01       59.76       88.46          1.04    0.65  \n",
       "2000-05-01       77.52       55.96          0.63    0.30  \n",
       "2000-06-01       67.24       74.91          0.52    0.46  \n",
       "\n",
       "[5 rows x 55 columns]"
      ]
     },
     "execution_count": 303,
     "metadata": {},
     "output_type": "execute_result"
    }
   ],
   "source": [
    "rates_list = [usd1mtd156n, mortgage30us, mortgage15us, dcpf3m, cpn3m, dcpf1m, aaa, baa, dff, flexsc, t10y2y, t10y3m, tedrate, t10yff, t5yff, tb6smffm, usd3mtd156n, usd12md156n, \n",
    "              eur1wkd156n, mprime, tb3ms, tb1yr, dtb6, dgs10, dfii10, dgs3mo, dgs30, dexuseu, dexchus, dexusuk, dexsius, nasdaqcom, willreitind, willlrgcap, willsmlcap, vxdcls, \n",
    "              stlfsi, nfci, h8b3094ncba, bc0dcbw027nbog, casdcbw027nbog, cildcbw027nbog, dpsdcbw027nbog, rhedcbw027nbog, clsacbw027nbog, dpsacbw027nbog, relacbw027nbog, rheacbw027nbog, \n",
    "              tlaacbw027nbog, tlbacbw027nbog, totci, usepuindxd, wlemuindxd, emvfincrises, stlppm]\n",
    "rates_df = pd.concat(rates_list, axis = 1)\n",
    "rates_df.head(5)"
   ]
  },
  {
   "cell_type": "code",
   "execution_count": null,
   "metadata": {},
   "outputs": [],
   "source": []
  },
  {
   "cell_type": "code",
   "execution_count": null,
   "metadata": {},
   "outputs": [],
   "source": []
  },
  {
   "cell_type": "code",
   "execution_count": null,
   "metadata": {},
   "outputs": [],
   "source": []
  },
  {
   "cell_type": "code",
   "execution_count": null,
   "metadata": {},
   "outputs": [],
   "source": []
  },
  {
   "cell_type": "code",
   "execution_count": null,
   "metadata": {},
   "outputs": [],
   "source": []
  },
  {
   "cell_type": "code",
   "execution_count": null,
   "metadata": {},
   "outputs": [],
   "source": []
  },
  {
   "cell_type": "code",
   "execution_count": 170,
   "metadata": {},
   "outputs": [],
   "source": []
  },
  {
   "cell_type": "code",
   "execution_count": null,
   "metadata": {},
   "outputs": [],
   "source": []
  },
  {
   "cell_type": "code",
   "execution_count": null,
   "metadata": {},
   "outputs": [],
   "source": []
  }
 ],
 "metadata": {
  "kernelspec": {
   "display_name": "Python 3",
   "language": "python",
   "name": "python3"
  },
  "language_info": {
   "codemirror_mode": {
    "name": "ipython",
    "version": 3
   },
   "file_extension": ".py",
   "mimetype": "text/x-python",
   "name": "python",
   "nbconvert_exporter": "python",
   "pygments_lexer": "ipython3",
   "version": "3.6.9"
  }
 },
 "nbformat": 4,
 "nbformat_minor": 4
}
