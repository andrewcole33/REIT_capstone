{
 "cells": [
  {
   "cell_type": "code",
   "execution_count": 78,
   "metadata": {},
   "outputs": [],
   "source": [
    "import pandas_datareader as pdr\n",
    "import datetime\n",
    "import matplotlib.pyplot as plt\n",
    "import pandas as pd\n",
    "import numpy as np\n",
    "import warnings\n",
    "warnings.filterwarnings('ignore')\n",
    "\n",
    "import itertools\n",
    "import statsmodels.api as sm\n",
    "from statsmodels.tsa.stattools import adfuller\n",
    "from statsmodels.tsa.seasonal import seasonal_decompose\n",
    "from statsmodels.graphics.tsaplots import plot_pacf\n",
    "from statsmodels.graphics.tsaplots import plot_acf\n",
    "\n",
    "%matplotlib inline"
   ]
  },
  {
   "cell_type": "code",
   "execution_count": 79,
   "metadata": {},
   "outputs": [],
   "source": [
    "start = datetime.datetime(1998,1,1)\n",
    "end = datetime.datetime.now()"
   ]
  },
  {
   "cell_type": "code",
   "execution_count": 80,
   "metadata": {},
   "outputs": [],
   "source": [
    "AMT = pdr.get_data_yahoo('AMT', start, end)\n",
    "AMT['Name'] = pd.Series()\n",
    "AMT['Name'] = 'AMT'\n",
    "\n",
    "CUBE = pdr.get_data_yahoo('CUBE', start, end)\n",
    "CUBE['Name'] = pd.Series()\n",
    "CUBE['Name'] = 'CUBE'\n",
    "\n",
    "DEI = pdr.get_data_yahoo('DEI')\n",
    "DEI['Name'] = pd.Series()\n",
    "DEI['Name'] = 'DEI'\n",
    "\n",
    "PLD = pdr.get_data_yahoo('PLD')\n",
    "PLD['Name'] = pd.Series()\n",
    "PLD['Name'] = 'PLD'\n",
    "\n",
    "FR = pdr.get_data_yahoo('FR')\n",
    "FR['Name'] = pd.Series()\n",
    "FR['Name'] = 'FR'\n",
    "\n",
    "MAA = pdr.get_data_yahoo('MAA')\n",
    "MAA['Name'] = pd.Series()\n",
    "MAA['Name'] = 'MAA'\n",
    "\n",
    "MGP = pdr.get_data_yahoo('MGP')\n",
    "MGP['Name'] = pd.Series()\n",
    "MGP['Name'] = 'MGP'\n",
    "\n",
    "MPW = pdr.get_data_yahoo('MPW')\n",
    "MPW['Name'] = pd.Series()\n",
    "MPW['Name'] = 'MPW'\n",
    "\n",
    "WY = pdr.get_data_yahoo('WY')\n",
    "WY['Name'] = pd.Series()\n",
    "WY['Name'] = 'WY'"
   ]
  },
  {
   "cell_type": "code",
   "execution_count": 81,
   "metadata": {},
   "outputs": [],
   "source": [
    "reit_df_list = [AMT, CUBE, DEI, PLD, FR, MAA, MGP, MPW, WY]\n",
    "for reit in reit_df_list:\n",
    "    reit.index = pd.to_datetime(reit.index)"
   ]
  },
  {
   "cell_type": "code",
   "execution_count": 82,
   "metadata": {},
   "outputs": [],
   "source": [
    "daily_reit_dfs = AMT.append([CUBE, DEI, PLD, FR, MAA, MGP, MPW, WY])"
   ]
  },
  {
   "cell_type": "code",
   "execution_count": 83,
   "metadata": {},
   "outputs": [],
   "source": [
    "daily_columns = daily_reit_dfs.columns.tolist()\n",
    "daily_columns = daily_columns[-1:] + daily_columns[:-1]\n",
    "daily_reit_dfs = daily_reit_dfs[daily_columns]"
   ]
  },
  {
   "cell_type": "code",
   "execution_count": 84,
   "metadata": {},
   "outputs": [
    {
     "data": {
      "text/html": [
       "<div>\n",
       "<style scoped>\n",
       "    .dataframe tbody tr th:only-of-type {\n",
       "        vertical-align: middle;\n",
       "    }\n",
       "\n",
       "    .dataframe tbody tr th {\n",
       "        vertical-align: top;\n",
       "    }\n",
       "\n",
       "    .dataframe thead th {\n",
       "        text-align: right;\n",
       "    }\n",
       "</style>\n",
       "<table border=\"1\" class=\"dataframe\">\n",
       "  <thead>\n",
       "    <tr style=\"text-align: right;\">\n",
       "      <th></th>\n",
       "      <th>Name</th>\n",
       "      <th>High</th>\n",
       "      <th>Low</th>\n",
       "      <th>Open</th>\n",
       "      <th>Close</th>\n",
       "      <th>Volume</th>\n",
       "      <th>Adj Close</th>\n",
       "    </tr>\n",
       "    <tr>\n",
       "      <th>Date</th>\n",
       "      <th></th>\n",
       "      <th></th>\n",
       "      <th></th>\n",
       "      <th></th>\n",
       "      <th></th>\n",
       "      <th></th>\n",
       "      <th></th>\n",
       "    </tr>\n",
       "  </thead>\n",
       "  <tbody>\n",
       "    <tr>\n",
       "      <td>1998-02-27</td>\n",
       "      <td>AMT</td>\n",
       "      <td>18.000000</td>\n",
       "      <td>17.375000</td>\n",
       "      <td>17.375000</td>\n",
       "      <td>17.375000</td>\n",
       "      <td>50000.0</td>\n",
       "      <td>14.991437</td>\n",
       "    </tr>\n",
       "    <tr>\n",
       "      <td>1998-03-02</td>\n",
       "      <td>AMT</td>\n",
       "      <td>17.250000</td>\n",
       "      <td>17.000000</td>\n",
       "      <td>17.250000</td>\n",
       "      <td>17.250000</td>\n",
       "      <td>75000.0</td>\n",
       "      <td>14.883590</td>\n",
       "    </tr>\n",
       "    <tr>\n",
       "      <td>1998-03-03</td>\n",
       "      <td>AMT</td>\n",
       "      <td>17.125000</td>\n",
       "      <td>16.750000</td>\n",
       "      <td>17.125000</td>\n",
       "      <td>17.125000</td>\n",
       "      <td>35000.0</td>\n",
       "      <td>14.775733</td>\n",
       "    </tr>\n",
       "    <tr>\n",
       "      <td>1998-03-04</td>\n",
       "      <td>AMT</td>\n",
       "      <td>15.750000</td>\n",
       "      <td>15.500000</td>\n",
       "      <td>15.750000</td>\n",
       "      <td>15.750000</td>\n",
       "      <td>60000.0</td>\n",
       "      <td>13.589359</td>\n",
       "    </tr>\n",
       "    <tr>\n",
       "      <td>1998-03-05</td>\n",
       "      <td>AMT</td>\n",
       "      <td>16.125000</td>\n",
       "      <td>16.125000</td>\n",
       "      <td>16.125000</td>\n",
       "      <td>16.125000</td>\n",
       "      <td>400.0</td>\n",
       "      <td>13.912916</td>\n",
       "    </tr>\n",
       "    <tr>\n",
       "      <td>...</td>\n",
       "      <td>...</td>\n",
       "      <td>...</td>\n",
       "      <td>...</td>\n",
       "      <td>...</td>\n",
       "      <td>...</td>\n",
       "      <td>...</td>\n",
       "      <td>...</td>\n",
       "    </tr>\n",
       "    <tr>\n",
       "      <td>2020-01-27</td>\n",
       "      <td>WY</td>\n",
       "      <td>30.299999</td>\n",
       "      <td>29.990000</td>\n",
       "      <td>30.219999</td>\n",
       "      <td>30.170000</td>\n",
       "      <td>3170700.0</td>\n",
       "      <td>30.170000</td>\n",
       "    </tr>\n",
       "    <tr>\n",
       "      <td>2020-01-28</td>\n",
       "      <td>WY</td>\n",
       "      <td>30.500000</td>\n",
       "      <td>30.240000</td>\n",
       "      <td>30.320000</td>\n",
       "      <td>30.389999</td>\n",
       "      <td>3710900.0</td>\n",
       "      <td>30.389999</td>\n",
       "    </tr>\n",
       "    <tr>\n",
       "      <td>2020-01-29</td>\n",
       "      <td>WY</td>\n",
       "      <td>30.570000</td>\n",
       "      <td>30.080000</td>\n",
       "      <td>30.440001</td>\n",
       "      <td>30.100000</td>\n",
       "      <td>3477700.0</td>\n",
       "      <td>30.100000</td>\n",
       "    </tr>\n",
       "    <tr>\n",
       "      <td>2020-01-30</td>\n",
       "      <td>WY</td>\n",
       "      <td>30.110001</td>\n",
       "      <td>29.580000</td>\n",
       "      <td>29.910000</td>\n",
       "      <td>30.070000</td>\n",
       "      <td>4079500.0</td>\n",
       "      <td>30.070000</td>\n",
       "    </tr>\n",
       "    <tr>\n",
       "      <td>2020-01-31</td>\n",
       "      <td>WY</td>\n",
       "      <td>29.580000</td>\n",
       "      <td>28.040001</td>\n",
       "      <td>29.170000</td>\n",
       "      <td>28.950001</td>\n",
       "      <td>10557800.0</td>\n",
       "      <td>28.950001</td>\n",
       "    </tr>\n",
       "  </tbody>\n",
       "</table>\n",
       "<p>18002 rows × 7 columns</p>\n",
       "</div>"
      ],
      "text/plain": [
       "           Name       High        Low       Open      Close      Volume  \\\n",
       "Date                                                                      \n",
       "1998-02-27  AMT  18.000000  17.375000  17.375000  17.375000     50000.0   \n",
       "1998-03-02  AMT  17.250000  17.000000  17.250000  17.250000     75000.0   \n",
       "1998-03-03  AMT  17.125000  16.750000  17.125000  17.125000     35000.0   \n",
       "1998-03-04  AMT  15.750000  15.500000  15.750000  15.750000     60000.0   \n",
       "1998-03-05  AMT  16.125000  16.125000  16.125000  16.125000       400.0   \n",
       "...         ...        ...        ...        ...        ...         ...   \n",
       "2020-01-27   WY  30.299999  29.990000  30.219999  30.170000   3170700.0   \n",
       "2020-01-28   WY  30.500000  30.240000  30.320000  30.389999   3710900.0   \n",
       "2020-01-29   WY  30.570000  30.080000  30.440001  30.100000   3477700.0   \n",
       "2020-01-30   WY  30.110001  29.580000  29.910000  30.070000   4079500.0   \n",
       "2020-01-31   WY  29.580000  28.040001  29.170000  28.950001  10557800.0   \n",
       "\n",
       "            Adj Close  \n",
       "Date                   \n",
       "1998-02-27  14.991437  \n",
       "1998-03-02  14.883590  \n",
       "1998-03-03  14.775733  \n",
       "1998-03-04  13.589359  \n",
       "1998-03-05  13.912916  \n",
       "...               ...  \n",
       "2020-01-27  30.170000  \n",
       "2020-01-28  30.389999  \n",
       "2020-01-29  30.100000  \n",
       "2020-01-30  30.070000  \n",
       "2020-01-31  28.950001  \n",
       "\n",
       "[18002 rows x 7 columns]"
      ]
     },
     "execution_count": 84,
     "metadata": {},
     "output_type": "execute_result"
    }
   ],
   "source": [
    "daily_reit_dfs"
   ]
  },
  {
   "cell_type": "code",
   "execution_count": 88,
   "metadata": {},
   "outputs": [],
   "source": [
    "#Create a daily lag to represent the price one day back. This will all for 'daily returns'\n",
    "daily_reit_dfs['Daily Lag'] = daily_reit_dfs['Close'].shift(1)"
   ]
  },
  {
   "cell_type": "code",
   "execution_count": 91,
   "metadata": {},
   "outputs": [],
   "source": [
    "daily_reit_dfs['Daily Returns'] = (daily_reit_dfs['Daily Lag']/daily_reit_dfs['Close']) - 1"
   ]
  },
  {
   "cell_type": "code",
   "execution_count": 92,
   "metadata": {},
   "outputs": [
    {
     "data": {
      "text/html": [
       "<div>\n",
       "<style scoped>\n",
       "    .dataframe tbody tr th:only-of-type {\n",
       "        vertical-align: middle;\n",
       "    }\n",
       "\n",
       "    .dataframe tbody tr th {\n",
       "        vertical-align: top;\n",
       "    }\n",
       "\n",
       "    .dataframe thead th {\n",
       "        text-align: right;\n",
       "    }\n",
       "</style>\n",
       "<table border=\"1\" class=\"dataframe\">\n",
       "  <thead>\n",
       "    <tr style=\"text-align: right;\">\n",
       "      <th></th>\n",
       "      <th>Name</th>\n",
       "      <th>High</th>\n",
       "      <th>Low</th>\n",
       "      <th>Open</th>\n",
       "      <th>Close</th>\n",
       "      <th>Volume</th>\n",
       "      <th>Adj Close</th>\n",
       "      <th>Daily Lag</th>\n",
       "      <th>Daily Returns</th>\n",
       "    </tr>\n",
       "    <tr>\n",
       "      <th>Date</th>\n",
       "      <th></th>\n",
       "      <th></th>\n",
       "      <th></th>\n",
       "      <th></th>\n",
       "      <th></th>\n",
       "      <th></th>\n",
       "      <th></th>\n",
       "      <th></th>\n",
       "      <th></th>\n",
       "    </tr>\n",
       "  </thead>\n",
       "  <tbody>\n",
       "    <tr>\n",
       "      <td>1998-02-27</td>\n",
       "      <td>AMT</td>\n",
       "      <td>18.000000</td>\n",
       "      <td>17.375000</td>\n",
       "      <td>17.375000</td>\n",
       "      <td>17.375000</td>\n",
       "      <td>50000.0</td>\n",
       "      <td>14.991437</td>\n",
       "      <td>NaN</td>\n",
       "      <td>NaN</td>\n",
       "    </tr>\n",
       "    <tr>\n",
       "      <td>1998-03-02</td>\n",
       "      <td>AMT</td>\n",
       "      <td>17.250000</td>\n",
       "      <td>17.000000</td>\n",
       "      <td>17.250000</td>\n",
       "      <td>17.250000</td>\n",
       "      <td>75000.0</td>\n",
       "      <td>14.883590</td>\n",
       "      <td>17.375000</td>\n",
       "      <td>0.007246</td>\n",
       "    </tr>\n",
       "    <tr>\n",
       "      <td>1998-03-03</td>\n",
       "      <td>AMT</td>\n",
       "      <td>17.125000</td>\n",
       "      <td>16.750000</td>\n",
       "      <td>17.125000</td>\n",
       "      <td>17.125000</td>\n",
       "      <td>35000.0</td>\n",
       "      <td>14.775733</td>\n",
       "      <td>17.250000</td>\n",
       "      <td>0.007299</td>\n",
       "    </tr>\n",
       "    <tr>\n",
       "      <td>1998-03-04</td>\n",
       "      <td>AMT</td>\n",
       "      <td>15.750000</td>\n",
       "      <td>15.500000</td>\n",
       "      <td>15.750000</td>\n",
       "      <td>15.750000</td>\n",
       "      <td>60000.0</td>\n",
       "      <td>13.589359</td>\n",
       "      <td>17.125000</td>\n",
       "      <td>0.087302</td>\n",
       "    </tr>\n",
       "    <tr>\n",
       "      <td>1998-03-05</td>\n",
       "      <td>AMT</td>\n",
       "      <td>16.125000</td>\n",
       "      <td>16.125000</td>\n",
       "      <td>16.125000</td>\n",
       "      <td>16.125000</td>\n",
       "      <td>400.0</td>\n",
       "      <td>13.912916</td>\n",
       "      <td>15.750000</td>\n",
       "      <td>-0.023256</td>\n",
       "    </tr>\n",
       "    <tr>\n",
       "      <td>...</td>\n",
       "      <td>...</td>\n",
       "      <td>...</td>\n",
       "      <td>...</td>\n",
       "      <td>...</td>\n",
       "      <td>...</td>\n",
       "      <td>...</td>\n",
       "      <td>...</td>\n",
       "      <td>...</td>\n",
       "      <td>...</td>\n",
       "    </tr>\n",
       "    <tr>\n",
       "      <td>2020-01-27</td>\n",
       "      <td>WY</td>\n",
       "      <td>30.299999</td>\n",
       "      <td>29.990000</td>\n",
       "      <td>30.219999</td>\n",
       "      <td>30.170000</td>\n",
       "      <td>3170700.0</td>\n",
       "      <td>30.170000</td>\n",
       "      <td>30.530001</td>\n",
       "      <td>0.011932</td>\n",
       "    </tr>\n",
       "    <tr>\n",
       "      <td>2020-01-28</td>\n",
       "      <td>WY</td>\n",
       "      <td>30.500000</td>\n",
       "      <td>30.240000</td>\n",
       "      <td>30.320000</td>\n",
       "      <td>30.389999</td>\n",
       "      <td>3710900.0</td>\n",
       "      <td>30.389999</td>\n",
       "      <td>30.170000</td>\n",
       "      <td>-0.007239</td>\n",
       "    </tr>\n",
       "    <tr>\n",
       "      <td>2020-01-29</td>\n",
       "      <td>WY</td>\n",
       "      <td>30.570000</td>\n",
       "      <td>30.080000</td>\n",
       "      <td>30.440001</td>\n",
       "      <td>30.100000</td>\n",
       "      <td>3477700.0</td>\n",
       "      <td>30.100000</td>\n",
       "      <td>30.389999</td>\n",
       "      <td>0.009635</td>\n",
       "    </tr>\n",
       "    <tr>\n",
       "      <td>2020-01-30</td>\n",
       "      <td>WY</td>\n",
       "      <td>30.110001</td>\n",
       "      <td>29.580000</td>\n",
       "      <td>29.910000</td>\n",
       "      <td>30.070000</td>\n",
       "      <td>4079500.0</td>\n",
       "      <td>30.070000</td>\n",
       "      <td>30.100000</td>\n",
       "      <td>0.000998</td>\n",
       "    </tr>\n",
       "    <tr>\n",
       "      <td>2020-01-31</td>\n",
       "      <td>WY</td>\n",
       "      <td>29.580000</td>\n",
       "      <td>28.040001</td>\n",
       "      <td>29.170000</td>\n",
       "      <td>28.950001</td>\n",
       "      <td>10557800.0</td>\n",
       "      <td>28.950001</td>\n",
       "      <td>30.070000</td>\n",
       "      <td>0.038687</td>\n",
       "    </tr>\n",
       "  </tbody>\n",
       "</table>\n",
       "<p>18002 rows × 9 columns</p>\n",
       "</div>"
      ],
      "text/plain": [
       "           Name       High        Low       Open      Close      Volume  \\\n",
       "Date                                                                      \n",
       "1998-02-27  AMT  18.000000  17.375000  17.375000  17.375000     50000.0   \n",
       "1998-03-02  AMT  17.250000  17.000000  17.250000  17.250000     75000.0   \n",
       "1998-03-03  AMT  17.125000  16.750000  17.125000  17.125000     35000.0   \n",
       "1998-03-04  AMT  15.750000  15.500000  15.750000  15.750000     60000.0   \n",
       "1998-03-05  AMT  16.125000  16.125000  16.125000  16.125000       400.0   \n",
       "...         ...        ...        ...        ...        ...         ...   \n",
       "2020-01-27   WY  30.299999  29.990000  30.219999  30.170000   3170700.0   \n",
       "2020-01-28   WY  30.500000  30.240000  30.320000  30.389999   3710900.0   \n",
       "2020-01-29   WY  30.570000  30.080000  30.440001  30.100000   3477700.0   \n",
       "2020-01-30   WY  30.110001  29.580000  29.910000  30.070000   4079500.0   \n",
       "2020-01-31   WY  29.580000  28.040001  29.170000  28.950001  10557800.0   \n",
       "\n",
       "            Adj Close  Daily Lag  Daily Returns  \n",
       "Date                                             \n",
       "1998-02-27  14.991437        NaN            NaN  \n",
       "1998-03-02  14.883590  17.375000       0.007246  \n",
       "1998-03-03  14.775733  17.250000       0.007299  \n",
       "1998-03-04  13.589359  17.125000       0.087302  \n",
       "1998-03-05  13.912916  15.750000      -0.023256  \n",
       "...               ...        ...            ...  \n",
       "2020-01-27  30.170000  30.530001       0.011932  \n",
       "2020-01-28  30.389999  30.170000      -0.007239  \n",
       "2020-01-29  30.100000  30.389999       0.009635  \n",
       "2020-01-30  30.070000  30.100000       0.000998  \n",
       "2020-01-31  28.950001  30.070000       0.038687  \n",
       "\n",
       "[18002 rows x 9 columns]"
      ]
     },
     "execution_count": 92,
     "metadata": {},
     "output_type": "execute_result"
    }
   ],
   "source": [
    "daily_reit_dfs"
   ]
  },
  {
   "cell_type": "code",
   "execution_count": 93,
   "metadata": {},
   "outputs": [],
   "source": [
    "reit_df_name_list = ['AMT', 'CUBE', 'DEI', 'PLD', 'FR', 'MAA', 'MGP', 'MPW', 'WY']\n",
    "reit_df_dict = {}\n",
    "for name in reit_df_name_list:\n",
    "    df = daily_reit_dfs.loc[daily_reit_dfs.Name == name]\n",
    "    reit_df_dict[name] = df"
   ]
  },
  {
   "cell_type": "code",
   "execution_count": 129,
   "metadata": {},
   "outputs": [
    {
     "data": {
      "text/plain": [
       "dict_keys(['AMT', 'CUBE', 'DEI', 'PLD', 'FR', 'MAA', 'MGP', 'MPW', 'WY'])"
      ]
     },
     "execution_count": 129,
     "metadata": {},
     "output_type": "execute_result"
    }
   ],
   "source": [
    "reit_df_dict.keys()"
   ]
  },
  {
   "cell_type": "code",
   "execution_count": 162,
   "metadata": {},
   "outputs": [],
   "source": [
    "def plot_return_distributions(df_dict):\n",
    "    for key in df_dict.keys():\n",
    "        plt.style.use('ggplot')\n",
    "        df_dict[key]['Daily Returns'].hist(bins = 25)\n",
    "        plt.title(f'{key} Daily Return Histogram')\n",
    "        plt.xlim(left = df_dict[key]['Daily Returns'].min() - 0.5, right = df_dict[key]['Daily Returns'].max() + 0.5)\n",
    "        plt.tight_layout()\n",
    "        plt.show();"
   ]
  },
  {
   "cell_type": "code",
   "execution_count": 163,
   "metadata": {},
   "outputs": [
    {
     "data": {
      "image/png": "[encoded data removed]",
      "text/plain": [
       "<Figure size 432x288 with 1 Axes>"
      ]
     },
     "metadata": {},
     "output_type": "display_data"
    },
    {
     "data": {
      "image/png": "[encoded data removed]",
      "text/plain": [
       "<Figure size 432x288 with 1 Axes>"
      ]
     },
     "metadata": {},
     "output_type": "display_data"
    },
    {
     "data": {
      "image/png": "[encoded data removed]",
      "text/plain": [
       "<Figure size 432x288 with 1 Axes>"
      ]
     },
     "metadata": {},
     "output_type": "display_data"
    },
    {
     "data": {
      "image/png": "[encoded data removed]",
      "text/plain": [
       "<Figure size 432x288 with 1 Axes>"
      ]
     },
     "metadata": {},
     "output_type": "display_data"
    },
    {
     "data": {
      "image/png": "[encoded data removed]",
      "text/plain": [
       "<Figure size 432x288 with 1 Axes>"
      ]
     },
     "metadata": {},
     "output_type": "display_data"
    },
    {
     "data": {
      "image/png": "[encoded data removed]",
      "text/plain": [
       "<Figure size 432x288 with 1 Axes>"
      ]
     },
     "metadata": {},
     "output_type": "display_data"
    },
    {
     "data": {
      "image/png": "[encoded data removed]",
      "text/plain": [
       "<Figure size 432x288 with 1 Axes>"
      ]
     },
     "metadata": {},
     "output_type": "display_data"
    },
    {
     "data": {
      "image/png": "[encoded data removed]",
      "text/plain": [
       "<Figure size 432x288 with 1 Axes>"
      ]
     },
     "metadata": {},
     "output_type": "display_data"
    },
    {
     "data": {
      "image/png": "[encoded data removed]",
      "text/plain": [
       "<Figure size 432x288 with 1 Axes>"
      ]
     },
     "metadata": {},
     "output_type": "display_data"
    }
   ],
   "source": [
    "plot_return_distributions(reit_df_dict)"
   ]
  },
  {
   "cell_type": "code",
   "execution_count": null,
   "metadata": {},
   "outputs": [],
   "source": []
  },
  {
   "cell_type": "code",
   "execution_count": null,
   "metadata": {},
   "outputs": [],
   "source": []
  },
  {
   "cell_type": "code",
   "execution_count": null,
   "metadata": {},
   "outputs": [],
   "source": []
  },
  {
   "cell_type": "code",
   "execution_count": null,
   "metadata": {},
   "outputs": [],
   "source": []
  },
  {
   "cell_type": "code",
   "execution_count": null,
   "metadata": {},
   "outputs": [],
   "source": []
  },
  {
   "cell_type": "code",
   "execution_count": null,
   "metadata": {},
   "outputs": [],
   "source": []
  },
  {
   "cell_type": "code",
   "execution_count": null,
   "metadata": {},
   "outputs": [],
   "source": []
  },
  {
   "cell_type": "code",
   "execution_count": null,
   "metadata": {},
   "outputs": [],
   "source": []
  },
  {
   "cell_type": "code",
   "execution_count": null,
   "metadata": {},
   "outputs": [],
   "source": []
  },
  {
   "cell_type": "code",
   "execution_count": null,
   "metadata": {},
   "outputs": [],
   "source": []
  },
  {
   "cell_type": "code",
   "execution_count": null,
   "metadata": {},
   "outputs": [],
   "source": []
  },
  {
   "cell_type": "code",
   "execution_count": null,
   "metadata": {},
   "outputs": [],
   "source": []
  },
  {
   "cell_type": "code",
   "execution_count": null,
   "metadata": {},
   "outputs": [],
   "source": []
  },
  {
   "cell_type": "code",
   "execution_count": null,
   "metadata": {},
   "outputs": [],
   "source": []
  },
  {
   "cell_type": "code",
   "execution_count": null,
   "metadata": {},
   "outputs": [],
   "source": []
  },
  {
   "cell_type": "code",
   "execution_count": null,
   "metadata": {},
   "outputs": [],
   "source": []
  },
  {
   "cell_type": "code",
   "execution_count": null,
   "metadata": {},
   "outputs": [],
   "source": []
  },
  {
   "cell_type": "code",
   "execution_count": null,
   "metadata": {},
   "outputs": [],
   "source": []
  }
 ],
 "metadata": {
  "kernelspec": {
   "display_name": "Python 3",
   "language": "python",
   "name": "python3"
  },
  "language_info": {
   "codemirror_mode": {
    "name": "ipython",
    "version": 3
   },
   "file_extension": ".py",
   "mimetype": "text/x-python",
   "name": "python",
   "nbconvert_exporter": "python",
   "pygments_lexer": "ipython3",
   "version": "3.6.9"
  }
 },
 "nbformat": 4,
 "nbformat_minor": 4
}
