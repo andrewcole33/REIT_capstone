{
 "cells": [
  {
   "cell_type": "code",
   "execution_count": 2,
   "metadata": {},
   "outputs": [],
   "source": [
    "%matplotlib inline\n",
    "import matplotlib.pyplot as plt\n",
    "import tensorflow as tf\n",
    "import numpy as np\n",
    "import pandas as pd\n",
    "import os\n",
    "from sklearn.preprocessing import MinMaxScaler\n",
    "\n",
    "from tensorflow.python.keras.models import Sequential\n",
    "from tensorflow.python.keras.layers import Input, Dense, GRU, Embedding, BatchNormalization\n",
    "from tensorflow.python.keras.optimizers import RMSprop\n",
    "from tensorflow.python.keras.callbacks import EarlyStopping, ModelCheckpoint, TensorBoard, ReduceLROnPlateau"
   ]
  },
  {
   "cell_type": "code",
   "execution_count": 3,
   "metadata": {},
   "outputs": [
    {
     "data": {
      "text/plain": [
       "'2.1.0'"
      ]
     },
     "execution_count": 3,
     "metadata": {},
     "output_type": "execute_result"
    }
   ],
   "source": [
    "tf.__version__"
   ]
  },
  {
   "cell_type": "code",
   "execution_count": 4,
   "metadata": {},
   "outputs": [
    {
     "data": {
      "text/plain": [
       "'2.2.4-tf'"
      ]
     },
     "execution_count": 4,
     "metadata": {},
     "output_type": "execute_result"
    }
   ],
   "source": [
    "tf.keras.__version__"
   ]
  },
  {
   "cell_type": "code",
   "execution_count": 5,
   "metadata": {},
   "outputs": [
    {
     "data": {
      "text/plain": [
       "'0.25.1'"
      ]
     },
     "execution_count": 5,
     "metadata": {},
     "output_type": "execute_result"
    }
   ],
   "source": [
    "pd.__version__"
   ]
  },
  {
   "cell_type": "code",
   "execution_count": 6,
   "metadata": {},
   "outputs": [],
   "source": [
    "AMT = pd.read_csv('data/AMT_GRU.csv')\n",
    "AMT.columns = ['date', 'open', 'high', 'low', 'close', 'volume']\n",
    "AMT.set_index('date', inplace = True, drop = True)\n",
    "AMT['name'] = 'AMT'\n",
    "AMT['mid'] = (AMT['high'] + AMT['low']/2)"
   ]
  },
  {
   "cell_type": "code",
   "execution_count": 7,
   "metadata": {},
   "outputs": [],
   "source": [
    "ELS = pd.read_csv('data/ELS_GRU.csv')\n",
    "ELS.columns = ['date', 'open', 'high', 'low', 'close', 'volume']\n",
    "ELS.set_index('date', inplace = True, drop = True)\n",
    "ELS['name'] = 'ELS'\n",
    "ELS['mid'] = (ELS['high']+ELS['low'])/2"
   ]
  },
  {
   "cell_type": "code",
   "execution_count": 8,
   "metadata": {},
   "outputs": [],
   "source": [
    "PLD = pd.read_csv('data/PLD_GRU.csv')\n",
    "PLD.columns = ['date', 'open', 'high', 'low', 'close', 'volume']\n",
    "PLD.set_index('date', inplace = True, drop = True)\n",
    "PLD['name'] = 'PLD'\n",
    "PLD['mid'] = (PLD['high'] + PLD['low'])/2"
   ]
  },
  {
   "cell_type": "code",
   "execution_count": 9,
   "metadata": {},
   "outputs": [],
   "source": [
    "FR = pd.read_csv('data/FR_GRU.csv')\n",
    "FR.columns = ['date', 'open', 'high', 'low', 'close', 'volume']\n",
    "FR.set_index('date', inplace = True, drop = True)\n",
    "FR['name'] = 'FR'\n",
    "FR['mid'] = (FR['high']+FR['low'])/2"
   ]
  },
  {
   "cell_type": "code",
   "execution_count": 10,
   "metadata": {},
   "outputs": [],
   "source": [
    "MAA = pd.read_csv('data/MAA_GRU.csv')\n",
    "MAA.columns = ['date', 'open', 'high', 'low', 'close', 'volume']\n",
    "MAA.set_index('date', inplace = True, drop = True)\n",
    "MAA['name'] = 'MAA'\n",
    "MAA['mid'] = (MAA['high']+MAA['low'])/2"
   ]
  },
  {
   "cell_type": "code",
   "execution_count": 11,
   "metadata": {},
   "outputs": [],
   "source": [
    "SUI = pd.read_csv('data/SUI_GRU.csv')\n",
    "SUI.columns = ['date', 'open', 'high', 'low', 'close', 'volume']\n",
    "SUI.set_index('date', inplace = True, drop = True)\n",
    "SUI['name'] = 'SUI'\n",
    "SUI['mid'] = (SUI['high'] + SUI['low'])/2"
   ]
  },
  {
   "cell_type": "code",
   "execution_count": 12,
   "metadata": {},
   "outputs": [],
   "source": [
    "BXMT = pd.read_csv('data/BXMT_GRU.csv')\n",
    "BXMT.columns = ['date', 'open', 'high', 'low', 'close', 'volume']\n",
    "BXMT.set_index('date', inplace = True, drop = True)\n",
    "BXMT['name'] = 'BXMT'\n",
    "BXMT['mid'] = (BXMT['high'] + BXMT['low'])/2"
   ]
  },
  {
   "cell_type": "code",
   "execution_count": 13,
   "metadata": {},
   "outputs": [],
   "source": [
    "RHP = pd.read_csv('data/RHP_GRU.csv')\n",
    "RHP.columns = ['date', 'open', 'high', 'low', 'close', 'volume']\n",
    "RHP.set_index('date', inplace = True, drop = True)\n",
    "RHP['name'] = 'RHP'\n",
    "RHP['mid'] = (RHP['high'] + RHP['low'])/2"
   ]
  },
  {
   "cell_type": "code",
   "execution_count": 14,
   "metadata": {},
   "outputs": [
    {
     "name": "stderr",
     "output_type": "stream",
     "text": [
      "/opt/anaconda3/envs/learn-env/lib/python3.6/site-packages/ipykernel_launcher.py:1: FutureWarning: Sorting because non-concatenation axis is not aligned. A future version\n",
      "of pandas will change to not sort by default.\n",
      "\n",
      "To accept the future behavior, pass 'sort=False'.\n",
      "\n",
      "To retain the current behavior and silence the warning, pass 'sort=True'.\n",
      "\n",
      "  \"\"\"Entry point for launching an IPython kernel.\n"
     ]
    }
   ],
   "source": [
    "df = pd.concat({'AMT':AMT, 'ELS':ELS, 'PLD':PLD, 'FR':FR, 'MAA':MAA, 'SUI':SUI,'BXMT':BXMT, 'RHP':RHP}, axis = 1)"
   ]
  },
  {
   "cell_type": "code",
   "execution_count": 16,
   "metadata": {},
   "outputs": [
    {
     "data": {
      "text/html": [
       "<div>\n",
       "<style scoped>\n",
       "    .dataframe tbody tr th:only-of-type {\n",
       "        vertical-align: middle;\n",
       "    }\n",
       "\n",
       "    .dataframe tbody tr th {\n",
       "        vertical-align: top;\n",
       "    }\n",
       "\n",
       "    .dataframe thead tr th {\n",
       "        text-align: left;\n",
       "    }\n",
       "</style>\n",
       "<table border=\"1\" class=\"dataframe\">\n",
       "  <thead>\n",
       "    <tr>\n",
       "      <th></th>\n",
       "      <th colspan=\"6\" halign=\"left\">AMT</th>\n",
       "      <th colspan=\"4\" halign=\"left\">ELS</th>\n",
       "      <th>...</th>\n",
       "      <th colspan=\"4\" halign=\"left\">BXMT</th>\n",
       "      <th colspan=\"6\" halign=\"left\">RHP</th>\n",
       "    </tr>\n",
       "    <tr>\n",
       "      <th></th>\n",
       "      <th>open</th>\n",
       "      <th>high</th>\n",
       "      <th>low</th>\n",
       "      <th>close</th>\n",
       "      <th>volume</th>\n",
       "      <th>mid</th>\n",
       "      <th>open</th>\n",
       "      <th>high</th>\n",
       "      <th>low</th>\n",
       "      <th>close</th>\n",
       "      <th>...</th>\n",
       "      <th>low</th>\n",
       "      <th>close</th>\n",
       "      <th>volume</th>\n",
       "      <th>mid</th>\n",
       "      <th>open</th>\n",
       "      <th>high</th>\n",
       "      <th>low</th>\n",
       "      <th>close</th>\n",
       "      <th>volume</th>\n",
       "      <th>mid</th>\n",
       "    </tr>\n",
       "  </thead>\n",
       "  <tbody>\n",
       "    <tr>\n",
       "      <td>2000-02-10</td>\n",
       "      <td>41.88</td>\n",
       "      <td>44.75</td>\n",
       "      <td>41.750</td>\n",
       "      <td>43.94</td>\n",
       "      <td>2589300</td>\n",
       "      <td>65.6250</td>\n",
       "      <td>NaN</td>\n",
       "      <td>NaN</td>\n",
       "      <td>NaN</td>\n",
       "      <td>NaN</td>\n",
       "      <td>...</td>\n",
       "      <td>NaN</td>\n",
       "      <td>NaN</td>\n",
       "      <td>NaN</td>\n",
       "      <td>NaN</td>\n",
       "      <td>NaN</td>\n",
       "      <td>NaN</td>\n",
       "      <td>NaN</td>\n",
       "      <td>NaN</td>\n",
       "      <td>NaN</td>\n",
       "      <td>NaN</td>\n",
       "    </tr>\n",
       "    <tr>\n",
       "      <td>2000-02-11</td>\n",
       "      <td>44.50</td>\n",
       "      <td>45.00</td>\n",
       "      <td>44.060</td>\n",
       "      <td>44.25</td>\n",
       "      <td>1212700</td>\n",
       "      <td>67.0300</td>\n",
       "      <td>24.00</td>\n",
       "      <td>24.060</td>\n",
       "      <td>24.00</td>\n",
       "      <td>24.00</td>\n",
       "      <td>...</td>\n",
       "      <td>4.250</td>\n",
       "      <td>4.250</td>\n",
       "      <td>0.0</td>\n",
       "      <td>4.2500</td>\n",
       "      <td>29.19</td>\n",
       "      <td>29.81</td>\n",
       "      <td>29.19</td>\n",
       "      <td>29.44</td>\n",
       "      <td>15200.0</td>\n",
       "      <td>29.500</td>\n",
       "    </tr>\n",
       "    <tr>\n",
       "      <td>2000-02-14</td>\n",
       "      <td>44.44</td>\n",
       "      <td>44.88</td>\n",
       "      <td>43.810</td>\n",
       "      <td>44.88</td>\n",
       "      <td>1778700</td>\n",
       "      <td>66.7850</td>\n",
       "      <td>24.00</td>\n",
       "      <td>24.250</td>\n",
       "      <td>24.00</td>\n",
       "      <td>24.19</td>\n",
       "      <td>...</td>\n",
       "      <td>4.063</td>\n",
       "      <td>4.063</td>\n",
       "      <td>3000.0</td>\n",
       "      <td>4.0940</td>\n",
       "      <td>29.44</td>\n",
       "      <td>29.44</td>\n",
       "      <td>28.75</td>\n",
       "      <td>28.75</td>\n",
       "      <td>7100.0</td>\n",
       "      <td>29.095</td>\n",
       "    </tr>\n",
       "    <tr>\n",
       "      <td>2000-02-15</td>\n",
       "      <td>45.00</td>\n",
       "      <td>47.25</td>\n",
       "      <td>45.000</td>\n",
       "      <td>45.63</td>\n",
       "      <td>1119500</td>\n",
       "      <td>69.7500</td>\n",
       "      <td>24.12</td>\n",
       "      <td>24.250</td>\n",
       "      <td>24.00</td>\n",
       "      <td>24.12</td>\n",
       "      <td>...</td>\n",
       "      <td>4.063</td>\n",
       "      <td>4.063</td>\n",
       "      <td>0.0</td>\n",
       "      <td>4.1255</td>\n",
       "      <td>28.62</td>\n",
       "      <td>28.62</td>\n",
       "      <td>27.62</td>\n",
       "      <td>28.44</td>\n",
       "      <td>29300.0</td>\n",
       "      <td>28.120</td>\n",
       "    </tr>\n",
       "    <tr>\n",
       "      <td>2000-02-16</td>\n",
       "      <td>45.88</td>\n",
       "      <td>46.75</td>\n",
       "      <td>45.000</td>\n",
       "      <td>46.00</td>\n",
       "      <td>479400</td>\n",
       "      <td>69.2500</td>\n",
       "      <td>24.25</td>\n",
       "      <td>24.380</td>\n",
       "      <td>24.00</td>\n",
       "      <td>24.19</td>\n",
       "      <td>...</td>\n",
       "      <td>4.060</td>\n",
       "      <td>4.060</td>\n",
       "      <td>0.0</td>\n",
       "      <td>4.0600</td>\n",
       "      <td>27.94</td>\n",
       "      <td>28.38</td>\n",
       "      <td>27.69</td>\n",
       "      <td>27.88</td>\n",
       "      <td>45700.0</td>\n",
       "      <td>28.035</td>\n",
       "    </tr>\n",
       "    <tr>\n",
       "      <td>...</td>\n",
       "      <td>...</td>\n",
       "      <td>...</td>\n",
       "      <td>...</td>\n",
       "      <td>...</td>\n",
       "      <td>...</td>\n",
       "      <td>...</td>\n",
       "      <td>...</td>\n",
       "      <td>...</td>\n",
       "      <td>...</td>\n",
       "      <td>...</td>\n",
       "      <td>...</td>\n",
       "      <td>...</td>\n",
       "      <td>...</td>\n",
       "      <td>...</td>\n",
       "      <td>...</td>\n",
       "      <td>...</td>\n",
       "      <td>...</td>\n",
       "      <td>...</td>\n",
       "      <td>...</td>\n",
       "      <td>...</td>\n",
       "      <td>...</td>\n",
       "    </tr>\n",
       "    <tr>\n",
       "      <td>2020-01-27</td>\n",
       "      <td>236.32</td>\n",
       "      <td>238.16</td>\n",
       "      <td>235.675</td>\n",
       "      <td>237.47</td>\n",
       "      <td>1197185</td>\n",
       "      <td>355.9975</td>\n",
       "      <td>71.87</td>\n",
       "      <td>72.310</td>\n",
       "      <td>71.21</td>\n",
       "      <td>71.80</td>\n",
       "      <td>...</td>\n",
       "      <td>37.540</td>\n",
       "      <td>37.740</td>\n",
       "      <td>808441.0</td>\n",
       "      <td>37.6750</td>\n",
       "      <td>84.78</td>\n",
       "      <td>86.14</td>\n",
       "      <td>84.24</td>\n",
       "      <td>86.00</td>\n",
       "      <td>403019.0</td>\n",
       "      <td>85.190</td>\n",
       "    </tr>\n",
       "    <tr>\n",
       "      <td>2020-01-28</td>\n",
       "      <td>237.11</td>\n",
       "      <td>237.67</td>\n",
       "      <td>236.330</td>\n",
       "      <td>237.18</td>\n",
       "      <td>1051762</td>\n",
       "      <td>355.8350</td>\n",
       "      <td>71.80</td>\n",
       "      <td>72.620</td>\n",
       "      <td>71.27</td>\n",
       "      <td>72.35</td>\n",
       "      <td>...</td>\n",
       "      <td>37.780</td>\n",
       "      <td>38.090</td>\n",
       "      <td>671980.0</td>\n",
       "      <td>37.9650</td>\n",
       "      <td>86.24</td>\n",
       "      <td>87.65</td>\n",
       "      <td>86.24</td>\n",
       "      <td>87.33</td>\n",
       "      <td>326757.0</td>\n",
       "      <td>86.945</td>\n",
       "    </tr>\n",
       "    <tr>\n",
       "      <td>2020-01-29</td>\n",
       "      <td>237.43</td>\n",
       "      <td>237.86</td>\n",
       "      <td>232.860</td>\n",
       "      <td>233.44</td>\n",
       "      <td>1434417</td>\n",
       "      <td>354.2900</td>\n",
       "      <td>72.51</td>\n",
       "      <td>73.090</td>\n",
       "      <td>72.02</td>\n",
       "      <td>72.71</td>\n",
       "      <td>...</td>\n",
       "      <td>38.190</td>\n",
       "      <td>38.320</td>\n",
       "      <td>973953.0</td>\n",
       "      <td>38.3375</td>\n",
       "      <td>87.41</td>\n",
       "      <td>87.77</td>\n",
       "      <td>86.27</td>\n",
       "      <td>87.02</td>\n",
       "      <td>201490.0</td>\n",
       "      <td>87.020</td>\n",
       "    </tr>\n",
       "    <tr>\n",
       "      <td>2020-01-30</td>\n",
       "      <td>232.42</td>\n",
       "      <td>235.26</td>\n",
       "      <td>231.310</td>\n",
       "      <td>235.20</td>\n",
       "      <td>1271352</td>\n",
       "      <td>350.9150</td>\n",
       "      <td>72.57</td>\n",
       "      <td>73.905</td>\n",
       "      <td>72.21</td>\n",
       "      <td>73.12</td>\n",
       "      <td>...</td>\n",
       "      <td>38.140</td>\n",
       "      <td>38.420</td>\n",
       "      <td>651168.0</td>\n",
       "      <td>38.2875</td>\n",
       "      <td>86.37</td>\n",
       "      <td>86.83</td>\n",
       "      <td>86.07</td>\n",
       "      <td>86.70</td>\n",
       "      <td>289728.0</td>\n",
       "      <td>86.450</td>\n",
       "    </tr>\n",
       "    <tr>\n",
       "      <td>2020-01-31</td>\n",
       "      <td>234.36</td>\n",
       "      <td>234.94</td>\n",
       "      <td>230.850</td>\n",
       "      <td>231.74</td>\n",
       "      <td>1700943</td>\n",
       "      <td>350.3650</td>\n",
       "      <td>73.07</td>\n",
       "      <td>73.400</td>\n",
       "      <td>72.39</td>\n",
       "      <td>72.75</td>\n",
       "      <td>...</td>\n",
       "      <td>38.130</td>\n",
       "      <td>38.200</td>\n",
       "      <td>775083.0</td>\n",
       "      <td>38.3350</td>\n",
       "      <td>86.44</td>\n",
       "      <td>86.65</td>\n",
       "      <td>84.24</td>\n",
       "      <td>85.03</td>\n",
       "      <td>362804.0</td>\n",
       "      <td>85.445</td>\n",
       "    </tr>\n",
       "  </tbody>\n",
       "</table>\n",
       "<p>5025 rows × 48 columns</p>\n",
       "</div>"
      ],
      "text/plain": [
       "               AMT                                                ELS          \\\n",
       "              open    high      low   close   volume       mid   open    high   \n",
       "2000-02-10   41.88   44.75   41.750   43.94  2589300   65.6250    NaN     NaN   \n",
       "2000-02-11   44.50   45.00   44.060   44.25  1212700   67.0300  24.00  24.060   \n",
       "2000-02-14   44.44   44.88   43.810   44.88  1778700   66.7850  24.00  24.250   \n",
       "2000-02-15   45.00   47.25   45.000   45.63  1119500   69.7500  24.12  24.250   \n",
       "2000-02-16   45.88   46.75   45.000   46.00   479400   69.2500  24.25  24.380   \n",
       "...            ...     ...      ...     ...      ...       ...    ...     ...   \n",
       "2020-01-27  236.32  238.16  235.675  237.47  1197185  355.9975  71.87  72.310   \n",
       "2020-01-28  237.11  237.67  236.330  237.18  1051762  355.8350  71.80  72.620   \n",
       "2020-01-29  237.43  237.86  232.860  233.44  1434417  354.2900  72.51  73.090   \n",
       "2020-01-30  232.42  235.26  231.310  235.20  1271352  350.9150  72.57  73.905   \n",
       "2020-01-31  234.36  234.94  230.850  231.74  1700943  350.3650  73.07  73.400   \n",
       "\n",
       "                          ...    BXMT                               RHP  \\\n",
       "              low  close  ...     low   close    volume      mid   open   \n",
       "2000-02-10    NaN    NaN  ...     NaN     NaN       NaN      NaN    NaN   \n",
       "2000-02-11  24.00  24.00  ...   4.250   4.250       0.0   4.2500  29.19   \n",
       "2000-02-14  24.00  24.19  ...   4.063   4.063    3000.0   4.0940  29.44   \n",
       "2000-02-15  24.00  24.12  ...   4.063   4.063       0.0   4.1255  28.62   \n",
       "2000-02-16  24.00  24.19  ...   4.060   4.060       0.0   4.0600  27.94   \n",
       "...           ...    ...  ...     ...     ...       ...      ...    ...   \n",
       "2020-01-27  71.21  71.80  ...  37.540  37.740  808441.0  37.6750  84.78   \n",
       "2020-01-28  71.27  72.35  ...  37.780  38.090  671980.0  37.9650  86.24   \n",
       "2020-01-29  72.02  72.71  ...  38.190  38.320  973953.0  38.3375  87.41   \n",
       "2020-01-30  72.21  73.12  ...  38.140  38.420  651168.0  38.2875  86.37   \n",
       "2020-01-31  72.39  72.75  ...  38.130  38.200  775083.0  38.3350  86.44   \n",
       "\n",
       "                                                   \n",
       "             high    low  close    volume     mid  \n",
       "2000-02-10    NaN    NaN    NaN       NaN     NaN  \n",
       "2000-02-11  29.81  29.19  29.44   15200.0  29.500  \n",
       "2000-02-14  29.44  28.75  28.75    7100.0  29.095  \n",
       "2000-02-15  28.62  27.62  28.44   29300.0  28.120  \n",
       "2000-02-16  28.38  27.69  27.88   45700.0  28.035  \n",
       "...           ...    ...    ...       ...     ...  \n",
       "2020-01-27  86.14  84.24  86.00  403019.0  85.190  \n",
       "2020-01-28  87.65  86.24  87.33  326757.0  86.945  \n",
       "2020-01-29  87.77  86.27  87.02  201490.0  87.020  \n",
       "2020-01-30  86.83  86.07  86.70  289728.0  86.450  \n",
       "2020-01-31  86.65  84.24  85.03  362804.0  85.445  \n",
       "\n",
       "[5025 rows x 48 columns]"
      ]
     },
     "execution_count": 16,
     "metadata": {},
     "output_type": "execute_result"
    }
   ],
   "source": [
    "df"
   ]
  },
  {
   "cell_type": "code",
   "execution_count": 15,
   "metadata": {},
   "outputs": [],
   "source": [
    "df.drop('name', axis = 1, level = 1, inplace = True)"
   ]
  },
  {
   "cell_type": "code",
   "execution_count": 591,
   "metadata": {},
   "outputs": [],
   "source": [
    "target_reit = 'AMT'\n",
    "target_names = ['mid']"
   ]
  },
  {
   "cell_type": "code",
   "execution_count": 592,
   "metadata": {},
   "outputs": [],
   "source": [
    "shift_days = 1"
   ]
  },
  {
   "cell_type": "code",
   "execution_count": 593,
   "metadata": {},
   "outputs": [],
   "source": [
    "df_targets = df[target_reit][target_names].shift(-shift_days)"
   ]
  },
  {
   "cell_type": "code",
   "execution_count": 594,
   "metadata": {},
   "outputs": [
    {
     "data": {
      "text/html": [
       "<div>\n",
       "<style scoped>\n",
       "    .dataframe tbody tr th:only-of-type {\n",
       "        vertical-align: middle;\n",
       "    }\n",
       "\n",
       "    .dataframe tbody tr th {\n",
       "        vertical-align: top;\n",
       "    }\n",
       "\n",
       "    .dataframe thead th {\n",
       "        text-align: right;\n",
       "    }\n",
       "</style>\n",
       "<table border=\"1\" class=\"dataframe\">\n",
       "  <thead>\n",
       "    <tr style=\"text-align: right;\">\n",
       "      <th></th>\n",
       "      <th>mid</th>\n",
       "    </tr>\n",
       "    <tr>\n",
       "      <th>date</th>\n",
       "      <th></th>\n",
       "    </tr>\n",
       "  </thead>\n",
       "  <tbody>\n",
       "    <tr>\n",
       "      <th>2000-02-10</th>\n",
       "      <td>67.030</td>\n",
       "    </tr>\n",
       "    <tr>\n",
       "      <th>2000-02-11</th>\n",
       "      <td>66.785</td>\n",
       "    </tr>\n",
       "    <tr>\n",
       "      <th>2000-02-14</th>\n",
       "      <td>69.750</td>\n",
       "    </tr>\n",
       "    <tr>\n",
       "      <th>2000-02-15</th>\n",
       "      <td>69.250</td>\n",
       "    </tr>\n",
       "    <tr>\n",
       "      <th>2000-02-16</th>\n",
       "      <td>68.005</td>\n",
       "    </tr>\n",
       "    <tr>\n",
       "      <th>...</th>\n",
       "      <td>...</td>\n",
       "    </tr>\n",
       "    <tr>\n",
       "      <th>2020-01-27</th>\n",
       "      <td>355.835</td>\n",
       "    </tr>\n",
       "    <tr>\n",
       "      <th>2020-01-28</th>\n",
       "      <td>354.290</td>\n",
       "    </tr>\n",
       "    <tr>\n",
       "      <th>2020-01-29</th>\n",
       "      <td>350.915</td>\n",
       "    </tr>\n",
       "    <tr>\n",
       "      <th>2020-01-30</th>\n",
       "      <td>350.365</td>\n",
       "    </tr>\n",
       "    <tr>\n",
       "      <th>2020-01-31</th>\n",
       "      <td>NaN</td>\n",
       "    </tr>\n",
       "  </tbody>\n",
       "</table>\n",
       "<p>5025 rows × 1 columns</p>\n",
       "</div>"
      ],
      "text/plain": [
       "                mid\n",
       "date               \n",
       "2000-02-10   67.030\n",
       "2000-02-11   66.785\n",
       "2000-02-14   69.750\n",
       "2000-02-15   69.250\n",
       "2000-02-16   68.005\n",
       "...             ...\n",
       "2020-01-27  355.835\n",
       "2020-01-28  354.290\n",
       "2020-01-29  350.915\n",
       "2020-01-30  350.365\n",
       "2020-01-31      NaN\n",
       "\n",
       "[5025 rows x 1 columns]"
      ]
     },
     "execution_count": 594,
     "metadata": {},
     "output_type": "execute_result"
    }
   ],
   "source": [
    "df_targets"
   ]
  },
  {
   "cell_type": "code",
   "execution_count": 595,
   "metadata": {},
   "outputs": [
    {
     "data": {
      "text/html": [
       "<div>\n",
       "<style scoped>\n",
       "    .dataframe tbody tr th:only-of-type {\n",
       "        vertical-align: middle;\n",
       "    }\n",
       "\n",
       "    .dataframe tbody tr th {\n",
       "        vertical-align: top;\n",
       "    }\n",
       "\n",
       "    .dataframe thead th {\n",
       "        text-align: right;\n",
       "    }\n",
       "</style>\n",
       "<table border=\"1\" class=\"dataframe\">\n",
       "  <thead>\n",
       "    <tr style=\"text-align: right;\">\n",
       "      <th></th>\n",
       "      <th>mid</th>\n",
       "    </tr>\n",
       "    <tr>\n",
       "      <th>date</th>\n",
       "      <th></th>\n",
       "    </tr>\n",
       "  </thead>\n",
       "  <tbody>\n",
       "    <tr>\n",
       "      <th>2000-02-10</th>\n",
       "      <td>65.625</td>\n",
       "    </tr>\n",
       "    <tr>\n",
       "      <th>2000-02-11</th>\n",
       "      <td>67.030</td>\n",
       "    </tr>\n",
       "    <tr>\n",
       "      <th>2000-02-14</th>\n",
       "      <td>66.785</td>\n",
       "    </tr>\n",
       "    <tr>\n",
       "      <th>2000-02-15</th>\n",
       "      <td>69.750</td>\n",
       "    </tr>\n",
       "    <tr>\n",
       "      <th>2000-02-16</th>\n",
       "      <td>69.250</td>\n",
       "    </tr>\n",
       "    <tr>\n",
       "      <th>2000-02-17</th>\n",
       "      <td>68.005</td>\n",
       "    </tr>\n",
       "  </tbody>\n",
       "</table>\n",
       "</div>"
      ],
      "text/plain": [
       "               mid\n",
       "date              \n",
       "2000-02-10  65.625\n",
       "2000-02-11  67.030\n",
       "2000-02-14  66.785\n",
       "2000-02-15  69.750\n",
       "2000-02-16  69.250\n",
       "2000-02-17  68.005"
      ]
     },
     "execution_count": 595,
     "metadata": {},
     "output_type": "execute_result"
    }
   ],
   "source": [
    "df[target_reit][target_names].head(shift_days + 5)"
   ]
  },
  {
   "cell_type": "code",
   "execution_count": 596,
   "metadata": {},
   "outputs": [
    {
     "data": {
      "text/html": [
       "<div>\n",
       "<style scoped>\n",
       "    .dataframe tbody tr th:only-of-type {\n",
       "        vertical-align: middle;\n",
       "    }\n",
       "\n",
       "    .dataframe tbody tr th {\n",
       "        vertical-align: top;\n",
       "    }\n",
       "\n",
       "    .dataframe thead th {\n",
       "        text-align: right;\n",
       "    }\n",
       "</style>\n",
       "<table border=\"1\" class=\"dataframe\">\n",
       "  <thead>\n",
       "    <tr style=\"text-align: right;\">\n",
       "      <th></th>\n",
       "      <th>mid</th>\n",
       "    </tr>\n",
       "    <tr>\n",
       "      <th>date</th>\n",
       "      <th></th>\n",
       "    </tr>\n",
       "  </thead>\n",
       "  <tbody>\n",
       "    <tr>\n",
       "      <th>2000-02-10</th>\n",
       "      <td>67.030</td>\n",
       "    </tr>\n",
       "    <tr>\n",
       "      <th>2000-02-11</th>\n",
       "      <td>66.785</td>\n",
       "    </tr>\n",
       "    <tr>\n",
       "      <th>2000-02-14</th>\n",
       "      <td>69.750</td>\n",
       "    </tr>\n",
       "    <tr>\n",
       "      <th>2000-02-15</th>\n",
       "      <td>69.250</td>\n",
       "    </tr>\n",
       "    <tr>\n",
       "      <th>2000-02-16</th>\n",
       "      <td>68.005</td>\n",
       "    </tr>\n",
       "  </tbody>\n",
       "</table>\n",
       "</div>"
      ],
      "text/plain": [
       "               mid\n",
       "date              \n",
       "2000-02-10  67.030\n",
       "2000-02-11  66.785\n",
       "2000-02-14  69.750\n",
       "2000-02-15  69.250\n",
       "2000-02-16  68.005"
      ]
     },
     "execution_count": 596,
     "metadata": {},
     "output_type": "execute_result"
    }
   ],
   "source": [
    "df_targets.head(5)"
   ]
  },
  {
   "cell_type": "code",
   "execution_count": 597,
   "metadata": {},
   "outputs": [
    {
     "name": "stdout",
     "output_type": "stream",
     "text": [
      "<class 'numpy.ndarray'>\n",
      "Shape: (5024, 48)\n"
     ]
    }
   ],
   "source": [
    "# Concvert DF's into numpy arrays for input into neural network. \n",
    "x_data = df.values[0:-shift_days]\n",
    "print(type(x_data))\n",
    "print('Shape:', x_data.shape)"
   ]
  },
  {
   "cell_type": "code",
   "execution_count": 598,
   "metadata": {},
   "outputs": [],
   "source": [
    "#Output Signals(target-signals\n",
    "y_data = df_targets.values[:-shift_days]"
   ]
  },
  {
   "cell_type": "code",
   "execution_count": 599,
   "metadata": {},
   "outputs": [
    {
     "name": "stdout",
     "output_type": "stream",
     "text": [
      "<class 'numpy.ndarray'>\n",
      "Shape: (5024, 1)\n"
     ]
    }
   ],
   "source": [
    "print(type(y_data))\n",
    "print(\"Shape:\", y_data.shape)"
   ]
  },
  {
   "cell_type": "code",
   "execution_count": 600,
   "metadata": {},
   "outputs": [
    {
     "data": {
      "text/plain": [
       "5024"
      ]
     },
     "execution_count": 600,
     "metadata": {},
     "output_type": "execute_result"
    }
   ],
   "source": [
    "# Number of observations in data\n",
    "num_data = len(x_data)\n",
    "num_data"
   ]
  },
  {
   "cell_type": "code",
   "execution_count": 601,
   "metadata": {},
   "outputs": [],
   "source": [
    "# Train - Test Split\n",
    "# Percentage of observations to be used for training-set\n",
    "train_split = 0.9"
   ]
  },
  {
   "cell_type": "code",
   "execution_count": 602,
   "metadata": {},
   "outputs": [
    {
     "data": {
      "text/plain": [
       "4521"
      ]
     },
     "execution_count": 602,
     "metadata": {},
     "output_type": "execute_result"
    }
   ],
   "source": [
    "# Number observations in training set\n",
    "num_train = int(train_split*num_data)\n",
    "num_train"
   ]
  },
  {
   "cell_type": "code",
   "execution_count": 603,
   "metadata": {},
   "outputs": [
    {
     "data": {
      "text/plain": [
       "4521"
      ]
     },
     "execution_count": 603,
     "metadata": {},
     "output_type": "execute_result"
    }
   ],
   "source": [
    "# Number of observations in test set\n",
    "num_test = num_data = num_train\n",
    "num_test"
   ]
  },
  {
   "cell_type": "code",
   "execution_count": 604,
   "metadata": {},
   "outputs": [
    {
     "data": {
      "text/plain": [
       "5024"
      ]
     },
     "execution_count": 604,
     "metadata": {},
     "output_type": "execute_result"
    }
   ],
   "source": [
    "# Confirm train + test = total # of observations in dataset\n",
    "x_train = x_data[0:num_train]\n",
    "x_test = x_data[num_train:]\n",
    "len(x_train) + len(x_test)"
   ]
  },
  {
   "cell_type": "code",
   "execution_count": 605,
   "metadata": {},
   "outputs": [
    {
     "data": {
      "text/plain": [
       "5024"
      ]
     },
     "execution_count": 605,
     "metadata": {},
     "output_type": "execute_result"
    }
   ],
   "source": [
    "y_train = y_data[0:num_train]\n",
    "y_test = y_data[num_train:]\n",
    "len(y_train) + len(y_test)"
   ]
  },
  {
   "cell_type": "code",
   "execution_count": 606,
   "metadata": {},
   "outputs": [
    {
     "data": {
      "text/plain": [
       "48"
      ]
     },
     "execution_count": 606,
     "metadata": {},
     "output_type": "execute_result"
    }
   ],
   "source": [
    "# Number of input-signals\n",
    "num_x_signals = x_data.shape[1]\n",
    "num_x_signals"
   ]
  },
  {
   "cell_type": "code",
   "execution_count": 607,
   "metadata": {},
   "outputs": [
    {
     "data": {
      "text/plain": [
       "1"
      ]
     },
     "execution_count": 607,
     "metadata": {},
     "output_type": "execute_result"
    }
   ],
   "source": [
    "# Number of output signals\n",
    "num_y_signals = y_data.shape[1]\n",
    "num_y_signals"
   ]
  },
  {
   "cell_type": "markdown",
   "metadata": {},
   "source": [
    "## Scaled Data (Prepares data as 2-D arrays)"
   ]
  },
  {
   "cell_type": "code",
   "execution_count": 608,
   "metadata": {},
   "outputs": [],
   "source": [
    "# Instantiate MinMaxScaler\n",
    "x_scaler = MinMaxScaler()"
   ]
  },
  {
   "cell_type": "code",
   "execution_count": 609,
   "metadata": {},
   "outputs": [
    {
     "name": "stdout",
     "output_type": "stream",
     "text": [
      "Min: 0.0\n",
      "Max: 1.0000000000000002\n"
     ]
    }
   ],
   "source": [
    "# Confirm data has been scaled between 0 and 1 (disregard rounding error present in max)\n",
    "x_train_scaled = x_scaler.fit_transform(x_train)\n",
    "print(\"Min:\", np.min(x_train_scaled))\n",
    "print(\"Max:\", np.max(x_train_scaled))"
   ]
  },
  {
   "cell_type": "code",
   "execution_count": 610,
   "metadata": {},
   "outputs": [],
   "source": [
    "# Scale test set the same\n",
    "x_test_scaled = x_scaler.transform(x_test)"
   ]
  },
  {
   "cell_type": "code",
   "execution_count": 611,
   "metadata": {},
   "outputs": [],
   "source": [
    "y_scaler = MinMaxScaler()\n",
    "y_train_scaled = y_scaler.fit_transform(y_train)\n",
    "y_test_scaled = y_scaler.transform(y_test)"
   ]
  },
  {
   "cell_type": "code",
   "execution_count": 612,
   "metadata": {},
   "outputs": [
    {
     "name": "stdout",
     "output_type": "stream",
     "text": [
      "(4521, 48)\n",
      "(4521, 1)\n"
     ]
    }
   ],
   "source": [
    "# Array shapes of input and output data\n",
    "print(x_train_scaled.shape)\n",
    "print(y_train_scaled.shape)"
   ]
  },
  {
   "cell_type": "markdown",
   "metadata": {},
   "source": [
    "## Random Batch Generator"
   ]
  },
  {
   "cell_type": "code",
   "execution_count": 613,
   "metadata": {},
   "outputs": [],
   "source": [
    "def batch_generator(batch_size, sequence_length):\n",
    "    while True:\n",
    "        #New array for batch of input signals\n",
    "        x_shape = (batch_size, sequence_length, num_x_signals)\n",
    "        x_batch = np.zeros(shape = x_shape, dtype = np.float16)\n",
    "        \n",
    "        #New array for batch of output signals\n",
    "        y_shape = (batch_size, sequence_length, num_y_signals)\n",
    "        y_batch = np.zeros(shape = y_shape, dtype = np.float16)\n",
    "        \n",
    "        #Fill batch w/ random sequences\n",
    "        for i in range(batch_size):\n",
    "            #Random start index from location in training data\n",
    "            idx = np.random.randint(num_train - sequence_length)\n",
    "            \n",
    "            #copy sequences of data starting at this index\n",
    "            x_batch[i] = x_train_scaled[idx:idx+sequence_length]\n",
    "            y_batch[i] = y_train_scaled[idx:idx+sequence_length]\n",
    "            \n",
    "        yield (x_batch, y_batch)"
   ]
  },
  {
   "cell_type": "code",
   "execution_count": 614,
   "metadata": {},
   "outputs": [
    {
     "data": {
      "text/plain": [
       "20"
      ]
     },
     "execution_count": 614,
     "metadata": {},
     "output_type": "execute_result"
    }
   ],
   "source": [
    "batch_size = 128\n",
    "# 1 time-step = 1 day, so 5 * 4 = 20 business days per month (1 month time step)\n",
    "sequence_length = 5 * 4\n",
    "sequence_length"
   ]
  },
  {
   "cell_type": "code",
   "execution_count": 615,
   "metadata": {},
   "outputs": [],
   "source": [
    "generator = batch_generator(batch_size, sequence_length)"
   ]
  },
  {
   "cell_type": "code",
   "execution_count": 616,
   "metadata": {},
   "outputs": [],
   "source": [
    "# Test to see if generator works\n",
    "x_batch, y_batch = next(generator)"
   ]
  },
  {
   "cell_type": "code",
   "execution_count": 617,
   "metadata": {},
   "outputs": [
    {
     "name": "stdout",
     "output_type": "stream",
     "text": [
      "(128, 20, 48)\n",
      "(128, 20, 1)\n"
     ]
    }
   ],
   "source": [
    "print(x_batch.shape)\n",
    "print(y_batch.shape)"
   ]
  },
  {
   "cell_type": "code",
   "execution_count": 618,
   "metadata": {},
   "outputs": [
    {
     "data": {
      "text/plain": [
       "[<matplotlib.lines.Line2D at 0x7f0ef85f75c0>]"
      ]
     },
     "execution_count": 618,
     "metadata": {},
     "output_type": "execute_result"
    },
    {
     "data": {
      "image/png": "[encoded data removed]",
      "text/plain": [
       "<Figure size 432x288 with 1 Axes>"
      ]
     },
     "metadata": {
      "needs_background": "light"
     },
     "output_type": "display_data"
    }
   ],
   "source": [
    "# Plot input signals as example\n",
    "batch = 0\n",
    "signal = 0\n",
    "seq = x_batch[batch, :, signal]\n",
    "plt.plot(seq)"
   ]
  },
  {
   "cell_type": "code",
   "execution_count": 619,
   "metadata": {},
   "outputs": [
    {
     "data": {
      "text/plain": [
       "[<matplotlib.lines.Line2D at 0x7f0f7c89c9b0>]"
      ]
     },
     "execution_count": 619,
     "metadata": {},
     "output_type": "execute_result"
    },
    {
     "data": {
      "image/png": "[encoded data removed]",
      "text/plain": [
       "<Figure size 432x288 with 1 Axes>"
      ]
     },
     "metadata": {
      "needs_background": "light"
     },
     "output_type": "display_data"
    }
   ],
   "source": [
    "# Plot output signals that we want to learn how to predict given input signals\n",
    "seq = y_batch[batch, :, signal]\n",
    "plt.plot(seq)"
   ]
  },
  {
   "cell_type": "markdown",
   "metadata": {},
   "source": [
    "## Validation Set"
   ]
  },
  {
   "cell_type": "code",
   "execution_count": 620,
   "metadata": {},
   "outputs": [],
   "source": [
    "validation_data = (np.expand_dims(x_test_scaled, axis = 0),\n",
    "                   np.expand_dims(y_test_scaled, axis = 0))"
   ]
  },
  {
   "cell_type": "markdown",
   "metadata": {},
   "source": [
    "## Create Recurrent Neural Network"
   ]
  },
  {
   "cell_type": "code",
   "execution_count": 621,
   "metadata": {},
   "outputs": [],
   "source": [
    "warmup_steps = 50\n",
    "def loss_mse_warmup(y_true, y_pred):\n",
    "    \"\"\"\n",
    "    Calculate the Mean Squared Error between y_true and y_pred,\n",
    "    but ignore the beginning \"warmup\" part of the sequences.\n",
    "    \n",
    "    y_true is the desired output.\n",
    "    y_pred is the model's output.\n",
    "    \"\"\"\n",
    "\n",
    "    # The shape of both input tensors are:\n",
    "    # [batch_size, sequence_length, num_y_signals].\n",
    "\n",
    "    # Ignore the \"warmup\" parts of the sequences\n",
    "    # by taking slices of the tensors.\n",
    "    y_true_slice = y_true[:, warmup_steps:, :]\n",
    "    y_pred_slice = y_pred[:, warmup_steps:, :]\n",
    "\n",
    "    # These sliced tensors both have this shape:\n",
    "    # [batch_size, sequence_length - warmup_steps, num_y_signals]\n",
    "\n",
    "    # Calculate the MSE loss for each value in these tensors.\n",
    "    # This outputs a 3-rank tensor of the same shape.\n",
    "    loss = tf.losses.mean_squared_error(y_true=y_true_slice,\n",
    "                                        y_pred=y_pred_slice)\n",
    "\n",
    "    # Keras may reduce this across the first axis (the batch)\n",
    "    # but the semantics are unclear, so to be sure we use\n",
    "    # the loss across the entire tensor, we reduce it to a\n",
    "    # single scalar with the mean function.\n",
    "    loss_mean = tf.reduce_mean(loss)\n",
    "\n",
    "    return loss_mean"
   ]
  },
  {
   "cell_type": "code",
   "execution_count": 622,
   "metadata": {},
   "outputs": [],
   "source": [
    "model = Sequential()"
   ]
  },
  {
   "cell_type": "code",
   "execution_count": 623,
   "metadata": {},
   "outputs": [],
   "source": [
    "# Add GRU (Gated Recurrent Unit) to network\n",
    "# Sigmoid function limits output values to the same range as the training data. We will use a linear activation function on the output instead so it can take arbitrary values\n",
    "model.add(GRU(units = 128, \n",
    "              return_sequences = True, \n",
    "              input_shape = (None, num_x_signals,),\n",
    "              dropout = 0.1))\n",
    "model.add(BatchNormalization())\n",
    "model.add(Dense(num_y_signals, activation = 'sigmoid'))"
   ]
  },
  {
   "cell_type": "code",
   "execution_count": 624,
   "metadata": {},
   "outputs": [],
   "source": [
    "optimizer = 'RMSprop'\n",
    "model.compile(loss = loss_mse_warmup, optimizer = optimizer)"
   ]
  },
  {
   "cell_type": "code",
   "execution_count": 625,
   "metadata": {},
   "outputs": [
    {
     "name": "stdout",
     "output_type": "stream",
     "text": [
      "WARNING:tensorflow:sample_weight modes were coerced from\n",
      "  ...\n",
      "    to  \n",
      "  ['...']\n",
      "WARNING:tensorflow:Using a generator with `use_multiprocessing=True` and multiple workers may duplicate your data. Please consider using the `tf.data.Dataset`.\n",
      "Train for 25 steps, validate on 1 samples\n",
      "Epoch 1/15\n",
      "WARNING:tensorflow:multiprocessing can interact badly with TensorFlow, causing nondeterministic deadlocks. For high performance data pipelines tf.data is recommended.\n",
      "25/25 [==============================] - 78s 3s/step - loss: 0.0317 - val_loss: 0.2860\n",
      "Epoch 2/15\n",
      "25/25 [==============================] - 69s 3s/step - loss: 0.0103 - val_loss: 0.2032\n",
      "Epoch 3/15\n",
      "25/25 [==============================] - 71s 3s/step - loss: 0.0066 - val_loss: 0.3373\n",
      "Epoch 4/15\n",
      "25/25 [==============================] - 72s 3s/step - loss: 0.0056 - val_loss: 0.3524\n",
      "Epoch 5/15\n",
      "25/25 [==============================] - 70s 3s/step - loss: 0.0048 - val_loss: 0.3142\n",
      "Epoch 6/15\n",
      "25/25 [==============================] - 68s 3s/step - loss: 0.0048 - val_loss: 0.1506\n",
      "Epoch 7/15\n",
      "25/25 [==============================] - 73s 3s/step - loss: 0.0039 - val_loss: 0.1528\n",
      "Epoch 8/15\n",
      "25/25 [==============================] - 71s 3s/step - loss: 0.0033 - val_loss: 0.2031\n",
      "Epoch 9/15\n",
      "25/25 [==============================] - 67s 3s/step - loss: 0.0038 - val_loss: 0.1392\n",
      "Epoch 10/15\n",
      "25/25 [==============================] - 68s 3s/step - loss: 0.0032 - val_loss: 0.1105\n",
      "Epoch 11/15\n",
      "25/25 [==============================] - 69s 3s/step - loss: 0.0027 - val_loss: 0.0990\n",
      "Epoch 12/15\n",
      "25/25 [==============================] - 72s 3s/step - loss: 0.0031 - val_loss: 0.1108\n",
      "Epoch 13/15\n",
      "25/25 [==============================] - 72s 3s/step - loss: 0.0027 - val_loss: 0.0925\n",
      "Epoch 14/15\n",
      "25/25 [==============================] - 69s 3s/step - loss: 0.0023 - val_loss: 0.0966\n",
      "Epoch 15/15\n",
      "25/25 [==============================] - 66s 3s/step - loss: 0.0023 - val_loss: 0.0907\n"
     ]
    },
    {
     "data": {
      "text/plain": [
       "<tensorflow.python.keras.callbacks.History at 0x7f0edbd11128>"
      ]
     },
     "execution_count": 625,
     "metadata": {},
     "output_type": "execute_result"
    }
   ],
   "source": [
    "gru_generator = batch_generator(batch_size = batch_size, \n",
    "                                sequence_length = 300)\n",
    "model.fit_generator(generator = gru_generator,\n",
    "                    epochs = 15,\n",
    "                    verbose = 1,\n",
    "                    steps_per_epoch = 25,\n",
    "                    validation_data = validation_data,\n",
    "                    use_multiprocessing = True)"
   ]
  },
  {
   "cell_type": "code",
   "execution_count": 627,
   "metadata": {},
   "outputs": [
    {
     "name": "stdout",
     "output_type": "stream",
     "text": [
      "1/1 [==============================] - 0s 394ms/sample - loss: 77788.5547\n"
     ]
    }
   ],
   "source": [
    "result = model.evaluate(x=np.expand_dims(x_test, axis=0),\n",
    "                        y=np.expand_dims(y_test, axis=0))"
   ]
  },
  {
   "cell_type": "code",
   "execution_count": 628,
   "metadata": {},
   "outputs": [],
   "source": [
    "def plot_comparison(start_idx, length=500, train=True):\n",
    "    \"\"\"\n",
    "    Plot the predicted and true output-signals.\n",
    "    \n",
    "    :param start_idx: Start-index for the time-series.\n",
    "    :param length: Sequence-length to process and plot.\n",
    "    :param train: Boolean whether to use training- or test-set.\n",
    "    \"\"\"\n",
    "    \n",
    "    if train:\n",
    "        # Use training-data.\n",
    "        x = x_train_scaled\n",
    "        y_true = y_train\n",
    "    else:\n",
    "        # Use test-data.\n",
    "        x = x_test_scaled\n",
    "        y_true = y_test\n",
    "    \n",
    "    # End-index for the sequences.\n",
    "    end_idx = start_idx + length\n",
    "    \n",
    "    # Select the sequences from the given start-index and\n",
    "    # of the given length.\n",
    "    x = x[start_idx:end_idx]\n",
    "    y_true = y_true[start_idx:end_idx]\n",
    "    \n",
    "    # Input-signals for the model.\n",
    "    x = np.expand_dims(x, axis=0)\n",
    "\n",
    "    # Use the model to predict the output-signals.\n",
    "    y_pred = model.predict(x)\n",
    "    \n",
    "    # The output of the model is between 0 and 1.\n",
    "    # Do an inverse map to get it back to the scale\n",
    "    # of the original data-set.\n",
    "    y_pred_rescaled = y_scaler.inverse_transform(y_pred[0])\n",
    "    \n",
    "    # For each output-signal.\n",
    "    for signal in range(len(target_names)):\n",
    "        # Get the output-signal predicted by the model.\n",
    "        signal_pred = y_pred_rescaled[:, signal]\n",
    "        \n",
    "        # Get the true output-signal from the data-set.\n",
    "        signal_true = y_true[:, signal]\n",
    "\n",
    "        # Make the plotting-canvas bigger.\n",
    "        plt.figure(figsize=(15,5))\n",
    "        \n",
    "        # Plot and compare the two signals.\n",
    "        plt.plot(signal_true, label='true')\n",
    "        plt.plot(signal_pred, label='pred')\n",
    "        \n",
    "        # Plot grey box for warmup-period.\n",
    "        p = plt.axvspan(0, warmup_steps, facecolor='black', alpha=0.15)\n",
    "        \n",
    "        # Plot labels etc.\n",
    "        plt.ylabel(target_names[signal])\n",
    "        plt.legend()\n",
    "        plt.show()"
   ]
  },
  {
   "cell_type": "code",
   "execution_count": 631,
   "metadata": {},
   "outputs": [
    {
     "data": {
      "image/png": "[encoded data removed]",
      "text/plain": [
       "<Figure size 1080x360 with 1 Axes>"
      ]
     },
     "metadata": {
      "needs_background": "light"
     },
     "output_type": "display_data"
    }
   ],
   "source": [
    "plot_comparison(start_idx=0, length=10000, train=True)"
   ]
  }
 ],
 "metadata": {
  "kernelspec": {
   "display_name": "Python 3",
   "language": "python",
   "name": "python3"
  },
  "language_info": {
   "codemirror_mode": {
    "name": "ipython",
    "version": 3
   },
   "file_extension": ".py",
   "mimetype": "text/x-python",
   "name": "python",
   "nbconvert_exporter": "python",
   "pygments_lexer": "ipython3",
   "version": "3.6.9"
  }
 },
 "nbformat": 4,
 "nbformat_minor": 4
}
