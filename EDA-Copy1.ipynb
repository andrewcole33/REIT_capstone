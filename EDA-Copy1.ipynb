{
 "cells": [
  {
   "cell_type": "code",
   "execution_count": 1,
   "metadata": {},
   "outputs": [
    {
     "name": "stderr",
     "output_type": "stream",
     "text": [
      "Using TensorFlow backend.\n",
      "ERROR:root:Internal Python error in the inspect module.\n",
      "Below is the traceback from this internal error.\n",
      "\n"
     ]
    },
    {
     "name": "stdout",
     "output_type": "stream",
     "text": [
      "Traceback (most recent call last):\n",
      "  File \"/opt/anaconda3/envs/learn-env/lib/python3.6/site-packages/IPython/core/interactiveshell.py\", line 3326, in run_code\n",
      "    exec(code_obj, self.user_global_ns, self.user_ns)\n",
      "  File \"<ipython-input-1-de5877c323f5>\", line 35, in <module>\n",
      "    from keras.models import Sequential\n",
      "  File \"/opt/anaconda3/envs/learn-env/lib/python3.6/site-packages/keras/__init__.py\", line 3, in <module>\n",
      "    from . import utils\n",
      "  File \"/opt/anaconda3/envs/learn-env/lib/python3.6/site-packages/keras/utils/__init__.py\", line 6, in <module>\n",
      "    from . import conv_utils\n",
      "  File \"/opt/anaconda3/envs/learn-env/lib/python3.6/site-packages/keras/utils/conv_utils.py\", line 9, in <module>\n",
      "    from .. import backend as K\n",
      "  File \"/opt/anaconda3/envs/learn-env/lib/python3.6/site-packages/keras/backend/__init__.py\", line 1, in <module>\n",
      "    from .load_backend import epsilon\n",
      "  File \"/opt/anaconda3/envs/learn-env/lib/python3.6/site-packages/keras/backend/load_backend.py\", line 90, in <module>\n",
      "    from .tensorflow_backend import *\n",
      "  File \"/opt/anaconda3/envs/learn-env/lib/python3.6/site-packages/keras/backend/tensorflow_backend.py\", line 5, in <module>\n",
      "    import tensorflow as tf\n",
      "  File \"/opt/anaconda3/envs/learn-env/lib/python3.6/site-packages/tensorflow/__init__.py\", line 101, in <module>\n",
      "    from tensorflow_core import *\n",
      "  File \"/opt/anaconda3/envs/learn-env/lib/python3.6/site-packages/tensorflow_core/__init__.py\", line 46, in <module>\n",
      "    from . _api.v2 import compat\n",
      "  File \"/opt/anaconda3/envs/learn-env/lib/python3.6/site-packages/tensorflow_core/_api/v2/compat/__init__.py\", line 39, in <module>\n",
      "    from . import v1\n",
      "  File \"/opt/anaconda3/envs/learn-env/lib/python3.6/site-packages/tensorflow_core/_api/v2/compat/v1/__init__.py\", line 32, in <module>\n",
      "    from . import compat\n",
      "  File \"/opt/anaconda3/envs/learn-env/lib/python3.6/site-packages/tensorflow_core/_api/v2/compat/v1/compat/__init__.py\", line 39, in <module>\n",
      "    from . import v1\n",
      "  File \"/opt/anaconda3/envs/learn-env/lib/python3.6/site-packages/tensorflow_core/_api/v2/compat/v1/compat/v1/__init__.py\", line 29, in <module>\n",
      "    from tensorflow._api.v2.compat.v1 import app\n",
      "  File \"/opt/anaconda3/envs/learn-env/lib/python3.6/site-packages/tensorflow_core/_api/v2/compat/__init__.py\", line 39, in <module>\n",
      "    from . import v1\n",
      "  File \"/opt/anaconda3/envs/learn-env/lib/python3.6/site-packages/tensorflow_core/_api/v2/compat/v1/__init__.py\", line 32, in <module>\n",
      "    from . import compat\n",
      "  File \"/opt/anaconda3/envs/learn-env/lib/python3.6/site-packages/tensorflow_core/_api/v2/compat/v1/compat/__init__.py\", line 39, in <module>\n",
      "    from . import v1\n",
      "  File \"/opt/anaconda3/envs/learn-env/lib/python3.6/site-packages/tensorflow_core/_api/v2/compat/v1/compat/v1/__init__.py\", line 667, in <module>\n",
      "    from tensorflow_estimator.python.estimator.api._v1 import estimator\n",
      "  File \"/opt/anaconda3/envs/learn-env/lib/python3.6/site-packages/tensorflow_estimator/__init__.py\", line 10, in <module>\n",
      "    from tensorflow_estimator._api.v1 import estimator\n",
      "  File \"/opt/anaconda3/envs/learn-env/lib/python3.6/site-packages/tensorflow_estimator/_api/v1/estimator/__init__.py\", line 67, in <module>\n",
      "    from tensorflow_estimator.python.estimator.training import EvalSpec\n",
      "  File \"<frozen importlib._bootstrap>\", line 971, in _find_and_load\n",
      "  File \"<frozen importlib._bootstrap>\", line 955, in _find_and_load_unlocked\n",
      "  File \"<frozen importlib._bootstrap>\", line 665, in _load_unlocked\n",
      "  File \"<frozen importlib._bootstrap_external>\", line 674, in exec_module\n",
      "  File \"<frozen importlib._bootstrap_external>\", line 764, in get_code\n",
      "  File \"<frozen importlib._bootstrap_external>\", line 833, in get_data\n",
      "KeyboardInterrupt\n",
      "\n",
      "During handling of the above exception, another exception occurred:\n",
      "\n",
      "Traceback (most recent call last):\n",
      "  File \"/opt/anaconda3/envs/learn-env/lib/python3.6/site-packages/IPython/core/interactiveshell.py\", line 2040, in showtraceback\n",
      "    stb = value._render_traceback_()\n",
      "AttributeError: 'KeyboardInterrupt' object has no attribute '_render_traceback_'\n",
      "\n",
      "During handling of the above exception, another exception occurred:\n",
      "\n",
      "Traceback (most recent call last):\n",
      "  File \"/opt/anaconda3/envs/learn-env/lib/python3.6/site-packages/IPython/core/ultratb.py\", line 1101, in get_records\n",
      "    return _fixed_getinnerframes(etb, number_of_lines_of_context, tb_offset)\n",
      "  File \"/opt/anaconda3/envs/learn-env/lib/python3.6/site-packages/IPython/core/ultratb.py\", line 319, in wrapped\n",
      "    return f(*args, **kwargs)\n",
      "  File \"/opt/anaconda3/envs/learn-env/lib/python3.6/site-packages/IPython/core/ultratb.py\", line 353, in _fixed_getinnerframes\n",
      "    records = fix_frame_records_filenames(inspect.getinnerframes(etb, context))\n",
      "  File \"/opt/anaconda3/envs/learn-env/lib/python3.6/inspect.py\", line 1490, in getinnerframes\n",
      "    frameinfo = (tb.tb_frame,) + getframeinfo(tb, context)\n",
      "  File \"/opt/anaconda3/envs/learn-env/lib/python3.6/inspect.py\", line 1452, in getframeinfo\n",
      "    lines, lnum = findsource(frame)\n",
      "  File \"/opt/anaconda3/envs/learn-env/lib/python3.6/site-packages/IPython/core/ultratb.py\", line 185, in findsource\n",
      "    lines = linecache.getlines(file, globals_dict)\n",
      "  File \"/opt/anaconda3/envs/learn-env/lib/python3.6/linecache.py\", line 47, in getlines\n",
      "    return updatecache(filename, module_globals)\n",
      "  File \"/opt/anaconda3/envs/learn-env/lib/python3.6/linecache.py\", line 136, in updatecache\n",
      "    with tokenize.open(fullname) as fp:\n",
      "  File \"/opt/anaconda3/envs/learn-env/lib/python3.6/tokenize.py\", line 452, in open\n",
      "    buffer = _builtin_open(filename, 'rb')\n",
      "KeyboardInterrupt\n"
     ]
    },
    {
     "ename": "KeyboardInterrupt",
     "evalue": "",
     "output_type": "error",
     "traceback": [
      "\u001b[0;31m---------------------------------------------------------------------------\u001b[0m"
     ]
    }
   ],
   "source": [
    "import pandas_datareader.data as web\n",
    "from fredapi import Fred\n",
    "\n",
    "\n",
    "import matplotlib\n",
    "import matplotlib.pyplot as plt\n",
    "import pandas as pd\n",
    "import numpy as np\n",
    "from numpy import hstack\n",
    "from scipy import stats\n",
    "from datetime import datetime\n",
    "\n",
    "from sklearn.preprocessing import MinMaxScaler\n",
    "from sklearn.preprocessing import StandardScaler\n",
    "from sklearn.linear_model import Lasso, LassoCV, ElasticNet, LassoLarsCV\n",
    "from sklearn.linear_model import LinearRegression\n",
    "from sklearn.model_selection import cross_val_score\n",
    "from sklearn.feature_selection import RFE\n",
    "from sklearn.svm import SVR\n",
    "\n",
    "import warnings\n",
    "import os\n",
    "\n",
    "warnings.filterwarnings('ignore')\n",
    "\n",
    "import itertools\n",
    "import statsmodels.api as sm\n",
    "from statsmodels.tsa.stattools import adfuller\n",
    "from statsmodels.tsa.seasonal import seasonal_decompose\n",
    "from statsmodels.graphics.tsaplots import plot_pacf\n",
    "from statsmodels.graphics.tsaplots import plot_acf\n",
    "import pmdarima as pm\n",
    "from pmdarima import model_selection\n",
    "\n",
    "from keras.models import Sequential\n",
    "from keras.layers import LSTM\n",
    "from keras.layers import Dense\n",
    "from keras.layers import Flatten\n",
    "from keras.layers import TimeDistributed\n",
    "from keras.layers.convolutional import Conv1D\n",
    "from keras.layers.convolutional import MaxPooling1D\n",
    "\n",
    "%matplotlib inline"
   ]
  },
  {
   "cell_type": "code",
   "execution_count": null,
   "metadata": {},
   "outputs": [],
   "source": [
    "start = datetime(2000,2,1)\n",
    "end = datetime(2020,1,31)"
   ]
  },
  {
   "cell_type": "code",
   "execution_count": 4,
   "metadata": {},
   "outputs": [],
   "source": [
    "AMT = web.DataReader('AMT', 'av-daily', start = start, end = end, api_key = 'Y8YQFOIVHPA381U4')\n",
    "AMT = AMT.copy()\n",
    "AMT.index = pd.to_datetime(AMT.index)\n",
    "AMT = AMT.resample('MS').mean()\n",
    "AMT['name'] = pd.Series()\n",
    "AMT['name'] = 'AMT'\n",
    "\n",
    "ELS = web.DataReader('ELS', 'av-daily', start = start, end = end, api_key = 'Y8YQFOIVHPA381U4')\n",
    "ELS = ELS.copy()\n",
    "ELS.index = pd.to_datetime(ELS.index)\n",
    "ELS = ELS.resample('MS').mean()\n",
    "ELS['name'] = pd.Series()\n",
    "ELS['name'] = 'ELS'\n",
    "\n",
    "PLD = web.DataReader('PLD', 'av-daily', start = start, end = end, api_key = 'Y8YQFOIVHPA381U4')\n",
    "PLD = PLD.copy()\n",
    "PLD.index = pd.to_datetime(PLD.index)\n",
    "PLD = PLD.resample('MS').mean()\n",
    "PLD['name'] = pd.Series()\n",
    "PLD['name'] = 'PLD'\n",
    "\n",
    "FR = web.DataReader('FR', 'av-daily', start = start, end = end, api_key = 'Y8YQFOIVHPA381U4')\n",
    "FR = FR.copy()\n",
    "FR.index = pd.to_datetime(FR.index)\n",
    "FR = FR.resample('MS').mean()\n",
    "FR['name'] = pd.Series()\n",
    "FR['name'] = 'FR'\n"
   ]
  },
  {
   "cell_type": "code",
   "execution_count": 5,
   "metadata": {},
   "outputs": [],
   "source": [
    "MAA = web.DataReader('MAA', 'av-daily', start = start, end = end, api_key = 'Y8YQFOIVHPA381U4')\n",
    "MAA = MAA.copy()\n",
    "MAA.index = pd.to_datetime(MAA.index)\n",
    "MAA = MAA.resample('MS').mean()\n",
    "MAA['name'] = pd.Series()\n",
    "MAA['name'] = 'MAA'\n",
    "\n",
    "SUI = web.DataReader('SUI', 'av-daily', start = start, end = end, api_key = 'Y8YQFOIVHPA381U4')\n",
    "SUI = SUI.copy()\n",
    "SUI.index = pd.to_datetime(SUI.index)\n",
    "SUI = SUI.resample('MS').mean()\n",
    "SUI['name'] = pd.Series()\n",
    "SUI['name'] = 'SUI'\n",
    "\n",
    "BXMT = web.DataReader('BXMT', 'av-daily', start = start, end = end, api_key = 'Y8YQFOIVHPA381U4')\n",
    "BXMT = BXMT.copy()\n",
    "BXMT.index = pd.to_datetime(BXMT.index)\n",
    "BXMT = BXMT.resample('MS').mean()\n",
    "BXMT['name'] = pd.Series()\n",
    "BXMT['name'] = 'BXMT'\n",
    "\n",
    "RHP = web.DataReader('RHP', 'av-daily', start = start, end = end, api_key = 'Y8YQFOIVHPA381U4')\n",
    "RHP = RHP.copy()\n",
    "RHP.index = pd.to_datetime(RHP.index)\n",
    "RHP = RHP.resample('MS').mean()\n",
    "RHP['name'] = pd.Series()\n",
    "RHP['name'] = 'RHP'\n"
   ]
  },
  {
   "cell_type": "code",
   "execution_count": null,
   "metadata": {},
   "outputs": [],
   "source": []
  },
  {
   "cell_type": "code",
   "execution_count": 7,
   "metadata": {},
   "outputs": [],
   "source": [
    "reit_list = [AMT, PLD, ELS, FR, MAA, SUI, BXMT, RHP]\n",
    "for reit in reit_list:\n",
    "    reit['mid'] = (reit['high'] + reit['low'])/2\n",
    "    reit.columns = ['open', 'high', 'low', 'close', 'volume', 'name', 'mid']\n",
    "    reit.drop(['open', 'high', 'low', 'close', 'volume', 'name'], axis = 1, inplace = True)"
   ]
  },
  {
   "cell_type": "markdown",
   "metadata": {},
   "source": [
    "## Exogenous Data Gathering"
   ]
  },
  {
   "cell_type": "code",
   "execution_count": 8,
   "metadata": {},
   "outputs": [],
   "source": [
    "fred = Fred(api_key = 'aec5f13aa40d1af4edd587ffccceeb1a')"
   ]
  },
  {
   "cell_type": "code",
   "execution_count": 9,
   "metadata": {},
   "outputs": [],
   "source": [
    "# LIBOR rate (USD1MTD156N)\n",
    "usd1mtd156n = fred.get_series('usd1mtd156n', start, end)\n",
    "usd1mtd156n = round(usd1mtd156n.resample('MS').mean(),2)\n",
    "usd1mtd156n = pd.DataFrame(usd1mtd156n, index = usd1mtd156n.index, columns = ['usd1mtd156n'])"
   ]
  },
  {
   "cell_type": "code",
   "execution_count": 13,
   "metadata": {},
   "outputs": [],
   "source": [
    "# 30 Year Fixed Rate Mortgage (MORTGAGE30US)\n",
    "mortgage30us = fred.get_series('MORTGAGE30US', start, end)\n",
    "mortgage30us = round(mortgage30us.resample('MS').mean(),2)\n",
    "mortgage30us = pd.DataFrame(mortgage30us, index = mortgage30us.index, columns = ['mortgage30us'])"
   ]
  },
  {
   "cell_type": "code",
   "execution_count": 64,
   "metadata": {},
   "outputs": [],
   "source": [
    "# 15 Year Fixed rate Mortgage (MORTGAGE15US)\n",
    "mortgage15us = fred.get_series('MORTGAGE15US', start, end)\n",
    "mortgage15us = round(mortgage15us.resample('MS').mean(),2)\n",
    "mortgage15us = pd.DataFrame(mortgage15us, index = mortgage15us.index, columns = ['mortgage15us'])"
   ]
  },
  {
   "cell_type": "code",
   "execution_count": 65,
   "metadata": {},
   "outputs": [],
   "source": [
    "# 3-Month AA Financial Commercial Paper Rate (DCPF3M)\n",
    "dcpf3m = fred.get_series('DCPF3M', start, end)\n",
    "dcpf3m = round(dcpf3m.resample('MS').mean(),2)\n",
    "dcpf3m = pd.DataFrame(dcpf3m, index = dcpf3m.index, columns = ['dcpf3m'])"
   ]
  },
  {
   "cell_type": "code",
   "execution_count": 66,
   "metadata": {},
   "outputs": [],
   "source": [
    "# 3-Month AA Nonfinancial Commercial Paper Rate (CPN3M)\n",
    "cpn3m = fred.get_series('cpn3m', start, end)\n",
    "cpn3m = round(cpn3m.resample('MS').mean(),2)\n",
    "cpn3m = pd.DataFrame(cpn3m, index = dcpf3m.index, columns = ['cpn3m'])"
   ]
  },
  {
   "cell_type": "code",
   "execution_count": 67,
   "metadata": {},
   "outputs": [],
   "source": [
    "# 1-Month AA Financial Commercial Paper Rate (DCPF1M)\n",
    "dcpf1m = fred.get_series('dcpf1m', start, end)\n",
    "dcpf1m = round(dcpf1m.resample('MS').mean(),2)\n",
    "dcpf1m = pd.DataFrame(dcpf1m, index = dcpf3m.index, columns = ['dcpf1m'])"
   ]
  },
  {
   "cell_type": "code",
   "execution_count": 68,
   "metadata": {},
   "outputs": [],
   "source": [
    "# Moody's Seasoned Aaa Corporate Bond Yield (AAA)\n",
    "aaa = fred.get_series('AAA', start, end)\n",
    "aaa = round(aaa.resample('MS').mean(),2)\n",
    "aaa = pd.DataFrame(aaa, index = dcpf3m.index, columns = ['aaa'])"
   ]
  },
  {
   "cell_type": "code",
   "execution_count": 69,
   "metadata": {},
   "outputs": [],
   "source": [
    "# Moody's Seasoned Baa Corporate Bond Yield (BAA)\n",
    "baa = fred.get_series('BAA', start, end)\n",
    "baa = round(baa.resample('MS').mean(),2)\n",
    "baa = pd.DataFrame(baa, index = baa.index, columns = ['baa'])"
   ]
  },
  {
   "cell_type": "code",
   "execution_count": 70,
   "metadata": {},
   "outputs": [],
   "source": [
    "# Effective Federal Funds Rate (DFF)\n",
    "dff = fred.get_series('DFF', start, end)\n",
    "dff = round(dff.resample('MS').mean(),2)\n",
    "dff = pd.DataFrame(dff, index = dff.index, columns = ['dff'])"
   ]
  },
  {
   "cell_type": "code",
   "execution_count": 71,
   "metadata": {},
   "outputs": [],
   "source": [
    "# Eighth District Flexible Rate on Seasonal Credit (FLEXSC)\n",
    "flexsc = fred.get_series('flexsc', start, end)\n",
    "flexsc = round(flexsc.resample('MS').mean(),2)\n",
    "flexsc = pd.DataFrame(flexsc, index = flexsc.index, columns = ['flexsc'])"
   ]
  },
  {
   "cell_type": "code",
   "execution_count": 72,
   "metadata": {},
   "outputs": [],
   "source": [
    "# 10-Year Treasury Constant Maturity Minus 2-Year Treasury Constant Maturity (T10Y2Y)\n",
    "t10y2y = fred.get_series('t10y2y', start, end)\n",
    "t10y2y = round(t10y2y.resample('MS').mean(),2)\n",
    "t10y2y = pd.DataFrame(t10y2y, index = t10y2y.index, columns = ['t10y2y'])"
   ]
  },
  {
   "cell_type": "code",
   "execution_count": 73,
   "metadata": {},
   "outputs": [],
   "source": [
    "# 10-Year Treasury Constant Maturity Minus 3-Month Treasury Constant Maturity (T10Y3M)\n",
    "t10y3m = fred.get_series('t10y3m', start, end)\n",
    "t10y3m = round(t10y3m.resample('MS').mean(),2)\n",
    "t10y3m = pd.DataFrame(t10y3m, index = t10y3m.index, columns = ['t10y3m'])"
   ]
  },
  {
   "cell_type": "code",
   "execution_count": 74,
   "metadata": {},
   "outputs": [],
   "source": [
    "# TED Spread (TEDRATE)\n",
    "tedrate = fred.get_series('tedrate', start, end)\n",
    "tedrate = round(tedrate.resample('MS').mean(),2)\n",
    "tedrate = pd.DataFrame(tedrate, index = tedrate.index, columns = ['tedrate'])"
   ]
  },
  {
   "cell_type": "code",
   "execution_count": 75,
   "metadata": {},
   "outputs": [],
   "source": [
    "# 10-Year Treasury Constant Maturity Minus Federal Funds Rate (T10YFF)\n",
    "t10yff = fred.get_series('T10YFF', start, end)\n",
    "t10yff = round(t10yff.resample('MS').mean(),2)\n",
    "t10yff = pd.DataFrame(t10yff, index = t10yff.index, columns = ['t10yff'])"
   ]
  },
  {
   "cell_type": "code",
   "execution_count": 76,
   "metadata": {},
   "outputs": [],
   "source": [
    "# 5-Year Treasury Constant Maturity Minus Federal Funds Rate (T5YFF)\n",
    "t5yff = fred.get_series('t5yff', start, end)\n",
    "t5yff = round(t5yff.resample('MS').mean(),2)\n",
    "t5yff = pd.DataFrame(t5yff, index = t5yff.index, columns = ['t5yff'])"
   ]
  },
  {
   "cell_type": "code",
   "execution_count": 77,
   "metadata": {},
   "outputs": [],
   "source": [
    "# 6-Month Treasury Bill Minus Federal Funds Rate (TB6SMFFM)\n",
    "tb6smffm = fred.get_series('tb6smffm', start, end)\n",
    "tb6smffm = round(tb6smffm.resample('MS').mean(),2)\n",
    "tb6smffm = pd.DataFrame(tb6smffm, index = tb6smffm.index, columns = ['tb6smffm'])"
   ]
  },
  {
   "cell_type": "code",
   "execution_count": 78,
   "metadata": {},
   "outputs": [],
   "source": [
    "# 3-Month London Interbank Offered Rate (LIBOR), based on U.S. Dollar (USD3MTD156N)\n",
    "usd3mtd156n = fred.get_series('usd3mtd156n', start, end)\n",
    "usd3mtd156n = round(usd3mtd156n.resample('MS').mean(),2)\n",
    "usd3mtd156n = pd.DataFrame(usd3mtd156n, index = usd3mtd156n.index, columns = ['usd3mtd156n'])"
   ]
  },
  {
   "cell_type": "code",
   "execution_count": 79,
   "metadata": {},
   "outputs": [],
   "source": [
    "# 12-Month London Interbank Offered Rate (LIBOR), based on U.S. Dollar (USD12MD156N)\n",
    "usd12md156n = fred.get_series('usd12md156n', start, end)\n",
    "usd12md156n = round(usd12md156n.resample('MS').mean(),2)\n",
    "usd12md156n = pd.DataFrame(usd12md156n, index = usd12md156n.index, columns = ['usd12md156n'])"
   ]
  },
  {
   "cell_type": "code",
   "execution_count": 80,
   "metadata": {},
   "outputs": [],
   "source": [
    "# 1-Week London Interbank Offered Rate (LIBOR), based on Euro (EUR1WKD156N)\n",
    "eur1wkd156n = fred.get_series('eur1wkd156n', start, end)\n",
    "eur1wkd156n = round(eur1wkd156n.resample('MS').mean(),2)\n",
    "eur1wkd156n = pd.DataFrame(eur1wkd156n, index = eur1wkd156n.index, columns = ['eur1wkd156n'])"
   ]
  },
  {
   "cell_type": "code",
   "execution_count": 81,
   "metadata": {},
   "outputs": [],
   "source": [
    "# Bank Prime Loan Rate (MPRIME)\n",
    "mprime = fred.get_series('mprime', start, end)\n",
    "mprime = round(mprime.resample('MS').mean(),2)\n",
    "mprime = pd.DataFrame(mprime, index = mprime.index, columns = ['mprime'])"
   ]
  },
  {
   "cell_type": "code",
   "execution_count": 82,
   "metadata": {},
   "outputs": [],
   "source": [
    "# 3-Month Treasury Bill: Secondary Market Rate (TB3MS)\n",
    "tb3ms = fred.get_series('tb3ms', start, end)\n",
    "tb3ms = round(tb3ms.resample('MS').mean(),2)\n",
    "tb3ms = pd.DataFrame(tb3ms, index = tb3ms.index, columns = ['tb3ms'])"
   ]
  },
  {
   "cell_type": "code",
   "execution_count": 83,
   "metadata": {},
   "outputs": [],
   "source": [
    "# 1-Year Treasury Bill: Secondary Market Rate (TB1YR)\n",
    "tb1yr = fred.get_series('tb1yr', start, end)\n",
    "tb1yr = round(tb1yr.resample('MS').mean(),2)\n",
    "tb1yr = pd.DataFrame(tb1yr, index = tb1yr.index, columns = ['tb1yr'])"
   ]
  },
  {
   "cell_type": "code",
   "execution_count": 84,
   "metadata": {},
   "outputs": [],
   "source": [
    "# 6-Month Treasury Bill: Secondary Market Rate (DTB6)\n",
    "dtb6 = fred.get_series('dtb6', start, end)\n",
    "dtb6 = round(dtb6.resample('MS').mean(),2)\n",
    "dtb6= pd.DataFrame(dtb6, index = dtb6.index, columns = ['dtb6'])"
   ]
  },
  {
   "cell_type": "code",
   "execution_count": 85,
   "metadata": {},
   "outputs": [],
   "source": [
    "# 10-Year Treasury Constant Maturity Rate (DGS10)\n",
    "dgs10 = fred.get_series('dgs10', start, end)\n",
    "dgs10 = round(dgs10.resample('MS').mean(),2)\n",
    "dgs10 = pd.DataFrame(dgs10, index = dgs10.index, columns = ['dgs10'])"
   ]
  },
  {
   "cell_type": "code",
   "execution_count": 86,
   "metadata": {},
   "outputs": [],
   "source": [
    "# 1-Year Treasury Constant Maturity Rate (DGS1)\n",
    "dgs1 = fred.get_series('dgs1', start, end)\n",
    "dgs1 = round(dgs1.resample('MS').mean(),2)\n",
    "dgs1 = pd.DataFrame(dgs1, index = dgs1.index, columns = ['dgs1'])"
   ]
  },
  {
   "cell_type": "code",
   "execution_count": 87,
   "metadata": {},
   "outputs": [],
   "source": [
    "# 10-Year Treasury Inflation-Indexed Security, Constant Maturity (DFII10)\n",
    "dfii10 = fred.get_series('dfii10', start, end)\n",
    "dfii10 = round(dfii10.resample('MS').mean(),2)\n",
    "dfii10 = pd.DataFrame(dfii10, index = dfii10.index, columns = ['dfii10'])"
   ]
  },
  {
   "cell_type": "code",
   "execution_count": 88,
   "metadata": {},
   "outputs": [],
   "source": [
    "# 3-Month Treasury Constant Maturity Rate (DGS3MO)\n",
    "dgs3mo = fred.get_series('dgs3mo', start, end)\n",
    "dgs3mo = round(dgs3mo.resample('MS').mean(),2)\n",
    "dgs3mo = pd.DataFrame(dgs3mo, index = dgs3mo.index, columns = ['dgs3mo'])"
   ]
  },
  {
   "cell_type": "code",
   "execution_count": 89,
   "metadata": {},
   "outputs": [],
   "source": [
    "# 30-Year Treasury Constant Maturity Rate (DGS30)\n",
    "dgs30 = fred.get_series('dgs30', start, end)\n",
    "dgs30 = round(dgs30.resample('MS').mean(),2)\n",
    "dgs30 = pd.DataFrame(dgs30, index = dgs30.index, columns = ['dgs30'])"
   ]
  },
  {
   "cell_type": "code",
   "execution_count": 90,
   "metadata": {},
   "outputs": [],
   "source": [
    "# U.S. / Euro Foreign Exchange Rate (DEXUSEU)\n",
    "dexuseu = fred.get_series('dexuseu', start, end)\n",
    "dexuseu = round(dexuseu.resample('MS').mean(),2)\n",
    "dexuseu = pd.DataFrame(dexuseu, index = dexuseu.index, columns = ['dexuseu'])"
   ]
  },
  {
   "cell_type": "code",
   "execution_count": 91,
   "metadata": {},
   "outputs": [],
   "source": [
    "# China / U.S. Foreign Exchange Rate (DEXCHUS)\n",
    "dexchus = fred.get_series('dexchus', start, end)\n",
    "dexchus = round(dexchus.resample('MS').mean(),2)\n",
    "dexchus = pd.DataFrame(dexchus, index = dexchus.index, columns = ['dexchus'])"
   ]
  },
  {
   "cell_type": "code",
   "execution_count": 92,
   "metadata": {},
   "outputs": [],
   "source": [
    "# U.S. / U.K. Foreign Exchange Rate (DEXUSUK)\n",
    "dexusuk = fred.get_series('dexusuk', start, end)\n",
    "dexusuk = round(dexusuk.resample('MS').mean(),2)\n",
    "dexusuk = pd.DataFrame(dexusuk, index = dexusuk.index, columns = ['dexusuk'])"
   ]
  },
  {
   "cell_type": "code",
   "execution_count": 93,
   "metadata": {},
   "outputs": [],
   "source": [
    "# Singapore / U.S. Foreign Exchange Rate (DEXSIUS)\n",
    "dexsius = fred.get_series('dexsius', start, end)\n",
    "dexsius = round(dexsius.resample('MS').mean(),2)\n",
    "dexsius = pd.DataFrame(dexsius, index = dexsius.index, columns = ['dexsius'])"
   ]
  },
  {
   "cell_type": "code",
   "execution_count": 94,
   "metadata": {},
   "outputs": [],
   "source": [
    "# NASDAQ Composite Index (NASDAQCOM)\n",
    "nasdaqcom = fred.get_series('nasdaqcom', start, end)\n",
    "nasdaqcom = round(nasdaqcom.resample('MS').mean(),2)\n",
    "nasdaqcom = pd.DataFrame(nasdaqcom, index = nasdaqcom.index, columns = ['nasdaqcom'])"
   ]
  },
  {
   "cell_type": "code",
   "execution_count": 95,
   "metadata": {},
   "outputs": [],
   "source": [
    "# Wilshire US Real Estate Investment Trust Total Market Index (Wilshire US REIT)(WILLREITIND)\n",
    "willreitind = fred.get_series('willreitind', start, end)\n",
    "willreitind = round(willreitind.resample('MS').mean(),2)\n",
    "willreitind = pd.DataFrame(willreitind, index = willreitind.index, columns = ['willreitind'])"
   ]
  },
  {
   "cell_type": "code",
   "execution_count": 96,
   "metadata": {},
   "outputs": [],
   "source": [
    "# Wilshire US Real Estate Securities Price Index (Wilshire US RESI) (WILLRESIPR)\n",
    "willresipr = fred.get_series('willresipr', start, end)\n",
    "willresipr = round(willresipr.resample('MS').mean(),2)\n",
    "willresipr = pd.DataFrame(willresipr, index = willresipr.index, columns = ['willresipr'])"
   ]
  },
  {
   "cell_type": "code",
   "execution_count": 97,
   "metadata": {},
   "outputs": [],
   "source": [
    "# Wilshire US Large-Cap Total Market Index (WILLLRGCAP)\n",
    "willlrgcap = fred.get_series('willlrgcap', start, end)\n",
    "willlrgcap = round(willlrgcap.resample('MS').mean(),2)\n",
    "willlrgcap = pd.DataFrame(willlrgcap, index = willlrgcap.index, columns = ['willlrgcap'])"
   ]
  },
  {
   "cell_type": "code",
   "execution_count": 98,
   "metadata": {},
   "outputs": [],
   "source": [
    "# Wilshire US Small-Cap Total Market Index (WILLSMLCAP)\n",
    "willsmlcap = fred.get_series('willsmlcap', start, end)\n",
    "willsmlcap = round(willsmlcap.resample('MS').mean(),2)\n",
    "willsmlcap = pd.DataFrame(willsmlcap, index = willsmlcap.index, columns = ['willsmlcap'])"
   ]
  },
  {
   "cell_type": "code",
   "execution_count": 99,
   "metadata": {},
   "outputs": [],
   "source": [
    "# CBOE Volatility Index: VIX (VIXCLS)\n",
    "vixcls = fred.get_series('vixcls', start, end)\n",
    "vixcls = round(vixcls.resample('MS').mean(),2)\n",
    "vixcls = pd.DataFrame(vixcls, index = vixcls.index, columns = ['vixcls'])"
   ]
  },
  {
   "cell_type": "code",
   "execution_count": 100,
   "metadata": {},
   "outputs": [],
   "source": [
    "# CBOE DJIA Volatility Index (VXDCLS)\n",
    "vxdcls = fred.get_series('vxdcls', start, end)\n",
    "vxdcls = round(vxdcls.resample('MS').mean(),2)\n",
    "vxdcls = pd.DataFrame(vxdcls, index = vxdcls.index, columns = ['vxdcls'])"
   ]
  },
  {
   "cell_type": "code",
   "execution_count": 101,
   "metadata": {},
   "outputs": [],
   "source": [
    "# St. Louis Fed Financial Stress Index (STLFSI)\n",
    "stlfsi = fred.get_series('stlfsi', start, end)\n",
    "stlfsi = round(stlfsi.resample('MS').mean(),2)\n",
    "stlfsi = pd.DataFrame(stlfsi, index = stlfsi.index, columns = ['stlfsi'])"
   ]
  },
  {
   "cell_type": "code",
   "execution_count": 102,
   "metadata": {},
   "outputs": [],
   "source": [
    "# Chicago Fed National Financial Conditions Index (NFCI)\n",
    "nfci = fred.get_series('nfci', start, end)\n",
    "nfci = round(nfci.resample('MS').mean(),2)\n",
    "nfci = pd.DataFrame(nfci, index = nfci.index, columns = ['nfci'])"
   ]
  },
  {
   "cell_type": "code",
   "execution_count": 103,
   "metadata": {},
   "outputs": [],
   "source": [
    "# Borrowings, All Commercial Banks (H8B3094NCBA)\n",
    "h8b3094ncba = fred.get_series('h8b3094ncba', start, end)\n",
    "h8b3094ncba = round(h8b3094ncba.resample('MS').mean(),2)\n",
    "h8b3094ncba = pd.DataFrame(h8b3094ncba, index = h8b3094ncba.index, columns = ['h8b3094ncba'])"
   ]
  },
  {
   "cell_type": "code",
   "execution_count": 104,
   "metadata": {},
   "outputs": [],
   "source": [
    "# Bank Credit, Domestically Chartered Commercial Banks (BC0DCBW027NBOG)\n",
    "bc0dcbw027nbog = fred.get_series('bc0dcbw027nbog', start, end)\n",
    "bc0dcbw027nbog = round(bc0dcbw027nbog.resample('MS').mean(),2)\n",
    "bc0dcbw027nbog = pd.DataFrame(bc0dcbw027nbog, index = bc0dcbw027nbog.index, columns = ['bc0dcbw027nbog'])"
   ]
  },
  {
   "cell_type": "code",
   "execution_count": 105,
   "metadata": {},
   "outputs": [],
   "source": [
    "# Cash Assets, Domestically Chartered Commercial Banks (CASDCBW027NBOG)\n",
    "casdcbw027nbog = fred.get_series('casdcbw027nbog', start, end)\n",
    "casdcbw027nbog = round(casdcbw027nbog.resample('MS').mean(),2)\n",
    "casdcbw027nbog = pd.DataFrame(casdcbw027nbog, index = casdcbw027nbog.index, columns = ['casdcbw027nbog'])"
   ]
  },
  {
   "cell_type": "code",
   "execution_count": 106,
   "metadata": {},
   "outputs": [],
   "source": [
    "# Commercial and Industrial Loans, Domestically Chartered Commercial Banks (CILDCBW027NBOG)\n",
    "cildcbw027nbog = fred.get_series('cildcbw027nbog', start, end)\n",
    "cildcbw027nbog = round(cildcbw027nbog.resample('MS').mean(),2)\n",
    "cildcbw027nbog = pd.DataFrame(cildcbw027nbog, index = cildcbw027nbog.index, columns = ['cildcbw027nbog'])"
   ]
  },
  {
   "cell_type": "code",
   "execution_count": 107,
   "metadata": {},
   "outputs": [],
   "source": [
    "# Deposits, Domestically Chartered Commercial Banks (DPSDCBW027NBOG)\n",
    "dpsdcbw027nbog = fred.get_series('dpsdcbw027nbog', start, end)\n",
    "dpsdcbw027nbog = round(dpsdcbw027nbog.resample('MS').mean(),2)\n",
    "dpsdcbw027nbog = pd.DataFrame(dpsdcbw027nbog, index = dpsdcbw027nbog.index, columns = ['dpsdcbw027nbog'])"
   ]
  },
  {
   "cell_type": "code",
   "execution_count": 108,
   "metadata": {},
   "outputs": [],
   "source": [
    "# Real Estate Loans: Residential Real Estate Loans: Revolving Home Equity Loans, Domestically Chartered Commercial Banks (RHEDCBW027NBOG)\n",
    "rhedcbw027nbog = fred.get_series('rhedcbw027nbog', start, end)\n",
    "rhedcbw027nbog = round(rhedcbw027nbog.resample('MS').mean(),2)\n",
    "rhedcbw027nbog = pd.DataFrame(rhedcbw027nbog, index = rhedcbw027nbog.index, columns = ['rhedcbw027nbog'])"
   ]
  },
  {
   "cell_type": "code",
   "execution_count": 109,
   "metadata": {},
   "outputs": [],
   "source": [
    "# Consumer Loans, All Commercial Banks (CLSACBW027NBOG)\n",
    "clsacbw027nbog = fred.get_series('clsacbw027nbog', start, end)\n",
    "clsacbw027nbog = round(clsacbw027nbog.resample('MS').mean(),2)\n",
    "clsacbw027nbog = pd.DataFrame(clsacbw027nbog, index = clsacbw027nbog.index, columns = ['clsacbw027nbog'])"
   ]
  },
  {
   "cell_type": "code",
   "execution_count": 110,
   "metadata": {},
   "outputs": [],
   "source": [
    "# Deposits, All Commercial Banks (DPSACBW027NBOG)\n",
    "dpsacbw027nbog = fred.get_series('dpsacbw027nbog', start, end)\n",
    "dpsacbw027nbog = round(dpsacbw027nbog.resample('MS').mean(),2)\n",
    "dpsacbw027nbog = pd.DataFrame(dpsacbw027nbog, index = dpsacbw027nbog.index, columns = ['dpsacbw027nbog'])"
   ]
  },
  {
   "cell_type": "code",
   "execution_count": 111,
   "metadata": {},
   "outputs": [],
   "source": [
    "# Real Estate Loans, All Commercial Banks (RELACBW027NBOG)\n",
    "relacbw027nbog = fred.get_series('relacbw027nbog', start, end)\n",
    "relacbw027nbog = round(relacbw027nbog.resample('MS').mean(),2)\n",
    "relacbw027nbog = pd.DataFrame(relacbw027nbog, index = relacbw027nbog.index, columns = ['relacbw027nbog'])"
   ]
  },
  {
   "cell_type": "code",
   "execution_count": 112,
   "metadata": {},
   "outputs": [],
   "source": [
    "# Real Estate Loans: Residential Real Estate Loans: Revolving Home Equity Loans, All Commercial Banks (RHEACBW027NBOG)\n",
    "rheacbw027nbog = fred.get_series('rheacbw027nbog', start, end)\n",
    "rheacbw027nbog = round(rheacbw027nbog.resample('MS').mean(),2)\n",
    "rheacbw027nbog = pd.DataFrame(rheacbw027nbog, index = rheacbw027nbog.index, columns = ['rheacbw027nbog'])"
   ]
  },
  {
   "cell_type": "code",
   "execution_count": 113,
   "metadata": {},
   "outputs": [],
   "source": [
    "# Total Assets, All Commercial Banks (TLAACBW027NBOG)\n",
    "tlaacbw027nbog = fred.get_series('tlaacbw027nbog', start, end)\n",
    "tlaacbw027nbog = round(tlaacbw027nbog.resample('MS').mean(),2)\n",
    "tlaacbw027nbog = pd.DataFrame(tlaacbw027nbog, index = tlaacbw027nbog.index, columns = ['tlaacbw027nbog'])"
   ]
  },
  {
   "cell_type": "code",
   "execution_count": 114,
   "metadata": {},
   "outputs": [],
   "source": [
    "# Total Liabilities, All Commercial Banks (TLBACBW027NBOG)\n",
    "tlbacbw027nbog = fred.get_series('tlbacbw027nbog', start, end)\n",
    "tlbacbw027nbog = round(tlbacbw027nbog.resample('MS').mean(),2)\n",
    "tlbacbw027nbog = pd.DataFrame(tlbacbw027nbog, index = tlbacbw027nbog.index, columns = ['tlbacbw027nbog'])"
   ]
  },
  {
   "cell_type": "code",
   "execution_count": 115,
   "metadata": {},
   "outputs": [],
   "source": [
    "# Commercial and Industrial Loans, All Commercial Banks (TOTCI)\n",
    "totci = fred.get_series('totci', start, end)\n",
    "totci = round(totci.resample('MS').mean(),2)\n",
    "totci = pd.DataFrame(totci, index = totci.index, columns = ['totci'])"
   ]
  },
  {
   "cell_type": "code",
   "execution_count": 116,
   "metadata": {},
   "outputs": [],
   "source": [
    "# Economic Policy Uncertainty Index for United States (USEPUINDXD)\n",
    "usepuindxd = fred.get_series('usepuindxd', start, end)\n",
    "usepuindxd = round(usepuindxd.resample('MS').mean(),2)\n",
    "usepuindxd = pd.DataFrame(usepuindxd, index = usepuindxd.index, columns = ['usepuindxd'])"
   ]
  },
  {
   "cell_type": "code",
   "execution_count": 117,
   "metadata": {},
   "outputs": [],
   "source": [
    "# Equity Market-related Economic Uncertainty Index (WLEMUINDXD)\n",
    "wlemuindxd = fred.get_series('wlemuindxd', start, end)\n",
    "wlemuindxd = round(wlemuindxd.resample('MS').mean(),2)\n",
    "wlemuindxd = pd.DataFrame(wlemuindxd, index = wlemuindxd.index, columns = ['wlemuindxd'])"
   ]
  },
  {
   "cell_type": "code",
   "execution_count": 118,
   "metadata": {},
   "outputs": [],
   "source": [
    "# Equity Market Volatility Tracker: Financial Crises (EMVFINCRISES)\n",
    "emvfincrises = fred.get_series('emvfincrises', start, end)\n",
    "emvfincrises = round(emvfincrises.resample('MS').mean(),2)\n",
    "emvfincrises = pd.DataFrame(emvfincrises, index = emvfincrises.index, columns = ['emvfincrises'])"
   ]
  },
  {
   "cell_type": "code",
   "execution_count": 119,
   "metadata": {},
   "outputs": [],
   "source": [
    "# Price Pressures Measure (STLPPM)\n",
    "stlppm = fred.get_series('stlppm', start, end)\n",
    "stlppm = round(stlppm.resample('MS').mean(),2)\n",
    "stlppm = pd.DataFrame(stlppm, index = stlppm.index, columns = ['stlppm'])"
   ]
  },
  {
   "cell_type": "code",
   "execution_count": 150,
   "metadata": {},
   "outputs": [
    {
     "data": {
      "text/html": [
       "<div>\n",
       "<style scoped>\n",
       "    .dataframe tbody tr th:only-of-type {\n",
       "        vertical-align: middle;\n",
       "    }\n",
       "\n",
       "    .dataframe tbody tr th {\n",
       "        vertical-align: top;\n",
       "    }\n",
       "\n",
       "    .dataframe thead th {\n",
       "        text-align: right;\n",
       "    }\n",
       "</style>\n",
       "<table border=\"1\" class=\"dataframe\">\n",
       "  <thead>\n",
       "    <tr style=\"text-align: right;\">\n",
       "      <th></th>\n",
       "      <th>usd1mtd156n</th>\n",
       "      <th>mortgage30us</th>\n",
       "      <th>mortgage15us</th>\n",
       "      <th>dcpf3m</th>\n",
       "      <th>cpn3m</th>\n",
       "      <th>dcpf1m</th>\n",
       "      <th>aaa</th>\n",
       "      <th>baa</th>\n",
       "      <th>dff</th>\n",
       "      <th>flexsc</th>\n",
       "      <th>...</th>\n",
       "      <th>dpsacbw027nbog</th>\n",
       "      <th>relacbw027nbog</th>\n",
       "      <th>rheacbw027nbog</th>\n",
       "      <th>tlaacbw027nbog</th>\n",
       "      <th>tlbacbw027nbog</th>\n",
       "      <th>totci</th>\n",
       "      <th>usepuindxd</th>\n",
       "      <th>wlemuindxd</th>\n",
       "      <th>emvfincrises</th>\n",
       "      <th>stlppm</th>\n",
       "    </tr>\n",
       "  </thead>\n",
       "  <tbody>\n",
       "    <tr>\n",
       "      <td>2019-09-01</td>\n",
       "      <td>2.04</td>\n",
       "      <td>3.61</td>\n",
       "      <td>3.12</td>\n",
       "      <td>2.03</td>\n",
       "      <td>1.95</td>\n",
       "      <td>2.02</td>\n",
       "      <td>3.03</td>\n",
       "      <td>3.91</td>\n",
       "      <td>2.04</td>\n",
       "      <td>2.08</td>\n",
       "      <td>...</td>\n",
       "      <td>12921.51</td>\n",
       "      <td>4542.70</td>\n",
       "      <td>329.93</td>\n",
       "      <td>17489.44</td>\n",
       "      <td>15505.06</td>\n",
       "      <td>2364.67</td>\n",
       "      <td>118.31</td>\n",
       "      <td>66.56</td>\n",
       "      <td>2.05</td>\n",
       "      <td>0.03</td>\n",
       "    </tr>\n",
       "    <tr>\n",
       "      <td>2019-10-01</td>\n",
       "      <td>1.88</td>\n",
       "      <td>3.69</td>\n",
       "      <td>3.14</td>\n",
       "      <td>1.88</td>\n",
       "      <td>1.80</td>\n",
       "      <td>1.83</td>\n",
       "      <td>3.01</td>\n",
       "      <td>3.92</td>\n",
       "      <td>1.83</td>\n",
       "      <td>1.90</td>\n",
       "      <td>...</td>\n",
       "      <td>13048.16</td>\n",
       "      <td>4565.98</td>\n",
       "      <td>326.53</td>\n",
       "      <td>17574.58</td>\n",
       "      <td>15607.03</td>\n",
       "      <td>2353.50</td>\n",
       "      <td>98.00</td>\n",
       "      <td>70.15</td>\n",
       "      <td>2.23</td>\n",
       "      <td>0.03</td>\n",
       "    </tr>\n",
       "    <tr>\n",
       "      <td>2019-11-01</td>\n",
       "      <td>1.74</td>\n",
       "      <td>3.70</td>\n",
       "      <td>3.16</td>\n",
       "      <td>1.77</td>\n",
       "      <td>1.62</td>\n",
       "      <td>1.61</td>\n",
       "      <td>3.06</td>\n",
       "      <td>3.94</td>\n",
       "      <td>1.55</td>\n",
       "      <td>1.72</td>\n",
       "      <td>...</td>\n",
       "      <td>13199.68</td>\n",
       "      <td>4587.52</td>\n",
       "      <td>323.88</td>\n",
       "      <td>17723.99</td>\n",
       "      <td>15755.28</td>\n",
       "      <td>2359.68</td>\n",
       "      <td>81.04</td>\n",
       "      <td>54.55</td>\n",
       "      <td>1.65</td>\n",
       "      <td>0.05</td>\n",
       "    </tr>\n",
       "    <tr>\n",
       "      <td>2019-12-01</td>\n",
       "      <td>1.75</td>\n",
       "      <td>3.72</td>\n",
       "      <td>3.18</td>\n",
       "      <td>1.76</td>\n",
       "      <td>1.70</td>\n",
       "      <td>1.65</td>\n",
       "      <td>3.01</td>\n",
       "      <td>3.88</td>\n",
       "      <td>1.55</td>\n",
       "      <td>1.70</td>\n",
       "      <td>...</td>\n",
       "      <td>13315.01</td>\n",
       "      <td>4602.73</td>\n",
       "      <td>321.61</td>\n",
       "      <td>17835.82</td>\n",
       "      <td>15861.60</td>\n",
       "      <td>2353.74</td>\n",
       "      <td>121.21</td>\n",
       "      <td>82.94</td>\n",
       "      <td>3.79</td>\n",
       "      <td>0.05</td>\n",
       "    </tr>\n",
       "    <tr>\n",
       "      <td>2020-01-01</td>\n",
       "      <td>1.67</td>\n",
       "      <td>3.62</td>\n",
       "      <td>3.07</td>\n",
       "      <td>1.65</td>\n",
       "      <td>1.58</td>\n",
       "      <td>1.57</td>\n",
       "      <td>2.94</td>\n",
       "      <td>3.77</td>\n",
       "      <td>1.55</td>\n",
       "      <td>1.63</td>\n",
       "      <td>...</td>\n",
       "      <td>13313.75</td>\n",
       "      <td>4601.30</td>\n",
       "      <td>319.09</td>\n",
       "      <td>17776.54</td>\n",
       "      <td>15816.22</td>\n",
       "      <td>2342.33</td>\n",
       "      <td>110.56</td>\n",
       "      <td>90.67</td>\n",
       "      <td>2.79</td>\n",
       "      <td>0.06</td>\n",
       "    </tr>\n",
       "  </tbody>\n",
       "</table>\n",
       "<p>5 rows × 55 columns</p>\n",
       "</div>"
      ],
      "text/plain": [
       "            usd1mtd156n  mortgage30us  mortgage15us  dcpf3m  cpn3m  dcpf1m  \\\n",
       "2019-09-01         2.04          3.61          3.12    2.03   1.95    2.02   \n",
       "2019-10-01         1.88          3.69          3.14    1.88   1.80    1.83   \n",
       "2019-11-01         1.74          3.70          3.16    1.77   1.62    1.61   \n",
       "2019-12-01         1.75          3.72          3.18    1.76   1.70    1.65   \n",
       "2020-01-01         1.67          3.62          3.07    1.65   1.58    1.57   \n",
       "\n",
       "             aaa   baa   dff  flexsc  ...  dpsacbw027nbog  relacbw027nbog  \\\n",
       "2019-09-01  3.03  3.91  2.04    2.08  ...        12921.51         4542.70   \n",
       "2019-10-01  3.01  3.92  1.83    1.90  ...        13048.16         4565.98   \n",
       "2019-11-01  3.06  3.94  1.55    1.72  ...        13199.68         4587.52   \n",
       "2019-12-01  3.01  3.88  1.55    1.70  ...        13315.01         4602.73   \n",
       "2020-01-01  2.94  3.77  1.55    1.63  ...        13313.75         4601.30   \n",
       "\n",
       "            rheacbw027nbog  tlaacbw027nbog  tlbacbw027nbog    totci  \\\n",
       "2019-09-01          329.93        17489.44        15505.06  2364.67   \n",
       "2019-10-01          326.53        17574.58        15607.03  2353.50   \n",
       "2019-11-01          323.88        17723.99        15755.28  2359.68   \n",
       "2019-12-01          321.61        17835.82        15861.60  2353.74   \n",
       "2020-01-01          319.09        17776.54        15816.22  2342.33   \n",
       "\n",
       "            usepuindxd  wlemuindxd  emvfincrises  stlppm  \n",
       "2019-09-01      118.31       66.56          2.05    0.03  \n",
       "2019-10-01       98.00       70.15          2.23    0.03  \n",
       "2019-11-01       81.04       54.55          1.65    0.05  \n",
       "2019-12-01      121.21       82.94          3.79    0.05  \n",
       "2020-01-01      110.56       90.67          2.79    0.06  \n",
       "\n",
       "[5 rows x 55 columns]"
      ]
     },
     "execution_count": 150,
     "metadata": {},
     "output_type": "execute_result"
    }
   ],
   "source": [
    "rates_list = [usd1mtd156n, mortgage30us, mortgage15us, dcpf3m, cpn3m, dcpf1m, aaa, baa, dff, flexsc, t10y2y, t10y3m, tedrate, t10yff, t5yff, tb6smffm, usd3mtd156n, usd12md156n, \n",
    "              eur1wkd156n, mprime, tb3ms, tb1yr, dtb6, dgs10, dfii10, dgs3mo, dgs30, dexuseu, dexchus, dexusuk, dexsius, nasdaqcom, willreitind, willlrgcap, willsmlcap, vxdcls, \n",
    "              stlfsi, nfci, h8b3094ncba, bc0dcbw027nbog, casdcbw027nbog, cildcbw027nbog, dpsdcbw027nbog, rhedcbw027nbog, clsacbw027nbog, dpsacbw027nbog, relacbw027nbog, rheacbw027nbog, \n",
    "              tlaacbw027nbog, tlbacbw027nbog, totci, usepuindxd, wlemuindxd, emvfincrises, stlppm]\n",
    "rates_df = pd.concat(rates_list, axis = 1)\n",
    "rates_df.tail(5)"
   ]
  },
  {
   "cell_type": "markdown",
   "metadata": {},
   "source": [
    "## Clean Rates DF"
   ]
  },
  {
   "cell_type": "code",
   "execution_count": 153,
   "metadata": {},
   "outputs": [
    {
     "data": {
      "text/html": [
       "<div>\n",
       "<style scoped>\n",
       "    .dataframe tbody tr th:only-of-type {\n",
       "        vertical-align: middle;\n",
       "    }\n",
       "\n",
       "    .dataframe tbody tr th {\n",
       "        vertical-align: top;\n",
       "    }\n",
       "\n",
       "    .dataframe thead th {\n",
       "        text-align: right;\n",
       "    }\n",
       "</style>\n",
       "<table border=\"1\" class=\"dataframe\">\n",
       "  <thead>\n",
       "    <tr style=\"text-align: right;\">\n",
       "      <th></th>\n",
       "      <th>cpn3m</th>\n",
       "      <th>tb1yr</th>\n",
       "      <th>dfii10</th>\n",
       "      <th>dgs30</th>\n",
       "    </tr>\n",
       "  </thead>\n",
       "  <tbody>\n",
       "    <tr>\n",
       "      <td>2000-02-01</td>\n",
       "      <td>5.87</td>\n",
       "      <td>5.84</td>\n",
       "      <td>NaN</td>\n",
       "      <td>6.23</td>\n",
       "    </tr>\n",
       "    <tr>\n",
       "      <td>2000-03-01</td>\n",
       "      <td>6.00</td>\n",
       "      <td>5.86</td>\n",
       "      <td>NaN</td>\n",
       "      <td>6.05</td>\n",
       "    </tr>\n",
       "    <tr>\n",
       "      <td>2000-04-01</td>\n",
       "      <td>6.11</td>\n",
       "      <td>5.80</td>\n",
       "      <td>NaN</td>\n",
       "      <td>5.85</td>\n",
       "    </tr>\n",
       "    <tr>\n",
       "      <td>2000-05-01</td>\n",
       "      <td>6.54</td>\n",
       "      <td>5.94</td>\n",
       "      <td>NaN</td>\n",
       "      <td>6.15</td>\n",
       "    </tr>\n",
       "    <tr>\n",
       "      <td>2000-06-01</td>\n",
       "      <td>6.57</td>\n",
       "      <td>5.83</td>\n",
       "      <td>NaN</td>\n",
       "      <td>5.93</td>\n",
       "    </tr>\n",
       "    <tr>\n",
       "      <td>...</td>\n",
       "      <td>...</td>\n",
       "      <td>...</td>\n",
       "      <td>...</td>\n",
       "      <td>...</td>\n",
       "    </tr>\n",
       "    <tr>\n",
       "      <td>2019-09-01</td>\n",
       "      <td>1.95</td>\n",
       "      <td>1.75</td>\n",
       "      <td>0.11</td>\n",
       "      <td>2.16</td>\n",
       "    </tr>\n",
       "    <tr>\n",
       "      <td>2019-10-01</td>\n",
       "      <td>1.80</td>\n",
       "      <td>1.57</td>\n",
       "      <td>0.15</td>\n",
       "      <td>2.19</td>\n",
       "    </tr>\n",
       "    <tr>\n",
       "      <td>2019-11-01</td>\n",
       "      <td>1.62</td>\n",
       "      <td>1.53</td>\n",
       "      <td>0.17</td>\n",
       "      <td>2.28</td>\n",
       "    </tr>\n",
       "    <tr>\n",
       "      <td>2019-12-01</td>\n",
       "      <td>1.70</td>\n",
       "      <td>1.51</td>\n",
       "      <td>0.14</td>\n",
       "      <td>2.30</td>\n",
       "    </tr>\n",
       "    <tr>\n",
       "      <td>2020-01-01</td>\n",
       "      <td>1.58</td>\n",
       "      <td>1.49</td>\n",
       "      <td>0.04</td>\n",
       "      <td>2.22</td>\n",
       "    </tr>\n",
       "  </tbody>\n",
       "</table>\n",
       "<p>240 rows × 4 columns</p>\n",
       "</div>"
      ],
      "text/plain": [
       "            cpn3m  tb1yr  dfii10  dgs30\n",
       "2000-02-01   5.87   5.84     NaN   6.23\n",
       "2000-03-01   6.00   5.86     NaN   6.05\n",
       "2000-04-01   6.11   5.80     NaN   5.85\n",
       "2000-05-01   6.54   5.94     NaN   6.15\n",
       "2000-06-01   6.57   5.83     NaN   5.93\n",
       "...           ...    ...     ...    ...\n",
       "2019-09-01   1.95   1.75    0.11   2.16\n",
       "2019-10-01   1.80   1.57    0.15   2.19\n",
       "2019-11-01   1.62   1.53    0.17   2.28\n",
       "2019-12-01   1.70   1.51    0.14   2.30\n",
       "2020-01-01   1.58   1.49    0.04   2.22\n",
       "\n",
       "[240 rows x 4 columns]"
      ]
     },
     "execution_count": 153,
     "metadata": {},
     "output_type": "execute_result"
    }
   ],
   "source": [
    "rates_df.loc[:, rates_df.isna().any()]"
   ]
  },
  {
   "cell_type": "code",
   "execution_count": 154,
   "metadata": {},
   "outputs": [
    {
     "name": "stdout",
     "output_type": "stream",
     "text": [
      "<class 'pandas.core.frame.DataFrame'>\n",
      "DatetimeIndex: 240 entries, 2000-02-01 to 2020-01-01\n",
      "Freq: MS\n",
      "Data columns (total 55 columns):\n",
      "usd1mtd156n       240 non-null float64\n",
      "mortgage30us      240 non-null float64\n",
      "mortgage15us      240 non-null float64\n",
      "dcpf3m            240 non-null float64\n",
      "cpn3m             236 non-null float64\n",
      "dcpf1m            240 non-null float64\n",
      "aaa               240 non-null float64\n",
      "baa               240 non-null float64\n",
      "dff               240 non-null float64\n",
      "flexsc            240 non-null float64\n",
      "t10y2y            240 non-null float64\n",
      "t10y3m            240 non-null float64\n",
      "tedrate           240 non-null float64\n",
      "t10yff            240 non-null float64\n",
      "t5yff             240 non-null float64\n",
      "tb6smffm          240 non-null float64\n",
      "usd3mtd156n       240 non-null float64\n",
      "usd12md156n       240 non-null float64\n",
      "eur1wkd156n       240 non-null float64\n",
      "mprime            240 non-null float64\n",
      "tb3ms             240 non-null float64\n",
      "tb1yr             159 non-null float64\n",
      "dtb6              240 non-null float64\n",
      "dgs10             240 non-null float64\n",
      "dfii10            205 non-null float64\n",
      "dgs3mo            240 non-null float64\n",
      "dgs30             193 non-null float64\n",
      "dexuseu           240 non-null float64\n",
      "dexchus           240 non-null float64\n",
      "dexusuk           240 non-null float64\n",
      "dexsius           240 non-null float64\n",
      "nasdaqcom         240 non-null float64\n",
      "willreitind       240 non-null float64\n",
      "willlrgcap        240 non-null float64\n",
      "willsmlcap        240 non-null float64\n",
      "vxdcls            240 non-null float64\n",
      "stlfsi            240 non-null float64\n",
      "nfci              240 non-null float64\n",
      "h8b3094ncba       240 non-null float64\n",
      "bc0dcbw027nbog    240 non-null float64\n",
      "casdcbw027nbog    240 non-null float64\n",
      "cildcbw027nbog    240 non-null float64\n",
      "dpsdcbw027nbog    240 non-null float64\n",
      "rhedcbw027nbog    240 non-null float64\n",
      "clsacbw027nbog    240 non-null float64\n",
      "dpsacbw027nbog    240 non-null float64\n",
      "relacbw027nbog    240 non-null float64\n",
      "rheacbw027nbog    240 non-null float64\n",
      "tlaacbw027nbog    240 non-null float64\n",
      "tlbacbw027nbog    240 non-null float64\n",
      "totci             240 non-null float64\n",
      "usepuindxd        240 non-null float64\n",
      "wlemuindxd        240 non-null float64\n",
      "emvfincrises      240 non-null float64\n",
      "stlppm            240 non-null float64\n",
      "dtypes: float64(55)\n",
      "memory usage: 115.0 KB\n"
     ]
    }
   ],
   "source": [
    "rates_df.info()"
   ]
  },
  {
   "cell_type": "code",
   "execution_count": 155,
   "metadata": {},
   "outputs": [],
   "source": [
    "rates_df.drop(labels = ['tb1yr', 'dgs30', 'dfii10'], axis = 1, inplace = True)"
   ]
  },
  {
   "cell_type": "code",
   "execution_count": 156,
   "metadata": {},
   "outputs": [],
   "source": [
    "rates_df.cpn3m = rates_df.cpn3m.ffill()"
   ]
  },
  {
   "cell_type": "code",
   "execution_count": 157,
   "metadata": {},
   "outputs": [],
   "source": [
    "AMT_rates = pd.concat([AMT, rates_df], axis = 1)\n",
    "ELS_rates = pd.concat([ELS, rates_df], axis = 1)\n",
    "PLD_rates = pd.concat([PLD, rates_df], axis = 1)\n",
    "FR_rates = pd.concat([FR, rates_df], axis = 1)\n",
    "MAA_rates = pd.concat([MAA, rates_df], axis = 1)\n",
    "SUI_rates = pd.concat([SUI, rates_df], axis = 1)\n",
    "BXMT_rates = pd.concat([BXMT, rates_df], axis = 1)\n",
    "RHP_rates = pd.concat([RHP, rates_df], axis = 1)\n",
    "indicators_dict = {'AMT': AMT_rates, 'ELS': ELS_rates, 'PLD': PLD_rates, 'FR':FR_rates, 'MAA': MAA_rates, 'SUI': SUI_rates, 'BXMT': BXMT_rates, 'RHP': RHP_rates}"
   ]
  },
  {
   "cell_type": "code",
   "execution_count": 158,
   "metadata": {},
   "outputs": [],
   "source": [
    "AMT_target = AMT_rates['mid']\n",
    "AMT_rates  = AMT_rates.drop(['mid'], axis = 1)"
   ]
  },
  {
   "cell_type": "code",
   "execution_count": null,
   "metadata": {},
   "outputs": [],
   "source": []
  },
  {
   "cell_type": "code",
   "execution_count": 159,
   "metadata": {},
   "outputs": [],
   "source": [
    "scale = MinMaxScaler()\n",
    "AMT_rates_trans = scale.fit_transform(AMT_rates)"
   ]
  },
  {
   "cell_type": "code",
   "execution_count": 160,
   "metadata": {},
   "outputs": [],
   "source": [
    "def rmse_cv(model, X, y):\n",
    "    rmse= np.sqrt(-cross_val_score(model, X, y, scoring=\"neg_mean_squared_error\", cv = 5))\n",
    "    return(rmse)"
   ]
  },
  {
   "cell_type": "code",
   "execution_count": 161,
   "metadata": {},
   "outputs": [
    {
     "data": {
      "text/plain": [
       "21.725883419320716"
      ]
     },
     "execution_count": 161,
     "metadata": {},
     "output_type": "execute_result"
    }
   ],
   "source": [
    "model_lasso = LassoCV(alphas = [1, 0.1, 0.001, 0.0005]).fit(AMT_rates_trans, AMT_target)\n",
    "rmse_cv(model_lasso, AMT_rates, AMT_target).mean()"
   ]
  },
  {
   "cell_type": "code",
   "execution_count": 162,
   "metadata": {},
   "outputs": [
    {
     "data": {
      "text/plain": [
       "usd1mtd156n       -0.000000\n",
       "mortgage30us      -0.000000\n",
       "mortgage15us      -0.000000\n",
       "dcpf3m            -0.000000\n",
       "cpn3m             -0.000000\n",
       "dcpf1m            -0.000000\n",
       "aaa               -0.000000\n",
       "baa               -0.000000\n",
       "dff               -0.000000\n",
       "flexsc            -0.000000\n",
       "t10y2y             0.000000\n",
       "t10y3m            -0.000000\n",
       "tedrate           -0.000000\n",
       "t10yff            -0.000000\n",
       "t5yff            -18.336217\n",
       "tb6smffm          -0.000000\n",
       "usd3mtd156n       -0.000000\n",
       "usd12md156n       -0.317940\n",
       "eur1wkd156n      -12.423688\n",
       "mprime            -0.000000\n",
       "tb3ms             -0.000000\n",
       "dtb6              -0.000000\n",
       "dgs10            -13.391384\n",
       "dgs3mo            -0.000000\n",
       "dexuseu            0.000000\n",
       "dexchus           -0.000000\n",
       "dexusuk          -13.744144\n",
       "dexsius          -18.236983\n",
       "nasdaqcom         83.502515\n",
       "willreitind        0.000000\n",
       "willlrgcap        72.947797\n",
       "willsmlcap        -0.000000\n",
       "vxdcls             0.000000\n",
       "stlfsi             0.000000\n",
       "nfci               0.000000\n",
       "h8b3094ncba        0.000000\n",
       "bc0dcbw027nbog     2.883686\n",
       "casdcbw027nbog   -23.898681\n",
       "cildcbw027nbog    19.136905\n",
       "dpsdcbw027nbog     0.000000\n",
       "rhedcbw027nbog     0.000000\n",
       "clsacbw027nbog     7.876150\n",
       "dpsacbw027nbog     0.000000\n",
       "relacbw027nbog     0.000000\n",
       "rheacbw027nbog     0.000000\n",
       "tlaacbw027nbog     0.000000\n",
       "tlbacbw027nbog     0.000000\n",
       "totci              0.000000\n",
       "usepuindxd         3.622856\n",
       "wlemuindxd         0.000000\n",
       "emvfincrises       0.000000\n",
       "stlppm            -2.377240\n",
       "dtype: float64"
      ]
     },
     "execution_count": 162,
     "metadata": {},
     "output_type": "execute_result"
    }
   ],
   "source": [
    "coef = pd.Series(model_lasso.coef_, index = AMT_rates.columns)\n",
    "coef"
   ]
  },
  {
   "cell_type": "code",
   "execution_count": 163,
   "metadata": {},
   "outputs": [
    {
     "name": "stdout",
     "output_type": "stream",
     "text": [
      "Lasso picked 14 variables and eliminated the other 38 variables\n"
     ]
    }
   ],
   "source": [
    "print(\"Lasso picked \" + str(sum(coef != 0)) + \" variables and eliminated the other \" +  str(sum(coef == 0)) + \" variables\")"
   ]
  },
  {
   "cell_type": "code",
   "execution_count": 164,
   "metadata": {},
   "outputs": [
    {
     "data": {
      "text/plain": [
       "Text(0.5, 1.0, 'Coefficients in the Lasso Model')"
      ]
     },
     "execution_count": 164,
     "metadata": {},
     "output_type": "execute_result"
    },
    {
     "data": {
      "image/png": "[encoded data removed]",
      "text/plain": [
       "<Figure size 576x720 with 1 Axes>"
      ]
     },
     "metadata": {
      "needs_background": "light"
     },
     "output_type": "display_data"
    }
   ],
   "source": [
    "imp_coef = pd.concat([coef.sort_values().head(10),\n",
    "                     coef.sort_values().tail(10)])\n",
    "matplotlib.rcParams['figure.figsize'] = (8.0, 10.0)\n",
    "imp_coef.plot(kind = \"barh\")\n",
    "plt.title(\"Coefficients in the Lasso Model\")"
   ]
  },
  {
   "cell_type": "code",
   "execution_count": 165,
   "metadata": {},
   "outputs": [
    {
     "data": {
      "text/plain": [
       "<matplotlib.axes._subplots.AxesSubplot at 0x11a3d3eb8>"
      ]
     },
     "execution_count": 165,
     "metadata": {},
     "output_type": "execute_result"
    },
    {
     "data": {
      "image/png": "[encoded data removed]",
      "text/plain": [
       "<Figure size 432x432 with 1 Axes>"
      ]
     },
     "metadata": {
      "needs_background": "light"
     },
     "output_type": "display_data"
    }
   ],
   "source": [
    "matplotlib.rcParams['figure.figsize'] = (6.0, 6.0)\n",
    "preds = pd.DataFrame({\"preds\":model_lasso.predict(AMT_rates), \"true\":AMT_target})\n",
    "preds[\"residuals\"] = preds[\"true\"] - preds[\"preds\"]\n",
    "preds.plot(x = \"preds\", y = \"residuals\",kind = \"scatter\")"
   ]
  },
  {
   "cell_type": "markdown",
   "metadata": {},
   "source": [
    "## Lasso Regression (Least Absolute Shrinkage and Selection Operator)"
   ]
  },
  {
   "cell_type": "code",
   "execution_count": 2,
   "metadata": {},
   "outputs": [],
   "source": []
  },
  {
   "cell_type": "code",
   "execution_count": 3,
   "metadata": {},
   "outputs": [
    {
     "ename": "NameError",
     "evalue": "name 'FR_rates' is not defined",
     "output_type": "error",
     "traceback": [
      "\u001b[0;31m---------------------------------------------------------------------------\u001b[0m",
      "\u001b[0;31mNameError\u001b[0m                                 Traceback (most recent call last)",
      "\u001b[0;32m<ipython-input-3-4b8cdf199004>\u001b[0m in \u001b[0;36m<module>\u001b[0;34m\u001b[0m\n\u001b[0;32m----> 1\u001b[0;31m \u001b[0mlasso_regression\u001b[0m\u001b[0;34m(\u001b[0m\u001b[0mFR_rates\u001b[0m\u001b[0;34m)\u001b[0m\u001b[0;34m\u001b[0m\u001b[0;34m\u001b[0m\u001b[0m\n\u001b[0m",
      "\u001b[0;31mNameError\u001b[0m: name 'FR_rates' is not defined"
     ]
    }
   ],
   "source": [
    "lasso_regression(FR_rates)"
   ]
  },
  {
   "cell_type": "code",
   "execution_count": null,
   "metadata": {},
   "outputs": [],
   "source": []
  },
  {
   "cell_type": "code",
   "execution_count": 170,
   "metadata": {},
   "outputs": [],
   "source": []
  },
  {
   "cell_type": "code",
   "execution_count": null,
   "metadata": {},
   "outputs": [],
   "source": []
  },
  {
   "cell_type": "code",
   "execution_count": null,
   "metadata": {},
   "outputs": [],
   "source": []
  }
 ],
 "metadata": {
  "kernelspec": {
   "display_name": "Python 3",
   "language": "python",
   "name": "python3"
  },
  "language_info": {
   "codemirror_mode": {
    "name": "ipython",
    "version": 3
   },
   "file_extension": ".py",
   "mimetype": "text/x-python",
   "name": "python",
   "nbconvert_exporter": "python",
   "pygments_lexer": "ipython3",
   "version": "3.6.9"
  }
 },
 "nbformat": 4,
 "nbformat_minor": 4
}
